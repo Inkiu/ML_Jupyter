{
 "cells": [
  {
   "cell_type": "code",
   "execution_count": 1,
   "metadata": {},
   "outputs": [
    {
     "name": "stderr",
     "output_type": "stream",
     "text": [
      "Using TensorFlow backend.\n"
     ]
    }
   ],
   "source": [
    "from keras.datasets import imdb\n",
    "from keras import models\n",
    "from keras import layers\n",
    "from keras import regularizers\n",
    "import matplotlib.pyplot as plt\n",
    "import numpy as np"
   ]
  },
  {
   "cell_type": "code",
   "execution_count": 2,
   "metadata": {},
   "outputs": [],
   "source": [
    "epoch = 30"
   ]
  },
  {
   "cell_type": "code",
   "execution_count": 3,
   "metadata": {},
   "outputs": [],
   "source": [
    "(x_train, y_train), (x_test, y_test) = imdb.load_data(num_words=10000)"
   ]
  },
  {
   "cell_type": "code",
   "execution_count": 4,
   "metadata": {},
   "outputs": [
    {
     "data": {
      "text/plain": [
       "\" ?  this has to be one of the worst films of the 1990s when my friends i were watching this film being the target audience it was aimed at we just sat watched the first half an hour with our jaws touching the floor at how bad it really was the rest of the time everyone else in the theatre just started talking to each other leaving or generally crying into their popcorn that they actually paid money they had  ?  working to watch this feeble excuse for a film it must have looked like a great idea on paper but on film it looks like no one in the film has a clue what is going on crap acting crap costumes i can't get across how  ?  this is to watch save yourself an hour a bit of your life\""
      ]
     },
     "execution_count": 4,
     "metadata": {},
     "output_type": "execute_result"
    }
   ],
   "source": [
    "word_index = imdb.get_word_index()\n",
    "reversed_word_index = dict([(v, k) for (k, v) in word_index.items()])\n",
    "decoded_review = ' '.join([reversed_word_index.get(i - 3, ' ? ') for i in x_train[2]])\n",
    "decoded_review"
   ]
  },
  {
   "cell_type": "code",
   "execution_count": 5,
   "metadata": {},
   "outputs": [],
   "source": [
    "def vectorize_sequences(sequences, dimension = 10000):\n",
    "    results = np.zeros((len(sequences), dimension))\n",
    "    for i, sequence in enumerate(sequences):\n",
    "        results[i, sequence] = 1.\n",
    "    return results"
   ]
  },
  {
   "cell_type": "code",
   "execution_count": 6,
   "metadata": {},
   "outputs": [],
   "source": [
    "x_train = vectorize_sequences(x_train)\n",
    "x_test = vectorize_sequences(x_test)"
   ]
  },
  {
   "cell_type": "code",
   "execution_count": 7,
   "metadata": {},
   "outputs": [],
   "source": [
    "y_train = np.asarray(y_train).astype('float32')\n",
    "y_test = np.asarray(y_test).astype('float32')"
   ]
  },
  {
   "cell_type": "code",
   "execution_count": 8,
   "metadata": {},
   "outputs": [],
   "source": [
    "x_val = x_train[:5000]\n",
    "partial_x_train = x_train[5000:]\n",
    "y_val = y_train[:5000]\n",
    "partial_y_train = y_train[5000:]"
   ]
  },
  {
   "cell_type": "code",
   "execution_count": 9,
   "metadata": {},
   "outputs": [],
   "source": [
    "def build_model(input_sh, regularize_l1 = 0.0, regularize_l2 = 0.0):\n",
    "    network = models.Sequential()\n",
    "    network.add(layers.Dense(16, kernel_regularizer = regularizers.l1_l2(regularize_l1, regularize_l2),\n",
    "                             activation = 'tanh', input_shape=(input_sh,)))\n",
    "    network.add(layers.Dense(16, kernel_regularizer = regularizers.l1_l2(regularize_l1, regularize_l2),\n",
    "                             activation = 'tanh', input_shape=(input_sh,)))\n",
    "    network.add(layers.Dense(1, activation = 'sigmoid'))\n",
    "    return network"
   ]
  },
  {
   "cell_type": "code",
   "execution_count": 10,
   "metadata": {},
   "outputs": [],
   "source": [
    "def run_model(net, train_data, train_target, val_data, val_target, epoch, batch, verbose = 1):\n",
    "    net.compile(\n",
    "        loss = 'binary_crossentropy',\n",
    "        optimizer = 'rmsprop',\n",
    "        metrics = ['accuracy']\n",
    "    )\n",
    "    history = net.fit(\n",
    "        train_data, train_target,\n",
    "        validation_data = (val_data, val_target),\n",
    "        epochs = epoch,\n",
    "        batch_size = batch,\n",
    "        verbose = verbose\n",
    "    )\n",
    "    return history"
   ]
  },
  {
   "cell_type": "code",
   "execution_count": 11,
   "metadata": {
    "scrolled": true
   },
   "outputs": [
    {
     "name": "stdout",
     "output_type": "stream",
     "text": [
      "Train on 20000 samples, validate on 5000 samples\n",
      "Epoch 1/30\n",
      "20000/20000 [==============================] - 3s 157us/step - loss: 0.4464 - acc: 0.8149 - val_loss: 0.3419 - val_acc: 0.8678\n",
      "Epoch 2/30\n",
      "20000/20000 [==============================] - 3s 134us/step - loss: 0.2509 - acc: 0.9102 - val_loss: 0.2926 - val_acc: 0.8818\n",
      "Epoch 3/30\n",
      "20000/20000 [==============================] - 3s 139us/step - loss: 0.1808 - acc: 0.9369 - val_loss: 0.2715 - val_acc: 0.8934\n",
      "Epoch 4/30\n",
      "20000/20000 [==============================] - 3s 153us/step - loss: 0.1463 - acc: 0.9473 - val_loss: 0.2874 - val_acc: 0.8906\n",
      "Epoch 5/30\n",
      "20000/20000 [==============================] - 3s 137us/step - loss: 0.1189 - acc: 0.9580 - val_loss: 0.3077 - val_acc: 0.8896\n",
      "Epoch 6/30\n",
      "20000/20000 [==============================] - 3s 133us/step - loss: 0.0982 - acc: 0.9668 - val_loss: 0.3484 - val_acc: 0.8850\n",
      "Epoch 7/30\n",
      "20000/20000 [==============================] - 3s 134us/step - loss: 0.0887 - acc: 0.9701 - val_loss: 0.3651 - val_acc: 0.8842\n",
      "Epoch 8/30\n",
      "20000/20000 [==============================] - 3s 136us/step - loss: 0.0687 - acc: 0.9786 - val_loss: 0.4511 - val_acc: 0.8684\n",
      "Epoch 9/30\n",
      "20000/20000 [==============================] - 3s 135us/step - loss: 0.0624 - acc: 0.9802 - val_loss: 0.4843 - val_acc: 0.8666\n",
      "Epoch 10/30\n",
      "20000/20000 [==============================] - 3s 135us/step - loss: 0.0549 - acc: 0.9833 - val_loss: 0.5246 - val_acc: 0.8626\n",
      "Epoch 11/30\n",
      "20000/20000 [==============================] - 3s 135us/step - loss: 0.0379 - acc: 0.9897 - val_loss: 0.5280 - val_acc: 0.8730\n",
      "Epoch 12/30\n",
      "20000/20000 [==============================] - 3s 135us/step - loss: 0.0461 - acc: 0.9856 - val_loss: 0.5896 - val_acc: 0.8628\n",
      "Epoch 13/30\n",
      "20000/20000 [==============================] - 3s 135us/step - loss: 0.0332 - acc: 0.9904 - val_loss: 0.6152 - val_acc: 0.8638\n",
      "Epoch 14/30\n",
      "20000/20000 [==============================] - 3s 138us/step - loss: 0.0292 - acc: 0.9917 - val_loss: 0.6278 - val_acc: 0.8650\n",
      "Epoch 15/30\n",
      "20000/20000 [==============================] - 3s 139us/step - loss: 0.0281 - acc: 0.9927 - val_loss: 0.6569 - val_acc: 0.8648\n",
      "Epoch 16/30\n",
      "20000/20000 [==============================] - 3s 134us/step - loss: 0.0247 - acc: 0.9925 - val_loss: 0.6763 - val_acc: 0.8650\n",
      "Epoch 17/30\n",
      "20000/20000 [==============================] - 3s 138us/step - loss: 0.0213 - acc: 0.9942 - val_loss: 0.7063 - val_acc: 0.8654\n",
      "Epoch 18/30\n",
      "20000/20000 [==============================] - 3s 134us/step - loss: 0.0226 - acc: 0.9940 - val_loss: 0.7442 - val_acc: 0.8610\n",
      "Epoch 19/30\n",
      "20000/20000 [==============================] - 3s 134us/step - loss: 0.0067 - acc: 0.9988 - val_loss: 0.7726 - val_acc: 0.8618\n",
      "Epoch 20/30\n",
      "20000/20000 [==============================] - 3s 134us/step - loss: 0.0181 - acc: 0.9949 - val_loss: 0.7918 - val_acc: 0.8598\n",
      "Epoch 21/30\n",
      "20000/20000 [==============================] - 3s 134us/step - loss: 0.0040 - acc: 0.9995 - val_loss: 0.8342 - val_acc: 0.8586\n",
      "Epoch 22/30\n",
      "20000/20000 [==============================] - 3s 134us/step - loss: 0.0132 - acc: 0.9960 - val_loss: 0.8365 - val_acc: 0.8618\n",
      "Epoch 23/30\n",
      "20000/20000 [==============================] - 3s 134us/step - loss: 0.0035 - acc: 0.9996 - val_loss: 0.8973 - val_acc: 0.8570\n",
      "Epoch 24/30\n",
      "20000/20000 [==============================] - 3s 135us/step - loss: 0.0026 - acc: 0.9997 - val_loss: 0.8974 - val_acc: 0.8600\n",
      "Epoch 25/30\n",
      "20000/20000 [==============================] - 3s 135us/step - loss: 0.0133 - acc: 0.9968 - val_loss: 0.9265 - val_acc: 0.8606\n",
      "Epoch 26/30\n",
      "20000/20000 [==============================] - 3s 135us/step - loss: 0.0013 - acc: 0.9999 - val_loss: 0.9508 - val_acc: 0.8604\n",
      "Epoch 27/30\n",
      "20000/20000 [==============================] - 3s 134us/step - loss: 0.0139 - acc: 0.9963 - val_loss: 0.9699 - val_acc: 0.8572\n",
      "Epoch 28/30\n",
      "20000/20000 [==============================] - 3s 134us/step - loss: 3.7033e-04 - acc: 1.0000 - val_loss: 0.9953 - val_acc: 0.8586\n",
      "Epoch 29/30\n",
      "20000/20000 [==============================] - 3s 134us/step - loss: 0.0181 - acc: 0.9958 - val_loss: 1.0236 - val_acc: 0.8580\n",
      "Epoch 30/30\n",
      "20000/20000 [==============================] - 3s 134us/step - loss: 2.4199e-04 - acc: 1.0000 - val_loss: 1.0391 - val_acc: 0.8568\n"
     ]
    }
   ],
   "source": [
    "normal_net = build_model(partial_x_train.shape[1], 0.0, 0.0)\n",
    "normal_history = run_model(normal_net, partial_x_train, partial_y_train, x_val, y_val, epoch, 512)"
   ]
  },
  {
   "cell_type": "code",
   "execution_count": 12,
   "metadata": {},
   "outputs": [
    {
     "name": "stdout",
     "output_type": "stream",
     "text": [
      "Train on 20000 samples, validate on 5000 samples\n",
      "Epoch 1/30\n",
      "20000/20000 [==============================] - 3s 146us/step - loss: 4.1964 - acc: 0.6708 - val_loss: 1.9779 - val_acc: 0.6982\n",
      "Epoch 2/30\n",
      "20000/20000 [==============================] - 3s 150us/step - loss: 1.8945 - acc: 0.7361 - val_loss: 1.8771 - val_acc: 0.7098\n",
      "Epoch 3/30\n",
      "20000/20000 [==============================] - 3s 163us/step - loss: 1.7992 - acc: 0.7658 - val_loss: 1.8288 - val_acc: 0.6564\n",
      "Epoch 4/30\n",
      "20000/20000 [==============================] - 3s 147us/step - loss: 1.7132 - acc: 0.7759 - val_loss: 1.7101 - val_acc: 0.7874\n",
      "Epoch 5/30\n",
      "20000/20000 [==============================] - 3s 147us/step - loss: 1.6352 - acc: 0.7908 - val_loss: 1.6350 - val_acc: 0.7978\n",
      "Epoch 6/30\n",
      "20000/20000 [==============================] - 3s 139us/step - loss: 1.5704 - acc: 0.7942 - val_loss: 1.5623 - val_acc: 0.8020\n",
      "Epoch 7/30\n",
      "20000/20000 [==============================] - 3s 134us/step - loss: 1.5134 - acc: 0.8028 - val_loss: 1.5439 - val_acc: 0.7792\n",
      "Epoch 8/30\n",
      "20000/20000 [==============================] - 3s 134us/step - loss: 1.4750 - acc: 0.8049 - val_loss: 1.4873 - val_acc: 0.8074\n",
      "Epoch 9/30\n",
      "20000/20000 [==============================] - 3s 135us/step - loss: 1.4371 - acc: 0.8116 - val_loss: 1.4740 - val_acc: 0.8028\n",
      "Epoch 10/30\n",
      "20000/20000 [==============================] - 3s 135us/step - loss: 1.4158 - acc: 0.8166 - val_loss: 1.4326 - val_acc: 0.8168\n",
      "Epoch 11/30\n",
      "20000/20000 [==============================] - 3s 135us/step - loss: 1.4021 - acc: 0.8229 - val_loss: 1.4244 - val_acc: 0.8256\n",
      "Epoch 12/30\n",
      "20000/20000 [==============================] - 3s 134us/step - loss: 1.3878 - acc: 0.8280 - val_loss: 1.4639 - val_acc: 0.7828\n",
      "Epoch 13/30\n",
      "20000/20000 [==============================] - 3s 134us/step - loss: 1.3771 - acc: 0.8339 - val_loss: 1.4113 - val_acc: 0.8226\n",
      "Epoch 14/30\n",
      "20000/20000 [==============================] - 3s 135us/step - loss: 1.3646 - acc: 0.8401 - val_loss: 1.3702 - val_acc: 0.8356\n",
      "Epoch 15/30\n",
      "20000/20000 [==============================] - 3s 136us/step - loss: 1.3535 - acc: 0.8405 - val_loss: 1.3570 - val_acc: 0.8384\n",
      "Epoch 16/30\n",
      "20000/20000 [==============================] - 3s 135us/step - loss: 1.3416 - acc: 0.8470 - val_loss: 1.3486 - val_acc: 0.8486\n",
      "Epoch 17/30\n",
      "20000/20000 [==============================] - 3s 135us/step - loss: 1.3340 - acc: 0.8522 - val_loss: 1.3389 - val_acc: 0.8522\n",
      "Epoch 18/30\n",
      "20000/20000 [==============================] - 3s 135us/step - loss: 1.3291 - acc: 0.8502 - val_loss: 1.3486 - val_acc: 0.8380\n",
      "Epoch 19/30\n",
      "20000/20000 [==============================] - 3s 139us/step - loss: 1.3231 - acc: 0.8537 - val_loss: 1.3764 - val_acc: 0.8180\n",
      "Epoch 20/30\n",
      "20000/20000 [==============================] - 3s 139us/step - loss: 1.3193 - acc: 0.8537 - val_loss: 1.3579 - val_acc: 0.8262\n",
      "Epoch 21/30\n",
      "20000/20000 [==============================] - 3s 137us/step - loss: 1.3179 - acc: 0.8534 - val_loss: 1.3241 - val_acc: 0.8536\n",
      "Epoch 22/30\n",
      "20000/20000 [==============================] - 3s 137us/step - loss: 1.3128 - acc: 0.8538 - val_loss: 1.3146 - val_acc: 0.8552\n",
      "Epoch 23/30\n",
      "20000/20000 [==============================] - 3s 138us/step - loss: 1.3095 - acc: 0.8562 - val_loss: 1.3347 - val_acc: 0.8458\n",
      "Epoch 24/30\n",
      "20000/20000 [==============================] - 3s 137us/step - loss: 1.3088 - acc: 0.8578 - val_loss: 1.3230 - val_acc: 0.8470\n",
      "Epoch 25/30\n",
      "20000/20000 [==============================] - 3s 136us/step - loss: 1.3062 - acc: 0.8573 - val_loss: 1.3290 - val_acc: 0.8500\n",
      "Epoch 26/30\n",
      "20000/20000 [==============================] - 3s 139us/step - loss: 1.3088 - acc: 0.8542 - val_loss: 1.3615 - val_acc: 0.8164\n",
      "Epoch 27/30\n",
      "20000/20000 [==============================] - 3s 137us/step - loss: 1.3021 - acc: 0.8597 - val_loss: 1.3189 - val_acc: 0.8538\n",
      "Epoch 28/30\n",
      "20000/20000 [==============================] - 3s 136us/step - loss: 1.3029 - acc: 0.8595 - val_loss: 1.3095 - val_acc: 0.8564\n",
      "Epoch 29/30\n",
      "20000/20000 [==============================] - 3s 137us/step - loss: 1.3022 - acc: 0.8584 - val_loss: 1.3546 - val_acc: 0.8186\n",
      "Epoch 30/30\n",
      "20000/20000 [==============================] - 3s 137us/step - loss: 1.2988 - acc: 0.8584 - val_loss: 1.3014 - val_acc: 0.8598\n"
     ]
    }
   ],
   "source": [
    "l1_net = build_model(partial_x_train.shape[1], 0.01, 0.0)\n",
    "l1_history = run_model(l1_net, partial_x_train, partial_y_train, x_val, y_val, epoch, 512)"
   ]
  },
  {
   "cell_type": "code",
   "execution_count": 13,
   "metadata": {},
   "outputs": [
    {
     "name": "stdout",
     "output_type": "stream",
     "text": [
      "Train on 20000 samples, validate on 5000 samples\n",
      "Epoch 1/30\n",
      "20000/20000 [==============================] - 3s 146us/step - loss: 0.6966 - acc: 0.8062 - val_loss: 0.5630 - val_acc: 0.8578\n",
      "Epoch 2/30\n",
      "20000/20000 [==============================] - 3s 133us/step - loss: 0.5104 - acc: 0.8826 - val_loss: 0.4996 - val_acc: 0.8718\n",
      "Epoch 3/30\n",
      "20000/20000 [==============================] - 3s 134us/step - loss: 0.4574 - acc: 0.8917 - val_loss: 0.4782 - val_acc: 0.8662\n",
      "Epoch 4/30\n",
      "20000/20000 [==============================] - 3s 136us/step - loss: 0.4203 - acc: 0.8987 - val_loss: 0.4511 - val_acc: 0.8712\n",
      "Epoch 5/30\n",
      "20000/20000 [==============================] - 3s 134us/step - loss: 0.3955 - acc: 0.9027 - val_loss: 0.4170 - val_acc: 0.8858\n",
      "Epoch 6/30\n",
      "20000/20000 [==============================] - 3s 133us/step - loss: 0.3766 - acc: 0.9039 - val_loss: 0.4039 - val_acc: 0.8834\n",
      "Epoch 7/30\n",
      "20000/20000 [==============================] - 3s 134us/step - loss: 0.3585 - acc: 0.9086 - val_loss: 0.4117 - val_acc: 0.8730\n",
      "Epoch 8/30\n",
      "20000/20000 [==============================] - 3s 134us/step - loss: 0.3444 - acc: 0.9140 - val_loss: 0.3874 - val_acc: 0.8852\n",
      "Epoch 9/30\n",
      "20000/20000 [==============================] - 3s 133us/step - loss: 0.3396 - acc: 0.9109 - val_loss: 0.4259 - val_acc: 0.8646\n",
      "Epoch 10/30\n",
      "20000/20000 [==============================] - 3s 134us/step - loss: 0.3301 - acc: 0.9161 - val_loss: 0.3988 - val_acc: 0.8744\n",
      "Epoch 11/30\n",
      "20000/20000 [==============================] - 3s 134us/step - loss: 0.3222 - acc: 0.9166 - val_loss: 0.4208 - val_acc: 0.8606\n",
      "Epoch 12/30\n",
      "20000/20000 [==============================] - 3s 133us/step - loss: 0.3144 - acc: 0.9200 - val_loss: 0.3914 - val_acc: 0.8814\n",
      "Epoch 13/30\n",
      "20000/20000 [==============================] - 3s 132us/step - loss: 0.3088 - acc: 0.9216 - val_loss: 0.3723 - val_acc: 0.8872\n",
      "Epoch 14/30\n",
      "20000/20000 [==============================] - 3s 134us/step - loss: 0.3017 - acc: 0.9237 - val_loss: 0.3921 - val_acc: 0.8730\n",
      "Epoch 15/30\n",
      "20000/20000 [==============================] - 3s 132us/step - loss: 0.2955 - acc: 0.9256 - val_loss: 0.3845 - val_acc: 0.8794\n",
      "Epoch 16/30\n",
      "20000/20000 [==============================] - 3s 134us/step - loss: 0.2915 - acc: 0.9277 - val_loss: 0.4112 - val_acc: 0.8702\n",
      "Epoch 17/30\n",
      "20000/20000 [==============================] - 3s 134us/step - loss: 0.2874 - acc: 0.9289 - val_loss: 0.3733 - val_acc: 0.8826\n",
      "Epoch 18/30\n",
      "20000/20000 [==============================] - 3s 133us/step - loss: 0.2835 - acc: 0.9284 - val_loss: 0.3963 - val_acc: 0.8720\n",
      "Epoch 19/30\n",
      "20000/20000 [==============================] - 3s 133us/step - loss: 0.2778 - acc: 0.9330 - val_loss: 0.3697 - val_acc: 0.8834\n",
      "Epoch 20/30\n",
      "20000/20000 [==============================] - 3s 133us/step - loss: 0.2694 - acc: 0.9357 - val_loss: 0.3796 - val_acc: 0.8842\n",
      "Epoch 21/30\n",
      "20000/20000 [==============================] - 3s 135us/step - loss: 0.2641 - acc: 0.9386 - val_loss: 0.3965 - val_acc: 0.8764\n",
      "Epoch 22/30\n",
      "20000/20000 [==============================] - 3s 134us/step - loss: 0.2641 - acc: 0.9376 - val_loss: 0.3862 - val_acc: 0.8760\n",
      "Epoch 23/30\n",
      "20000/20000 [==============================] - 3s 135us/step - loss: 0.2575 - acc: 0.9403 - val_loss: 0.3844 - val_acc: 0.8798\n",
      "Epoch 24/30\n",
      "20000/20000 [==============================] - 3s 133us/step - loss: 0.2543 - acc: 0.9418 - val_loss: 0.4132 - val_acc: 0.8684\n",
      "Epoch 25/30\n",
      "20000/20000 [==============================] - 3s 134us/step - loss: 0.2495 - acc: 0.9434 - val_loss: 0.3676 - val_acc: 0.8838\n",
      "Epoch 26/30\n",
      "20000/20000 [==============================] - 3s 133us/step - loss: 0.2483 - acc: 0.9435 - val_loss: 0.3804 - val_acc: 0.8790\n",
      "Epoch 27/30\n",
      "20000/20000 [==============================] - 3s 134us/step - loss: 0.2435 - acc: 0.9449 - val_loss: 0.3749 - val_acc: 0.8880\n",
      "Epoch 28/30\n",
      "20000/20000 [==============================] - 3s 153us/step - loss: 0.2393 - acc: 0.9461 - val_loss: 0.3729 - val_acc: 0.8822\n",
      "Epoch 29/30\n",
      "20000/20000 [==============================] - 3s 141us/step - loss: 0.2355 - acc: 0.9484 - val_loss: 0.4081 - val_acc: 0.8680\n",
      "Epoch 30/30\n",
      "20000/20000 [==============================] - 3s 137us/step - loss: 0.2324 - acc: 0.9476 - val_loss: 0.3888 - val_acc: 0.8818\n"
     ]
    }
   ],
   "source": [
    "l2_net = build_model(partial_x_train.shape[1], 0.0, 0.01)\n",
    "l2_history = run_model(l2_net, partial_x_train, partial_y_train, x_val, y_val, epoch, 512)"
   ]
  },
  {
   "cell_type": "code",
   "execution_count": 21,
   "metadata": {},
   "outputs": [
    {
     "name": "stdout",
     "output_type": "stream",
     "text": [
      "Train on 20000 samples, validate on 5000 samples\n",
      "Epoch 1/30\n",
      "20000/20000 [==============================] - 3s 167us/step - loss: 4.3148 - acc: 0.6619 - val_loss: 2.0263 - val_acc: 0.6828\n",
      "Epoch 2/30\n",
      "20000/20000 [==============================] - 3s 144us/step - loss: 1.9543 - acc: 0.6671 - val_loss: 1.9191 - val_acc: 0.5610\n",
      "Epoch 3/30\n",
      "20000/20000 [==============================] - 3s 142us/step - loss: 1.8473 - acc: 0.6911 - val_loss: 1.8174 - val_acc: 0.6030\n",
      "Epoch 4/30\n",
      "20000/20000 [==============================] - 3s 146us/step - loss: 1.7574 - acc: 0.7084 - val_loss: 1.7303 - val_acc: 0.7162\n",
      "Epoch 5/30\n",
      "20000/20000 [==============================] - 3s 141us/step - loss: 1.6775 - acc: 0.7351 - val_loss: 1.6615 - val_acc: 0.6996\n",
      "Epoch 6/30\n",
      "20000/20000 [==============================] - 3s 168us/step - loss: 1.6047 - acc: 0.7563 - val_loss: 1.5904 - val_acc: 0.7656\n",
      "Epoch 7/30\n",
      "20000/20000 [==============================] - 3s 145us/step - loss: 1.5385 - acc: 0.7779 - val_loss: 1.5315 - val_acc: 0.7560\n",
      "Epoch 8/30\n",
      "20000/20000 [==============================] - 3s 154us/step - loss: 1.4844 - acc: 0.7899 - val_loss: 1.4792 - val_acc: 0.7840\n",
      "Epoch 9/30\n",
      "20000/20000 [==============================] - 3s 154us/step - loss: 1.4431 - acc: 0.7985 - val_loss: 1.4617 - val_acc: 0.7672\n",
      "Epoch 10/30\n",
      "20000/20000 [==============================] - 3s 141us/step - loss: 1.4152 - acc: 0.8057 - val_loss: 1.4490 - val_acc: 0.7812\n",
      "Epoch 11/30\n",
      "20000/20000 [==============================] - 3s 143us/step - loss: 1.3991 - acc: 0.8135 - val_loss: 1.4110 - val_acc: 0.81501.4002 - acc: 0.81\n",
      "Epoch 12/30\n",
      "20000/20000 [==============================] - 3s 145us/step - loss: 1.3910 - acc: 0.8201 - val_loss: 1.4063 - val_acc: 0.8200\n",
      "Epoch 13/30\n",
      "20000/20000 [==============================] - 3s 155us/step - loss: 1.3850 - acc: 0.8242 - val_loss: 1.3998 - val_acc: 0.8246\n",
      "Epoch 14/30\n",
      "20000/20000 [==============================] - 3s 142us/step - loss: 1.3800 - acc: 0.8287 - val_loss: 1.3934 - val_acc: 0.8276\n",
      "Epoch 15/30\n",
      "20000/20000 [==============================] - 3s 146us/step - loss: 1.3738 - acc: 0.8319 - val_loss: 1.3896 - val_acc: 0.8242\n",
      "Epoch 16/30\n",
      "20000/20000 [==============================] - 3s 152us/step - loss: 1.3694 - acc: 0.8354 - val_loss: 1.3862 - val_acc: 0.8280\n",
      "Epoch 17/30\n",
      "20000/20000 [==============================] - 3s 140us/step - loss: 1.3658 - acc: 0.8366 - val_loss: 1.3838 - val_acc: 0.8268\n",
      "Epoch 18/30\n",
      "20000/20000 [==============================] - 3s 141us/step - loss: 1.3587 - acc: 0.8424 - val_loss: 1.3810 - val_acc: 0.8298\n",
      "Epoch 19/30\n",
      "20000/20000 [==============================] - 3s 141us/step - loss: 1.3581 - acc: 0.8410 - val_loss: 1.3730 - val_acc: 0.8346\n",
      "Epoch 20/30\n",
      "20000/20000 [==============================] - 3s 140us/step - loss: 1.3540 - acc: 0.8433 - val_loss: 1.3619 - val_acc: 0.8410\n",
      "Epoch 21/30\n",
      "20000/20000 [==============================] - 3s 139us/step - loss: 1.3498 - acc: 0.8457 - val_loss: 1.3675 - val_acc: 0.8350\n",
      "Epoch 22/30\n",
      "20000/20000 [==============================] - 3s 140us/step - loss: 1.3470 - acc: 0.8477 - val_loss: 1.3673 - val_acc: 0.8340\n",
      "Epoch 23/30\n",
      "20000/20000 [==============================] - 3s 141us/step - loss: 1.3441 - acc: 0.8479 - val_loss: 1.3911 - val_acc: 0.8226\n",
      "Epoch 24/30\n",
      "20000/20000 [==============================] - 3s 146us/step - loss: 1.3413 - acc: 0.8491 - val_loss: 1.3537 - val_acc: 0.8426\n",
      "Epoch 25/30\n",
      "20000/20000 [==============================] - 3s 141us/step - loss: 1.3392 - acc: 0.8492 - val_loss: 1.3480 - val_acc: 0.8470\n",
      "Epoch 26/30\n",
      "20000/20000 [==============================] - 3s 141us/step - loss: 1.3381 - acc: 0.8484 - val_loss: 1.3421 - val_acc: 0.8492\n",
      "Epoch 27/30\n",
      "20000/20000 [==============================] - 3s 143us/step - loss: 1.3339 - acc: 0.8513 - val_loss: 1.3606 - val_acc: 0.8306\n",
      "Epoch 28/30\n",
      "20000/20000 [==============================] - 3s 137us/step - loss: 1.3319 - acc: 0.8519 - val_loss: 1.3367 - val_acc: 0.8476\n",
      "Epoch 29/30\n",
      "20000/20000 [==============================] - 3s 140us/step - loss: 1.3303 - acc: 0.8509 - val_loss: 1.3696 - val_acc: 0.8238\n",
      "Epoch 30/30\n",
      "20000/20000 [==============================] - 3s 155us/step - loss: 1.3279 - acc: 0.8525 - val_loss: 1.3534 - val_acc: 0.8392\n"
     ]
    }
   ],
   "source": [
    "l1l2_net = build_model(partial_x_train.shape[1], 0.01, 0.01)\n",
    "l1l2_history = run_model(l1l2_net, partial_x_train, partial_y_train, x_val, y_val, epoch, 512)"
   ]
  },
  {
   "cell_type": "code",
   "execution_count": 39,
   "metadata": {},
   "outputs": [
    {
     "data": {
      "image/png": "[encoded data removed]",
      "text/plain": [
       "<Figure size 432x288 with 1 Axes>"
      ]
     },
     "metadata": {
      "needs_background": "light"
     },
     "output_type": "display_data"
    }
   ],
   "source": [
    "xs = range(1, epoch + 1)\n",
    "plt.clf()\n",
    "plt.plot(xs, normal_history.history['val_loss'], 'k', label = 'Normal Val Loss')\n",
    "plt.plot(xs, normal_history.history['val_acc'], 'kP', label = 'Normal Val Acc')\n",
    "plt.plot(xs, l1_history.history['val_loss'], 'r', label = 'L1 Val Loss')\n",
    "plt.plot(xs, l1_history.history['val_acc'], 'rP', label = 'L1 Val Acc')\n",
    "plt.plot(xs, l2_history.history['val_loss'], 'g', label = 'L2 Val Loss')\n",
    "plt.plot(xs, l2_history.history['val_acc'], 'gP', label = 'L2 Val Acc')\n",
    "plt.plot(xs, l1l2_history.history['val_loss'], 'b', label = 'L1L2 Val Loss')\n",
    "plt.plot(xs, l1l2_history.history['val_acc'], 'bP', label = 'L1L2 Val Acc')\n",
    "plt.title('Regularization Comparison')\n",
    "plt.xlabel('Epochs')\n",
    "plt.ylabel('Validation Loss And Train Loss')\n",
    "plt.ylim(top = 2)\n",
    "plt.legend(loc = 'upper right')\n",
    "\n",
    "plt.show()"
   ]
  },
  {
   "cell_type": "code",
   "execution_count": 41,
   "metadata": {},
   "outputs": [
    {
     "name": "stdout",
     "output_type": "stream",
     "text": [
      "25000/25000 [==============================] - 5s 210us/step\n",
      "Loss :  1.1983412257115542 \tAcc :  0.8362\n"
     ]
    }
   ],
   "source": [
    "(loss, acc) = normal_net.evaluate(x_test, y_test)\n",
    "print(\"Loss : \", loss, \"\\tAcc : \", acc)"
   ]
  },
  {
   "cell_type": "code",
   "execution_count": 42,
   "metadata": {},
   "outputs": [
    {
     "name": "stdout",
     "output_type": "stream",
     "text": [
      "25000/25000 [==============================] - 3s 126us/step\n",
      "Loss :  1.3027807257843018 \tAcc :  0.8568\n"
     ]
    }
   ],
   "source": [
    "(loss, acc) = l1_net.evaluate(x_test, y_test)\n",
    "print(\"Loss : \", loss, \"\\tAcc : \", acc)"
   ]
  },
  {
   "cell_type": "code",
   "execution_count": 43,
   "metadata": {},
   "outputs": [
    {
     "name": "stdout",
     "output_type": "stream",
     "text": [
      "25000/25000 [==============================] - 3s 129us/step\n",
      "Loss :  0.40786569993972777 \tAcc :  0.86848\n"
     ]
    }
   ],
   "source": [
    "(loss, acc) = l2_net.evaluate(x_test, y_test)\n",
    "print(\"Loss : \", loss, \"\\tAcc : \", acc)"
   ]
  },
  {
   "cell_type": "code",
   "execution_count": 44,
   "metadata": {},
   "outputs": [
    {
     "name": "stdout",
     "output_type": "stream",
     "text": [
      "25000/25000 [==============================] - 3s 131us/step\n",
      "Loss :  1.3538104111480713 \tAcc :  0.841\n"
     ]
    }
   ],
   "source": [
    "(loss, acc) = l1l2_net.evaluate(x_test, y_test)\n",
    "print(\"Loss : \", loss, \"\\tAcc : \", acc)"
   ]
  }
 ],
 "metadata": {
  "kernelspec": {
   "display_name": "Python 3",
   "language": "python",
   "name": "python3"
  },
  "language_info": {
   "codemirror_mode": {
    "name": "ipython",
    "version": 3
   },
   "file_extension": ".py",
   "mimetype": "text/x-python",
   "name": "python",
   "nbconvert_exporter": "python",
   "pygments_lexer": "ipython3",
   "version": "3.6.7"
  }
 },
 "nbformat": 4,
 "nbformat_minor": 2
}
