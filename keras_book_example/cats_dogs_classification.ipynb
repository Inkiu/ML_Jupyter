{
 "cells": [
  {
   "cell_type": "code",
   "execution_count": 0,
   "metadata": {
    "colab": {},
    "colab_type": "code",
    "id": "DtAxNij3iJHP"
   },
   "outputs": [],
   "source": [
    "import os\n",
    "base_dir = 'cats_and_dogs_from_zip'"
   ]
  },
  {
   "cell_type": "code",
   "execution_count": 6,
   "metadata": {
    "colab": {
     "base_uri": "https://localhost:8080/",
     "height": 35
    },
    "colab_type": "code",
    "id": "8HEgLGBDiJHZ",
    "outputId": "d3f8bdda-e459-4a0c-a5d8-90fc9f93383b"
   },
   "outputs": [
    {
     "name": "stderr",
     "output_type": "stream",
     "text": [
      "Using TensorFlow backend.\n"
     ]
    }
   ],
   "source": [
    "from keras.layers import *\n",
    "from keras.models import *\n",
    "from keras.optimizers import *\n",
    "from keras.preprocessing.image import ImageDataGenerator"
   ]
  },
  {
   "cell_type": "code",
   "execution_count": 0,
   "metadata": {
    "colab": {},
    "colab_type": "code",
    "id": "Hzzy85LJiJHc"
   },
   "outputs": [],
   "source": [
    "def build_model():\n",
    "    net = Sequential()\n",
    "    net.add(Conv2D(32, (3, 3), activation = 'relu', input_shape=(150, 150, 3)))\n",
    "    net.add(MaxPooling2D((2, 2)))\n",
    "    net.add(Conv2D(64, (3, 3), activation = 'relu'))\n",
    "    net.add(MaxPooling2D((2, 2)))\n",
    "    net.add(Conv2D(128, (3, 3), activation = 'relu'))\n",
    "    net.add(MaxPooling2D((2, 2)))\n",
    "    net.add(Conv2D(128, (3, 3), activation = 'relu'))\n",
    "    net.add(MaxPooling2D((2, 2)))\n",
    "    net.add(Flatten())\n",
    "    net.add(Dense(512, activation = 'relu'))\n",
    "    net.add(Dense(1, activation = 'sigmoid'))\n",
    "    \n",
    "    net.compile(loss='binary_crossentropy', optimizer=RMSprop(lr=1e-4), metrics=['acc'])\n",
    "    return net"
   ]
  },
  {
   "cell_type": "code",
   "execution_count": 0,
   "metadata": {
    "colab": {},
    "colab_type": "code",
    "id": "gLTd3moMiJHe"
   },
   "outputs": [],
   "source": [
    "def get_image_generator():\n",
    "    train_gen = ImageDataGenerator(rescale=1./255)\n",
    "    test_gen = ImageDataGenerator(rescale=1./255)\n",
    "    \n",
    "    train_generator = train_gen.flow_from_directory(\n",
    "        train_dir,\n",
    "        target_size = (150, 150),\n",
    "        batch_size = 20,\n",
    "        class_mode = 'binary'\n",
    "    )\n",
    "    \n",
    "    validation_generator = test_gen.flow_from_directory(\n",
    "        validation_dir,\n",
    "        target_size = (150, 150),\n",
    "        batch_size = 20,\n",
    "        class_mode = 'binary'\n",
    "    )\n",
    "    \n",
    "    return { 't':train_generator, 'v':validation_generator }"
   ]
  },
  {
   "cell_type": "code",
   "execution_count": 0,
   "metadata": {
    "colab": {},
    "colab_type": "code",
    "id": "lDGzWOJDiJHi"
   },
   "outputs": [],
   "source": [
    "def train_model(model, t_gen, v_gen):\n",
    "    history = model.fit_generator(\n",
    "        t_gen,\n",
    "        steps_per_epoch=100,\n",
    "        epochs=30,\n",
    "        validation_data=v_gen,\n",
    "        validation_steps=50\n",
    "    )\n",
    "    \n",
    "    model.save('cats_and_dogs_1.h5')\n",
    "    \n",
    "    return history"
   ]
  },
  {
   "cell_type": "code",
   "execution_count": 0,
   "metadata": {
    "colab": {},
    "colab_type": "code",
    "id": "jw3K-jsXiJHk"
   },
   "outputs": [],
   "source": [
    "import matplotlib.pyplot as plt\n",
    "def plot(history):\n",
    "    acc = history['acc']\n",
    "    val_acc = history['val_acc']\n",
    "    loss = history['loss']\n",
    "    val_loss = history['val_loss']\n",
    "    \n",
    "    epochs = range(1, len(acc) + 1)\n",
    "    \n",
    "    plt.clf()\n",
    "    plt.plot(epochs, acc, 'bo', label='Train Loss')\n",
    "    plt.plot(epochs, loss, 'bP', label='Train Acc')\n",
    "    plt.plot(epochs, val_acc, 'ro', label='Validation_Acc')\n",
    "    plt.plot(epochs, val_loss, 'rP', label='Validation_Loss')\n",
    "    \n",
    "    plt.legend()\n",
    "    plt.show()"
   ]
  },
  {
   "cell_type": "code",
   "execution_count": 14,
   "metadata": {
    "colab": {
     "base_uri": "https://localhost:8080/",
     "height": 1655
    },
    "colab_type": "code",
    "id": "a9iv1qpaiJHm",
    "outputId": "54bc8c24-ac8c-4b38-f3de-787fa0870208",
    "scrolled": true
   },
   "outputs": [
    {
     "name": "stdout",
     "output_type": "stream",
     "text": [
      "_________________________________________________________________\n",
      "Layer (type)                 Output Shape              Param #   \n",
      "=================================================================\n",
      "conv2d_5 (Conv2D)            (None, 148, 148, 32)      896       \n",
      "_________________________________________________________________\n",
      "max_pooling2d_5 (MaxPooling2 (None, 74, 74, 32)        0         \n",
      "_________________________________________________________________\n",
      "conv2d_6 (Conv2D)            (None, 72, 72, 64)        18496     \n",
      "_________________________________________________________________\n",
      "max_pooling2d_6 (MaxPooling2 (None, 36, 36, 64)        0         \n",
      "_________________________________________________________________\n",
      "conv2d_7 (Conv2D)            (None, 34, 34, 128)       73856     \n",
      "_________________________________________________________________\n",
      "max_pooling2d_7 (MaxPooling2 (None, 17, 17, 128)       0         \n",
      "_________________________________________________________________\n",
      "conv2d_8 (Conv2D)            (None, 15, 15, 128)       147584    \n",
      "_________________________________________________________________\n",
      "max_pooling2d_8 (MaxPooling2 (None, 7, 7, 128)         0         \n",
      "_________________________________________________________________\n",
      "flatten_2 (Flatten)          (None, 6272)              0         \n",
      "_________________________________________________________________\n",
      "dense_3 (Dense)              (None, 512)               3211776   \n",
      "_________________________________________________________________\n",
      "dense_4 (Dense)              (None, 1)                 513       \n",
      "=================================================================\n",
      "Total params: 3,453,121\n",
      "Trainable params: 3,453,121\n",
      "Non-trainable params: 0\n",
      "_________________________________________________________________\n",
      "Found 2000 images belonging to 2 classes.\n",
      "Found 1000 images belonging to 2 classes.\n",
      "Epoch 1/30\n",
      "100/100 [==============================] - 10s 104ms/step - loss: 0.6896 - acc: 0.5390 - val_loss: 0.6983 - val_acc: 0.5180\n",
      "Epoch 2/30\n",
      "100/100 [==============================] - 10s 99ms/step - loss: 0.6628 - acc: 0.5945 - val_loss: 0.6614 - val_acc: 0.5920\n",
      "Epoch 3/30\n",
      "100/100 [==============================] - 10s 98ms/step - loss: 0.6266 - acc: 0.6485 - val_loss: 0.6229 - val_acc: 0.6620\n",
      "Epoch 4/30\n",
      "100/100 [==============================] - 10s 97ms/step - loss: 0.5819 - acc: 0.7040 - val_loss: 0.6094 - val_acc: 0.6590\n",
      "Epoch 5/30\n",
      "100/100 [==============================] - 10s 96ms/step - loss: 0.5437 - acc: 0.7230 - val_loss: 0.6088 - val_acc: 0.6720\n",
      "Epoch 6/30\n",
      "100/100 [==============================] - 9s 95ms/step - loss: 0.5185 - acc: 0.7370 - val_loss: 0.5821 - val_acc: 0.6820\n",
      "Epoch 7/30\n",
      "100/100 [==============================] - 9s 94ms/step - loss: 0.4942 - acc: 0.7535 - val_loss: 0.5836 - val_acc: 0.7080\n",
      "Epoch 8/30\n",
      "100/100 [==============================] - 9s 94ms/step - loss: 0.4748 - acc: 0.7695 - val_loss: 0.5715 - val_acc: 0.7070\n",
      "Epoch 9/30\n",
      "100/100 [==============================] - 9s 95ms/step - loss: 0.4407 - acc: 0.7830 - val_loss: 0.6222 - val_acc: 0.6740\n",
      "Epoch 10/30\n",
      "100/100 [==============================] - 10s 96ms/step - loss: 0.4097 - acc: 0.8185 - val_loss: 0.5573 - val_acc: 0.7150\n",
      "Epoch 11/30\n",
      "100/100 [==============================] - 9s 95ms/step - loss: 0.3888 - acc: 0.8165 - val_loss: 0.5664 - val_acc: 0.7330\n",
      "Epoch 12/30\n",
      "100/100 [==============================] - 9s 94ms/step - loss: 0.3675 - acc: 0.8380 - val_loss: 0.5987 - val_acc: 0.7070\n",
      "Epoch 13/30\n",
      "100/100 [==============================] - 9s 91ms/step - loss: 0.3463 - acc: 0.8570 - val_loss: 0.6126 - val_acc: 0.7030\n",
      "Epoch 14/30\n",
      "100/100 [==============================] - 9s 93ms/step - loss: 0.3157 - acc: 0.8620 - val_loss: 0.5869 - val_acc: 0.7310\n",
      "Epoch 15/30\n",
      "100/100 [==============================] - 10s 100ms/step - loss: 0.2909 - acc: 0.8735 - val_loss: 0.5854 - val_acc: 0.7360\n",
      "Epoch 16/30\n",
      "100/100 [==============================] - 10s 96ms/step - loss: 0.2594 - acc: 0.9000 - val_loss: 0.6251 - val_acc: 0.7240\n",
      "Epoch 17/30\n",
      "100/100 [==============================] - 9s 94ms/step - loss: 0.2360 - acc: 0.9110 - val_loss: 0.6185 - val_acc: 0.7260\n",
      "Epoch 18/30\n",
      "100/100 [==============================] - 9s 93ms/step - loss: 0.2201 - acc: 0.9190 - val_loss: 0.6611 - val_acc: 0.7180\n",
      "Epoch 19/30\n",
      "100/100 [==============================] - 9s 92ms/step - loss: 0.1768 - acc: 0.9385 - val_loss: 0.7742 - val_acc: 0.6990\n",
      "Epoch 20/30\n",
      "100/100 [==============================] - 10s 101ms/step - loss: 0.1776 - acc: 0.9370 - val_loss: 0.6922 - val_acc: 0.7290\n",
      "Epoch 21/30\n",
      "100/100 [==============================] - 10s 100ms/step - loss: 0.1464 - acc: 0.9520 - val_loss: 0.7614 - val_acc: 0.7220\n",
      "Epoch 22/30\n",
      "100/100 [==============================] - 9s 95ms/step - loss: 0.1365 - acc: 0.9520 - val_loss: 0.7834 - val_acc: 0.7020\n",
      "Epoch 23/30\n",
      "100/100 [==============================] - 9s 92ms/step - loss: 0.1114 - acc: 0.9700 - val_loss: 0.7779 - val_acc: 0.7130\n",
      "Epoch 24/30\n",
      "100/100 [==============================] - 9s 92ms/step - loss: 0.0993 - acc: 0.9675 - val_loss: 0.8397 - val_acc: 0.6990\n",
      "Epoch 25/30\n",
      "100/100 [==============================] - 9s 90ms/step - loss: 0.0811 - acc: 0.9740 - val_loss: 0.8629 - val_acc: 0.7120\n",
      "Epoch 26/30\n",
      "100/100 [==============================] - 9s 92ms/step - loss: 0.0722 - acc: 0.9785 - val_loss: 0.9087 - val_acc: 0.7210\n",
      "Epoch 27/30\n",
      "100/100 [==============================] - 9s 94ms/step - loss: 0.0521 - acc: 0.9865 - val_loss: 0.9590 - val_acc: 0.7030\n",
      "Epoch 28/30\n",
      "100/100 [==============================] - 9s 95ms/step - loss: 0.0492 - acc: 0.9910 - val_loss: 1.4240 - val_acc: 0.6820\n",
      "Epoch 29/30\n",
      "100/100 [==============================] - 9s 93ms/step - loss: 0.0453 - acc: 0.9870 - val_loss: 1.1016 - val_acc: 0.7080\n",
      "Epoch 30/30\n",
      "100/100 [==============================] - 9s 93ms/step - loss: 0.0401 - acc: 0.9885 - val_loss: 1.1722 - val_acc: 0.7180\n"
     ]
    }
   ],
   "source": [
    "model = build_model()\n",
    "model.summary()\n",
    "ig = get_image_generator()\n",
    "history = train_model(model, ig['t'], ig['v'])"
   ]
  },
  {
   "cell_type": "code",
   "execution_count": 17,
   "metadata": {
    "colab": {
     "base_uri": "https://localhost:8080/",
     "height": 347
    },
    "colab_type": "code",
    "id": "T_l9l5y2iJHp",
    "outputId": "36cc3307-5336-4344-f5b8-a2db1ec62dfb"
   },
   "outputs": [
    {
     "data": {
      "image/png": "[encoded data removed]",
      "text/plain": [
       "<matplotlib.figure.Figure at 0x7f788392a978>"
      ]
     },
     "metadata": {
      "tags": []
     },
     "output_type": "display_data"
    }
   ],
   "source": [
    "plot(history.history)"
   ]
  }
 ],
 "metadata": {
  "accelerator": "GPU",
  "colab": {
   "collapsed_sections": [],
   "name": "cats_dogs_classification.ipynb",
   "provenance": [],
   "version": "0.3.2"
  },
  "kernelspec": {
   "display_name": "Python 3",
   "language": "python",
   "name": "python3"
  },
  "language_info": {
   "codemirror_mode": {
    "name": "ipython",
    "version": 3
   },
   "file_extension": ".py",
   "mimetype": "text/x-python",
   "name": "python",
   "nbconvert_exporter": "python",
   "pygments_lexer": "ipython3",
   "version": "3.6.7"
  }
 },
 "nbformat": 4,
 "nbformat_minor": 1
}
