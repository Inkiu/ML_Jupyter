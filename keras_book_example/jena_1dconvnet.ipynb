{
 "cells": [
  {
   "cell_type": "code",
   "execution_count": 1,
   "metadata": {},
   "outputs": [],
   "source": [
    "import os\n",
    "data_dir = \"datasets/jena_climate\"\n",
    "fname = os.path.join(data_dir, \"jena_climate_2009_2016.csv\")\n",
    "f = open(fname)\n",
    "data = f.read()\n",
    "f.close()"
   ]
  },
  {
   "cell_type": "code",
   "execution_count": 2,
   "metadata": {},
   "outputs": [
    {
     "name": "stdout",
     "output_type": "stream",
     "text": [
      "['\"Date Time\"', '\"p (mbar)\"', '\"T (degC)\"', '\"Tpot (K)\"', '\"Tdew (degC)\"', '\"rh (%)\"', '\"VPmax (mbar)\"', '\"VPact (mbar)\"', '\"VPdef (mbar)\"', '\"sh (g/kg)\"', '\"H2OC (mmol/mol)\"', '\"rho (g/m**3)\"', '\"wv (m/s)\"', '\"max. wv (m/s)\"', '\"wd (deg)\"']\n",
      "420551 01.01.2009 00:10:00,996.52,-8.02,265.40,-8.90,93.30,3.33,3.11,0.22,1.94,3.12,1307.75,1.03,1.75,152.30\n"
     ]
    }
   ],
   "source": [
    "lines = data.split('\\n')\n",
    "header = lines[0].split(',')\n",
    "lines = lines[1:]\n",
    "\n",
    "print(header)\n",
    "print(len(lines), lines[0])"
   ]
  },
  {
   "cell_type": "code",
   "execution_count": 3,
   "metadata": {},
   "outputs": [
    {
     "data": {
      "text/plain": [
       "(420551, 14)"
      ]
     },
     "execution_count": 3,
     "metadata": {},
     "output_type": "execute_result"
    }
   ],
   "source": [
    "import numpy as np\n",
    "\n",
    "float_data = np.zeros((len(lines), len(header) - 1))\n",
    "for i, line in enumerate(lines):\n",
    "    values = [float(x) for x in line.split(\",\")[1:]] # Date Time 제거\n",
    "    float_data[i, :] = values\n",
    "    \n",
    "float_data.shape"
   ]
  },
  {
   "cell_type": "code",
   "execution_count": 4,
   "metadata": {},
   "outputs": [
    {
     "data": {
      "text/plain": [
       "[<matplotlib.lines.Line2D at 0x2bea1ade320>]"
      ]
     },
     "execution_count": 4,
     "metadata": {},
     "output_type": "execute_result"
    }
   ],
   "source": [
    "import matplotlib.pyplot as plt\n",
    "\n",
    "tmp = float_data[:, 1]\n",
    "plt.plot(range(len(tmp)), tmp)"
   ]
  },
  {
   "cell_type": "code",
   "execution_count": 5,
   "metadata": {},
   "outputs": [
    {
     "data": {
      "text/plain": [
       "[<matplotlib.lines.Line2D at 0x2bea22e6fd0>]"
      ]
     },
     "execution_count": 5,
     "metadata": {},
     "output_type": "execute_result"
    },
    {
     "data": {
      "image/png": "[encoded data removed]",
      "text/plain": [
       "<Figure size 432x288 with 1 Axes>"
      ]
     },
     "metadata": {
      "needs_background": "light"
     },
     "output_type": "display_data"
    }
   ],
   "source": [
    "plt.plot(range(1440), tmp[:1440])"
   ]
  },
  {
   "cell_type": "code",
   "execution_count": 25,
   "metadata": {},
   "outputs": [],
   "source": [
    "import matplotlib.pyplot as plt\n",
    "def plot(history):\n",
    "    epoch = range(1, len(history['mean_absolute_error']) + 1)\n",
    "    plt.clf()\n",
    "    plt.plot(epoch, history['mean_absolute_error'], 'bo', label='Training Mae')\n",
    "    plt.plot(epoch, history['loss'], 'b', label='Training Loss')\n",
    "    plt.plot(epoch, history['val_mean_absolute_error'], 'ro', label='Validation Mae')\n",
    "    plt.plot(epoch, history['val_loss'], 'r', label='Validation Loss')\n",
    "    plt.legend()\n",
    "    plt.show()"
   ]
  },
  {
   "cell_type": "code",
   "execution_count": 7,
   "metadata": {},
   "outputs": [],
   "source": [
    "mean = float_data[:20000].mean(axis=0)\n",
    "float_data -= mean\n",
    "std = float_data[:20000].std(axis=0)\n",
    "float_data /= std"
   ]
  },
  {
   "cell_type": "code",
   "execution_count": 8,
   "metadata": {},
   "outputs": [],
   "source": [
    "def generator(data, lookback, delay, min_index, max_index,\n",
    "              shuffle=False, batch_size=128, step=6):\n",
    "    if max_index is None:\n",
    "        max_index = len(data) - delay - 1\n",
    "    i = min_index + lookback\n",
    "    while 1:\n",
    "        if shuffle:\n",
    "            rows = np.random.randint(\n",
    "                min_index + lookback, max_index, size=batch_size)\n",
    "        else:\n",
    "            if i + batch_size >= max_index:\n",
    "                i = min_index + lookback\n",
    "            rows = np.arange(i, min(i + batch_size, max_index))\n",
    "            i += len(rows)\n",
    "\n",
    "        samples = np.zeros((len(rows),\n",
    "                           lookback // step,\n",
    "                           data.shape[-1]))\n",
    "        targets = np.zeros((len(rows),))\n",
    "        for j, row in enumerate(rows):\n",
    "            indices = range(rows[j] - lookback, rows[j], step)\n",
    "            samples[j] = data[indices]\n",
    "            targets[j] = data[rows[j] + delay][1]\n",
    "        yield samples, targets"
   ]
  },
  {
   "cell_type": "code",
   "execution_count": 12,
   "metadata": {},
   "outputs": [],
   "source": [
    "look_back = ((24 * 60) // 10) * 10\n",
    "step = 6\n",
    "delay = (24 * 60) // 10\n",
    "batch_size = 128\n",
    "\n",
    "train_gen = generator(\n",
    "    float_data,\n",
    "    lookback = look_back,\n",
    "    delay = delay,\n",
    "    min_index = 0,\n",
    "    max_index = 20000,\n",
    "    shuffle = True,\n",
    "    step = step,\n",
    "    batch_size = batch_size\n",
    ")\n",
    "\n",
    "validation_gen = generator(\n",
    "    float_data,\n",
    "    lookback = look_back,\n",
    "    delay = delay,\n",
    "    min_index = 20001,\n",
    "    max_index = 30000,\n",
    "    step = step,\n",
    "    batch_size = batch_size\n",
    ")\n",
    "\n",
    "test_gen = generator(\n",
    "    float_data,\n",
    "    lookback = look_back,\n",
    "    delay = delay,\n",
    "    min_index = 30001,\n",
    "    max_index = None,\n",
    "    step = step,\n",
    "    batch_size = batch_size\n",
    ")\n",
    "\n",
    "validation_step = (30000 - 20001 - look_back) // batch_size\n",
    "test_step = (len(float_data) - 3000 - look_back) // batch_size"
   ]
  },
  {
   "cell_type": "code",
   "execution_count": 9,
   "metadata": {},
   "outputs": [
    {
     "name": "stderr",
     "output_type": "stream",
     "text": [
      "Using TensorFlow backend.\n"
     ]
    }
   ],
   "source": [
    "from keras.models import Sequential\n",
    "from keras.layers import *\n",
    "from keras.optimizers import RMSprop"
   ]
  },
  {
   "cell_type": "code",
   "execution_count": 10,
   "metadata": {},
   "outputs": [],
   "source": [
    "model = Sequential()\n",
    "model.add(Conv1D(32, 5, activation='relu', input_shape=(None, float_data.shape[-1])))\n",
    "model.add(MaxPool1D(3))\n",
    "model.add(Conv1D(32, 5, activation='relu'))\n",
    "model.add(MaxPool1D(3))\n",
    "model.add(Conv1D(32, 5, activation='relu'))\n",
    "model.add(GlobalMaxPool1D())\n",
    "model.add(Dense(1))\n",
    "model.save_weights('tmp.h5')"
   ]
  },
  {
   "cell_type": "code",
   "execution_count": 17,
   "metadata": {},
   "outputs": [
    {
     "name": "stdout",
     "output_type": "stream",
     "text": [
      "Epoch 1/20\n",
      "500/500 [==============================] - 5s 11ms/step - loss: 0.3407 - mean_absolute_error: 0.3407 - val_loss: 0.4911 - val_mean_absolute_error: 0.4911\n",
      "Epoch 2/20\n",
      "500/500 [==============================] - 5s 10ms/step - loss: 0.2714 - mean_absolute_error: 0.2714 - val_loss: 0.9692 - val_mean_absolute_error: 0.9692\n",
      "Epoch 3/20\n",
      "500/500 [==============================] - 5s 10ms/step - loss: 0.2356 - mean_absolute_error: 0.2356 - val_loss: 0.7081 - val_mean_absolute_error: 0.7081\n",
      "Epoch 4/20\n",
      "500/500 [==============================] - 5s 10ms/step - loss: 0.2156 - mean_absolute_error: 0.2156 - val_loss: 0.9149 - val_mean_absolute_error: 0.9149\n",
      "Epoch 5/20\n",
      "500/500 [==============================] - 5s 10ms/step - loss: 0.1982 - mean_absolute_error: 0.1982 - val_loss: 0.6770 - val_mean_absolute_error: 0.6770\n",
      "Epoch 6/20\n",
      "500/500 [==============================] - 5s 10ms/step - loss: 0.1851 - mean_absolute_error: 0.1851 - val_loss: 0.8858 - val_mean_absolute_error: 0.8858\n",
      "Epoch 7/20\n",
      "500/500 [==============================] - 5s 10ms/step - loss: 0.1747 - mean_absolute_error: 0.1747 - val_loss: 1.0205 - val_mean_absolute_error: 1.0205\n",
      "Epoch 8/20\n",
      "500/500 [==============================] - 5s 10ms/step - loss: 0.1645 - mean_absolute_error: 0.1645 - val_loss: 0.8685 - val_mean_absolute_error: 0.8685\n",
      "Epoch 9/20\n",
      "500/500 [==============================] - 5s 10ms/step - loss: 0.1565 - mean_absolute_error: 0.1565 - val_loss: 1.0549 - val_mean_absolute_error: 1.0549\n",
      "Epoch 10/20\n",
      "500/500 [==============================] - 5s 10ms/step - loss: 0.1521 - mean_absolute_error: 0.1521 - val_loss: 1.0605 - val_mean_absolute_error: 1.0605\n",
      "Epoch 11/20\n",
      "500/500 [==============================] - 5s 11ms/step - loss: 0.1453 - mean_absolute_error: 0.1453 - val_loss: 0.7982 - val_mean_absolute_error: 0.7982\n",
      "Epoch 12/20\n",
      "500/500 [==============================] - 5s 10ms/step - loss: 0.1398 - mean_absolute_error: 0.1398 - val_loss: 0.8870 - val_mean_absolute_error: 0.8870\n",
      "Epoch 13/20\n",
      "500/500 [==============================] - 5s 10ms/step - loss: 0.1360 - mean_absolute_error: 0.1360 - val_loss: 1.0858 - val_mean_absolute_error: 1.0858\n",
      "Epoch 14/20\n",
      "500/500 [==============================] - 5s 10ms/step - loss: 0.1321 - mean_absolute_error: 0.1321 - val_loss: 0.9114 - val_mean_absolute_error: 0.9114\n",
      "Epoch 15/20\n",
      "500/500 [==============================] - 5s 10ms/step - loss: 0.1282 - mean_absolute_error: 0.1282 - val_loss: 0.8498 - val_mean_absolute_error: 0.8498\n",
      "Epoch 16/20\n",
      "500/500 [==============================] - 5s 10ms/step - loss: 0.1246 - mean_absolute_error: 0.1246 - val_loss: 0.8894 - val_mean_absolute_error: 0.8894\n",
      "Epoch 17/20\n",
      "500/500 [==============================] - 5s 10ms/step - loss: 0.1232 - mean_absolute_error: 0.1232 - val_loss: 0.9664 - val_mean_absolute_error: 0.9664\n",
      "Epoch 18/20\n",
      "500/500 [==============================] - 5s 11ms/step - loss: 0.1200 - mean_absolute_error: 0.1200 - val_loss: 0.8542 - val_mean_absolute_error: 0.8542\n",
      "Epoch 19/20\n",
      "500/500 [==============================] - 5s 10ms/step - loss: 0.1175 - mean_absolute_error: 0.1175 - val_loss: 1.0755 - val_mean_absolute_error: 1.0755\n",
      "Epoch 20/20\n",
      "500/500 [==============================] - 5s 10ms/step - loss: 0.1156 - mean_absolute_error: 0.1156 - val_loss: 0.8594 - val_mean_absolute_error: 0.8594\n"
     ]
    }
   ],
   "source": [
    "model.load_weights('tmp.h5')\n",
    "model.compile(loss='mae', optimizer='rmsprop', metrics=['mae'])\n",
    "history = model.fit_generator(\n",
    "    train_gen,\n",
    "    steps_per_epoch=500,\n",
    "    epochs=20,\n",
    "    validation_data=validation_gen,\n",
    "    validation_steps=validation_step\n",
    ")"
   ]
  },
  {
   "cell_type": "code",
   "execution_count": 26,
   "metadata": {},
   "outputs": [
    {
     "data": {
      "image/png": "[encoded data removed]",
      "text/plain": [
       "<Figure size 432x288 with 1 Axes>"
      ]
     },
     "metadata": {
      "needs_background": "light"
     },
     "output_type": "display_data"
    }
   ],
   "source": [
    "plot(history.history)"
   ]
  },
  {
   "cell_type": "code",
   "execution_count": 27,
   "metadata": {},
   "outputs": [],
   "source": [
    "look_back = ((24 * 60) // 10) * 10\n",
    "step = 3\n",
    "delay = (24 * 60) // 10\n",
    "batch_size = 128\n",
    "\n",
    "train_gen = generator(\n",
    "    float_data,\n",
    "    lookback = look_back,\n",
    "    delay = delay,\n",
    "    min_index = 0,\n",
    "    max_index = 20000,\n",
    "    shuffle = True,\n",
    "    step = step,\n",
    "    batch_size = batch_size\n",
    ")\n",
    "\n",
    "validation_gen = generator(\n",
    "    float_data,\n",
    "    lookback = look_back,\n",
    "    delay = delay,\n",
    "    min_index = 20001,\n",
    "    max_index = 30000,\n",
    "    step = step,\n",
    "    batch_size = batch_size\n",
    ")\n",
    "\n",
    "test_gen = generator(\n",
    "    float_data,\n",
    "    lookback = look_back,\n",
    "    delay = delay,\n",
    "    min_index = 30001,\n",
    "    max_index = None,\n",
    "    step = step,\n",
    "    batch_size = batch_size\n",
    ")\n",
    "\n",
    "validation_step = (30000 - 20001 - look_back) // batch_size\n",
    "test_step = (len(float_data) - 3000 - look_back) // batch_size"
   ]
  },
  {
   "cell_type": "code",
   "execution_count": 31,
   "metadata": {},
   "outputs": [
    {
     "name": "stdout",
     "output_type": "stream",
     "text": [
      "_________________________________________________________________\n",
      "Layer (type)                 Output Shape              Param #   \n",
      "=================================================================\n",
      "conv1d_6 (Conv1D)            (None, None, 32)          2272      \n",
      "_________________________________________________________________\n",
      "max_pooling1d_4 (MaxPooling1 (None, None, 32)          0         \n",
      "_________________________________________________________________\n",
      "conv1d_7 (Conv1D)            (None, None, 32)          5152      \n",
      "_________________________________________________________________\n",
      "gru_2 (GRU)                  (None, 32)                6240      \n",
      "_________________________________________________________________\n",
      "dense_3 (Dense)              (None, 1)                 33        \n",
      "=================================================================\n",
      "Total params: 13,697\n",
      "Trainable params: 13,697\n",
      "Non-trainable params: 0\n",
      "_________________________________________________________________\n"
     ]
    }
   ],
   "source": [
    "model = Sequential()\n",
    "model.add(Conv1D(32, 5, activation='relu', input_shape=(None, float_data.shape[-1])))\n",
    "model.add(MaxPool1D(3))\n",
    "model.add(Conv1D(32, 5, activation='relu'))\n",
    "model.add(GRU(32, dropout=0.1, recurrent_dropout=0.5))\n",
    "model.add(Dense(1))\n",
    "model.save_weights('tmp.h5')\n",
    "model.summary()"
   ]
  },
  {
   "cell_type": "code",
   "execution_count": 32,
   "metadata": {},
   "outputs": [
    {
     "name": "stdout",
     "output_type": "stream",
     "text": [
      "Epoch 1/20\n",
      "500/500 [==============================] - 92s 183ms/step - loss: 0.2912 - mean_absolute_error: 0.2912 - val_loss: 0.4901 - val_mean_absolute_error: 0.4901\n",
      "Epoch 2/20\n",
      "500/500 [==============================] - 90s 181ms/step - loss: 0.2219 - mean_absolute_error: 0.2219 - val_loss: 0.4237 - val_mean_absolute_error: 0.4237\n",
      "Epoch 3/20\n",
      "500/500 [==============================] - 92s 184ms/step - loss: 0.1888 - mean_absolute_error: 0.1888 - val_loss: 0.3966 - val_mean_absolute_error: 0.3966\n",
      "Epoch 4/20\n",
      "500/500 [==============================] - 90s 181ms/step - loss: 0.1652 - mean_absolute_error: 0.1652 - val_loss: 0.5151 - val_mean_absolute_error: 0.5151\n",
      "Epoch 5/20\n",
      "500/500 [==============================] - 94s 188ms/step - loss: 0.1498 - mean_absolute_error: 0.1498 - val_loss: 0.4819 - val_mean_absolute_error: 0.4819\n",
      "Epoch 6/20\n",
      "500/500 [==============================] - 97s 194ms/step - loss: 0.1386 - mean_absolute_error: 0.1386 - val_loss: 0.4683 - val_mean_absolute_error: 0.4683\n",
      "Epoch 7/20\n",
      "500/500 [==============================] - 98s 195ms/step - loss: 0.1295 - mean_absolute_error: 0.1295 - val_loss: 0.5617 - val_mean_absolute_error: 0.5617\n",
      "Epoch 8/20\n",
      "500/500 [==============================] - 92s 184ms/step - loss: 0.1240 - mean_absolute_error: 0.1240 - val_loss: 0.4779 - val_mean_absolute_error: 0.4779\n",
      "Epoch 9/20\n",
      "500/500 [==============================] - 92s 185ms/step - loss: 0.1176 - mean_absolute_error: 0.1176 - val_loss: 0.5191 - val_mean_absolute_error: 0.5191\n",
      "Epoch 10/20\n",
      "500/500 [==============================] - 93s 185ms/step - loss: 0.1143 - mean_absolute_error: 0.1143 - val_loss: 0.4716 - val_mean_absolute_error: 0.4716\n",
      "Epoch 11/20\n",
      "500/500 [==============================] - 93s 186ms/step - loss: 0.1104 - mean_absolute_error: 0.1104 - val_loss: 0.4702 - val_mean_absolute_error: 0.4702\n",
      "Epoch 12/20\n",
      "500/500 [==============================] - 96s 191ms/step - loss: 0.1072 - mean_absolute_error: 0.1072 - val_loss: 0.5220 - val_mean_absolute_error: 0.5220\n",
      "Epoch 13/20\n",
      "500/500 [==============================] - 91s 181ms/step - loss: 0.1034 - mean_absolute_error: 0.1034 - val_loss: 0.4588 - val_mean_absolute_error: 0.4588\n",
      "Epoch 14/20\n",
      "500/500 [==============================] - 93s 186ms/step - loss: 0.1011 - mean_absolute_error: 0.1011 - val_loss: 0.4401 - val_mean_absolute_error: 0.4401\n",
      "Epoch 15/20\n",
      "500/500 [==============================] - 92s 184ms/step - loss: 0.0990 - mean_absolute_error: 0.0990 - val_loss: 0.4593 - val_mean_absolute_error: 0.4593\n",
      "Epoch 16/20\n",
      "500/500 [==============================] - 95s 189ms/step - loss: 0.0969 - mean_absolute_error: 0.0969 - val_loss: 0.4989 - val_mean_absolute_error: 0.4989\n",
      "Epoch 17/20\n",
      "500/500 [==============================] - 108s 217ms/step - loss: 0.0946 - mean_absolute_error: 0.0946 - val_loss: 0.5028 - val_mean_absolute_error: 0.5028\n",
      "Epoch 18/20\n",
      "500/500 [==============================] - 97s 193ms/step - loss: 0.0932 - mean_absolute_error: 0.0932 - val_loss: 0.4915 - val_mean_absolute_error: 0.4915\n",
      "Epoch 19/20\n",
      "500/500 [==============================] - 93s 187ms/step - loss: 0.0917 - mean_absolute_error: 0.0917 - val_loss: 0.4766 - val_mean_absolute_error: 0.4766\n",
      "Epoch 20/20\n",
      "500/500 [==============================] - 101s 202ms/step - loss: 0.0892 - mean_absolute_error: 0.0892 - val_loss: 0.4640 - val_mean_absolute_error: 0.4640\n"
     ]
    }
   ],
   "source": [
    "model.load_weights('tmp.h5')\n",
    "model.compile(loss='mae', optimizer='rmsprop', metrics=['mae'])\n",
    "history = model.fit_generator(\n",
    "    train_gen,\n",
    "    steps_per_epoch=500,\n",
    "    epochs=20,\n",
    "    validation_data=validation_gen,\n",
    "    validation_steps=validation_step\n",
    ")"
   ]
  },
  {
   "cell_type": "code",
   "execution_count": 33,
   "metadata": {},
   "outputs": [
    {
     "data": {
      "image/png": "[encoded data removed]",
      "text/plain": [
       "<Figure size 432x288 with 1 Axes>"
      ]
     },
     "metadata": {
      "needs_background": "light"
     },
     "output_type": "display_data"
    }
   ],
   "source": [
    "plot(history.history)"
   ]
  }
 ],
 "metadata": {
  "kernelspec": {
   "display_name": "Python 3",
   "language": "python",
   "name": "python3"
  },
  "language_info": {
   "codemirror_mode": {
    "name": "ipython",
    "version": 3
   },
   "file_extension": ".py",
   "mimetype": "text/x-python",
   "name": "python",
   "nbconvert_exporter": "python",
   "pygments_lexer": "ipython3",
   "version": "3.6.7"
  }
 },
 "nbformat": 4,
 "nbformat_minor": 2
}
