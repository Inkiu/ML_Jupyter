{
 "cells": [
  {
   "cell_type": "code",
   "execution_count": 1,
   "metadata": {},
   "outputs": [
    {
     "name": "stderr",
     "output_type": "stream",
     "text": [
      "Using TensorFlow backend.\n"
     ]
    }
   ],
   "source": [
    "import keras\n",
    "from keras import layers\n",
    "from keras.datasets import imdb\n",
    "from keras.preprocessing import sequence"
   ]
  },
  {
   "cell_type": "code",
   "execution_count": 2,
   "metadata": {},
   "outputs": [],
   "source": [
    "max_features = 2000\n",
    "max_len = 500"
   ]
  },
  {
   "cell_type": "code",
   "execution_count": 3,
   "metadata": {},
   "outputs": [],
   "source": [
    "(x_train, y_train), (x_test, y_test) = imdb.load_data(num_words=max_features)\n",
    "x_train = sequence.pad_sequences(x_train, maxlen=max_len)\n",
    "x_test = sequence.pad_sequences(x_test, maxlen=max_len)"
   ]
  },
  {
   "cell_type": "code",
   "execution_count": 4,
   "metadata": {},
   "outputs": [
    {
     "name": "stdout",
     "output_type": "stream",
     "text": [
      "_________________________________________________________________\n",
      "Layer (type)                 Output Shape              Param #   \n",
      "=================================================================\n",
      "embed (Embedding)            (None, 500, 128)          256000    \n",
      "_________________________________________________________________\n",
      "conv1d_1 (Conv1D)            (None, 494, 32)           28704     \n",
      "_________________________________________________________________\n",
      "max_pooling1d_1 (MaxPooling1 (None, 98, 32)            0         \n",
      "_________________________________________________________________\n",
      "conv1d_2 (Conv1D)            (None, 92, 32)            7200      \n",
      "_________________________________________________________________\n",
      "global_max_pooling1d_1 (Glob (None, 32)                0         \n",
      "_________________________________________________________________\n",
      "dense_1 (Dense)              (None, 1)                 33        \n",
      "=================================================================\n",
      "Total params: 291,937\n",
      "Trainable params: 291,937\n",
      "Non-trainable params: 0\n",
      "_________________________________________________________________\n"
     ]
    }
   ],
   "source": [
    "model = keras.models.Sequential()\n",
    "model.add(layers.Embedding(max_features, 128, input_length=max_len, name = 'embed'))\n",
    "model.add(layers.Conv1D(32, 7, activation = 'relu'))\n",
    "model.add(layers.MaxPooling1D(5))\n",
    "model.add(layers.Conv1D(32, 7, activation = 'relu'))\n",
    "model.add(layers.GlobalMaxPool1D())\n",
    "model.add(layers.Dense(1, activation = 'sigmoid'))\n",
    "model.summary()"
   ]
  },
  {
   "cell_type": "code",
   "execution_count": 5,
   "metadata": {},
   "outputs": [],
   "source": [
    "model.compile(\n",
    "    optimizer = 'rmsprop',\n",
    "    loss = 'binary_crossentropy',\n",
    "    metrics = ['acc']\n",
    ")"
   ]
  },
  {
   "cell_type": "code",
   "execution_count": 11,
   "metadata": {},
   "outputs": [],
   "source": [
    "callbacks = [\n",
    "    keras.callbacks.TensorBoard(\n",
    "        log_dir = 'log_dir',\n",
    "        histogram_freq = 1,\n",
    "        # embedding_freq = 1,\n",
    "    )\n",
    "]"
   ]
  },
  {
   "cell_type": "code",
   "execution_count": 12,
   "metadata": {},
   "outputs": [
    {
     "name": "stdout",
     "output_type": "stream",
     "text": [
      "Train on 20000 samples, validate on 5000 samples\n",
      "Epoch 1/20\n",
      "20000/20000 [==============================] - 1s 72us/step - loss: 0.3288 - acc: 0.8586 - val_loss: 0.3290 - val_acc: 0.8610\n",
      "Epoch 2/20\n",
      "20000/20000 [==============================] - 2s 77us/step - loss: 0.2821 - acc: 0.8854 - val_loss: 0.3320 - val_acc: 0.8596\n",
      "Epoch 3/20\n",
      "20000/20000 [==============================] - 1s 70us/step - loss: 0.2477 - acc: 0.8987 - val_loss: 0.3259 - val_acc: 0.8644\n",
      "Epoch 4/20\n",
      "20000/20000 [==============================] - 1s 74us/step - loss: 0.2161 - acc: 0.9182 - val_loss: 0.4111 - val_acc: 0.8336\n",
      "Epoch 5/20\n",
      "20000/20000 [==============================] - 1s 70us/step - loss: 0.1856 - acc: 0.9288 - val_loss: 0.3932 - val_acc: 0.8470\n",
      "Epoch 6/20\n",
      "20000/20000 [==============================] - 1s 72us/step - loss: 0.1528 - acc: 0.9453 - val_loss: 0.3384 - val_acc: 0.8684\n",
      "Epoch 7/20\n",
      "20000/20000 [==============================] - 1s 70us/step - loss: 0.1200 - acc: 0.9591 - val_loss: 0.3782 - val_acc: 0.8572\n",
      "Epoch 8/20\n",
      "20000/20000 [==============================] - 1s 70us/step - loss: 0.0897 - acc: 0.9736 - val_loss: 0.3951 - val_acc: 0.8616\n",
      "Epoch 9/20\n",
      "20000/20000 [==============================] - 1s 71us/step - loss: 0.0609 - acc: 0.9834 - val_loss: 0.4544 - val_acc: 0.8604\n",
      "Epoch 10/20\n",
      "20000/20000 [==============================] - 1s 70us/step - loss: 0.0388 - acc: 0.9914 - val_loss: 0.4990 - val_acc: 0.8548\n",
      "Epoch 11/20\n",
      "20000/20000 [==============================] - 1s 70us/step - loss: 0.0238 - acc: 0.9952 - val_loss: 0.5318 - val_acc: 0.8588\n",
      "Epoch 12/20\n",
      "20000/20000 [==============================] - 1s 70us/step - loss: 0.0133 - acc: 0.9983 - val_loss: 0.6165 - val_acc: 0.8546\n",
      "Epoch 13/20\n",
      "20000/20000 [==============================] - 1s 71us/step - loss: 0.0087 - acc: 0.9987 - val_loss: 0.6365 - val_acc: 0.8580\n",
      "Epoch 14/20\n",
      "20000/20000 [==============================] - 1s 72us/step - loss: 0.0051 - acc: 0.9995 - val_loss: 0.6865 - val_acc: 0.8582\n",
      "Epoch 15/20\n",
      "20000/20000 [==============================] - 1s 71us/step - loss: 0.0032 - acc: 0.9994 - val_loss: 0.7259 - val_acc: 0.8574\n",
      "Epoch 16/20\n",
      "20000/20000 [==============================] - 1s 74us/step - loss: 0.0022 - acc: 0.9996 - val_loss: 0.7621 - val_acc: 0.8604\n",
      "Epoch 17/20\n",
      "20000/20000 [==============================] - 1s 70us/step - loss: 0.0014 - acc: 0.9999 - val_loss: 0.8041 - val_acc: 0.8554\n",
      "Epoch 18/20\n",
      "20000/20000 [==============================] - 1s 71us/step - loss: 0.0012 - acc: 0.9997 - val_loss: 0.8602 - val_acc: 0.8576\n",
      "Epoch 19/20\n",
      "20000/20000 [==============================] - 1s 72us/step - loss: 2.4702e-04 - acc: 1.0000 - val_loss: 0.8854 - val_acc: 0.8600\n",
      "Epoch 20/20\n",
      "20000/20000 [==============================] - 1s 70us/step - loss: 4.3720e-04 - acc: 0.9999 - val_loss: 0.9224 - val_acc: 0.8608\n"
     ]
    }
   ],
   "source": [
    "history = model.fit(\n",
    "    x_train, y_train,\n",
    "    batch_size = 128,\n",
    "    epochs = 20,\n",
    "    validation_split = 0.2,\n",
    "    callbacks = callbacks\n",
    ")"
   ]
  },
  {
   "cell_type": "code",
   "execution_count": null,
   "metadata": {},
   "outputs": [],
   "source": []
  }
 ],
 "metadata": {
  "kernelspec": {
   "display_name": "Python 3",
   "language": "python",
   "name": "python3"
  },
  "language_info": {
   "codemirror_mode": {
    "name": "ipython",
    "version": 3
   },
   "file_extension": ".py",
   "mimetype": "text/x-python",
   "name": "python",
   "nbconvert_exporter": "python",
   "pygments_lexer": "ipython3",
   "version": "3.6.7"
  }
 },
 "nbformat": 4,
 "nbformat_minor": 2
}
