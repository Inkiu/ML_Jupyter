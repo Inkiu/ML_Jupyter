{
 "cells": [
  {
   "cell_type": "code",
   "execution_count": 1,
   "metadata": {},
   "outputs": [
    {
     "name": "stderr",
     "output_type": "stream",
     "text": [
      "Using TensorFlow backend.\n"
     ]
    }
   ],
   "source": [
    "# loading data\n",
    "from keras.datasets import boston_housing\n",
    "(train_data, train_target), (test_data, test_target) = boston_housing.load_data()"
   ]
  },
  {
   "cell_type": "code",
   "execution_count": 2,
   "metadata": {},
   "outputs": [],
   "source": [
    "num_epochs = 80\n",
    "num_batch = 16"
   ]
  },
  {
   "cell_type": "code",
   "execution_count": 3,
   "metadata": {},
   "outputs": [],
   "source": [
    "# standardization for input_data\n",
    "x_train = train_data - train_data.mean(axis = 0)\n",
    "x_train = x_train / x_train.std(axis = 0)\n",
    "\n",
    "x_test = test_data - test_data.mean(axis = 0)\n",
    "x_test = x_test / x_test.std(axis = 0)\n",
    "\n",
    "# change name of test_target\n",
    "y_train = train_target\n",
    "y_test = test_target"
   ]
  },
  {
   "cell_type": "code",
   "execution_count": 4,
   "metadata": {},
   "outputs": [],
   "source": [
    "# building network\n",
    "from keras.models import *\n",
    "from keras.layers import *\n",
    "def build_model(input_data_shape):\n",
    "    model = Sequential()\n",
    "    model.add(Dense(64, activation='relu', input_shape = (input_data_shape,)))\n",
    "    model.add(Dense(64, activation='relu'))\n",
    "    model.add(Dense(1)) # no activation method = linear\n",
    "    model.compile(\n",
    "        loss = 'mse',\n",
    "        optimizer='rmsprop',\n",
    "        metrics=['mae']\n",
    "    )\n",
    "    return model"
   ]
  },
  {
   "cell_type": "code",
   "execution_count": 5,
   "metadata": {},
   "outputs": [],
   "source": [
    "# k-fold cross-validation\n",
    "import numpy as np\n",
    "def run_k_fold_validation(k, data, target, epochs_count, batch_count):\n",
    "    val_samples = len(data) // k\n",
    "    \n",
    "    all_mae_histories = []\n",
    "    for i in range(k):\n",
    "        print(\"Processing fold number : \", i)\n",
    "        val_start = i * val_samples\n",
    "        val_end = (i + 1) * val_samples\n",
    "        \n",
    "        # validation samples\n",
    "        val_data = data[val_start: val_end]\n",
    "        val_target = target[val_start: val_end]\n",
    "        \n",
    "        # train samples\n",
    "        train_data = np.concatenate([data[:val_start], data[val_end:]], axis = 0)\n",
    "        train_target = np.concatenate([target[:val_start], target[val_end:]], axis = 0)\n",
    "        \n",
    "        # train\n",
    "        network = build_model(data.shape[1])\n",
    "        history = network.fit(\n",
    "            train_data, train_target,\n",
    "            validation_data = (val_data, val_target),\n",
    "            epochs = epochs_count,\n",
    "            batch_size = batch_count,\n",
    "            verbose = 0\n",
    "        )\n",
    "        \n",
    "        # add history\n",
    "        all_mae_histories.append(history.history['val_mean_absolute_error'])\n",
    "        print(\"End of process number : \", i)\n",
    "        \n",
    "    return all_mae_histories"
   ]
  },
  {
   "cell_type": "code",
   "execution_count": 6,
   "metadata": {},
   "outputs": [
    {
     "name": "stdout",
     "output_type": "stream",
     "text": [
      "Processing fold number :  0\n",
      "End of process number :  0\n",
      "Processing fold number :  1\n",
      "End of process number :  1\n",
      "Processing fold number :  2\n",
      "End of process number :  2\n",
      "Processing fold number :  3\n",
      "End of process number :  3\n"
     ]
    }
   ],
   "source": [
    "# mean history\n",
    "histories = run_k_fold_validation(4, x_train, y_train, num_epochs, num_batch)\n",
    "avg_mae = [np.mean([histroy[i] for histroy in histories]) for i in range(num_epochs)]"
   ]
  },
  {
   "cell_type": "code",
   "execution_count": 7,
   "metadata": {},
   "outputs": [],
   "source": [
    "# exponential moving average\n",
    "def smooth_curve(points, factor = 0.9):\n",
    "    smooth = []\n",
    "    for point in points:\n",
    "        if (smooth):\n",
    "            smooth.append(smooth[-1] * factor + point * (1 - factor))\n",
    "        else:\n",
    "            smooth.append(point)\n",
    "    return smooth\n",
    "        "
   ]
  },
  {
   "cell_type": "code",
   "execution_count": 23,
   "metadata": {},
   "outputs": [
    {
     "data": {
      "image/png": "[encoded data removed]",
      "text/plain": [
       "<Figure size 432x288 with 1 Axes>"
      ]
     },
     "metadata": {
      "needs_background": "light"
     },
     "output_type": "display_data"
    }
   ],
   "source": [
    "# plot\n",
    "import matplotlib.pyplot as plt\n",
    "smoothed = smooth_curve(avg_mae[:])\n",
    "plt.clf()\n",
    "plt.plot(range(1, len(smoothed) + 1), smoothed)\n",
    "plt.xlabel('Epochs')\n",
    "plt.ylabel('Validation MAE')\n",
    "plt.show()"
   ]
  },
  {
   "cell_type": "code",
   "execution_count": 19,
   "metadata": {},
   "outputs": [
    {
     "name": "stdout",
     "output_type": "stream",
     "text": [
      "102/102 [==============================] - 0s 1ms/step\n"
     ]
    },
    {
     "data": {
      "text/plain": [
       "[16.465447070551853, 2.5234423525193157]"
      ]
     },
     "execution_count": 19,
     "metadata": {},
     "output_type": "execute_result"
    }
   ],
   "source": [
    "network = build_model(x_train.shape[1])\n",
    "network.fit(x_train, y_train, epochs=80, batch_size=16, verbose = 0)\n",
    "network.evaluate(x_test, y_test)"
   ]
  }
 ],
 "metadata": {
  "kernelspec": {
   "display_name": "Python 3",
   "language": "python",
   "name": "python3"
  },
  "language_info": {
   "codemirror_mode": {
    "name": "ipython",
    "version": 3
   },
   "file_extension": ".py",
   "mimetype": "text/x-python",
   "name": "python",
   "nbconvert_exporter": "python",
   "pygments_lexer": "ipython3",
   "version": "3.6.7"
  }
 },
 "nbformat": 4,
 "nbformat_minor": 2
}
