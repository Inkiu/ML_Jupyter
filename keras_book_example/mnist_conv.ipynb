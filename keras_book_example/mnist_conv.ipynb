{
 "cells": [
  {
   "cell_type": "code",
   "execution_count": 24,
   "metadata": {},
   "outputs": [],
   "source": [
    "from keras.datasets import mnist\n",
    "from keras import models\n",
    "from keras import layers\n",
    "from keras.utils import to_categorical\n",
    "import matplotlib.pyplot as plt"
   ]
  },
  {
   "cell_type": "code",
   "execution_count": 2,
   "metadata": {},
   "outputs": [],
   "source": [
    "epoch = 5\n",
    "batch = 64"
   ]
  },
  {
   "cell_type": "code",
   "execution_count": 3,
   "metadata": {},
   "outputs": [],
   "source": [
    "(x_train, y_train), (x_test, y_test) = mnist.load_data()"
   ]
  },
  {
   "cell_type": "code",
   "execution_count": 5,
   "metadata": {},
   "outputs": [],
   "source": [
    "x_conv_train = x_train.reshape((x_train.shape[0], x_train.shape[1], x_train.shape[2], 1))\n",
    "x_conv_train = x_conv_train.astype('float32') / 255\n",
    "\n",
    "x_conv_test = x_test.reshape((x_test.shape[0], x_test.shape[1], x_test.shape[2], 1))\n",
    "x_conv_test = x_conv_test.astype('float32') / 255"
   ]
  },
  {
   "cell_type": "code",
   "execution_count": 6,
   "metadata": {},
   "outputs": [],
   "source": [
    "x_dense_train = x_train.reshape(x_train.shape[0], x_train.shape[1] * x_train.shape[2])\n",
    "x_dense_train = x_dense_train.astype('float32') / 255\n",
    "\n",
    "x_dense_test = x_test.reshape(x_test.shape[0], x_test.shape[1] * x_test.shape[2])\n",
    "x_dense_test = x_dense_test.astype('float32') / 255"
   ]
  },
  {
   "cell_type": "code",
   "execution_count": 7,
   "metadata": {},
   "outputs": [],
   "source": [
    "y_train = to_categorical(y_train)\n",
    "y_test = to_categorical(y_test)"
   ]
  },
  {
   "cell_type": "code",
   "execution_count": 35,
   "metadata": {},
   "outputs": [],
   "source": [
    "def build_model_densely(shape):\n",
    "    network = models.Sequential()\n",
    "    network.add(layers.Dense(512, activation = 'relu', input_shape = (shape,)))\n",
    "    network.add(layers.Dense(10, activation = 'softmax'))\n",
    "    network.summary()\n",
    "    return network"
   ]
  },
  {
   "cell_type": "code",
   "execution_count": 36,
   "metadata": {},
   "outputs": [],
   "source": [
    "def build_model_conv(shape):\n",
    "    network = models.Sequential()\n",
    "    network.add(layers.Conv2D(32, (3, 3), activation = 'relu', input_shape = shape))\n",
    "    network.add(layers.MaxPooling2D((2, 2)))\n",
    "    network.add(layers.Conv2D(64, (3, 3), activation = 'relu', input_shape = shape))\n",
    "    network.add(layers.MaxPooling2D((2, 2)))\n",
    "    network.add(layers.Conv2D(64, (3, 3), activation = 'relu'))\n",
    "    network.add(layers.Flatten())\n",
    "    network.add(layers.Dense(64, activation = 'relu'))\n",
    "    network.add(layers.Dense(10, activation = 'softmax'))\n",
    "    network.summary()\n",
    "    return network"
   ]
  },
  {
   "cell_type": "code",
   "execution_count": 37,
   "metadata": {},
   "outputs": [],
   "source": [
    "def run_model(network, train_x, train_y, e, b):\n",
    "    network.compile(\n",
    "        optimizer = 'adam',\n",
    "        loss = 'categorical_crossentropy',\n",
    "        metrics = ['acc']\n",
    "    )\n",
    "    history = network.fit(\n",
    "        train_x, train_y,\n",
    "        epochs = e,\n",
    "        batch_size = b\n",
    "    )\n",
    "    return history"
   ]
  },
  {
   "cell_type": "code",
   "execution_count": 38,
   "metadata": {},
   "outputs": [
    {
     "name": "stdout",
     "output_type": "stream",
     "text": [
      "_________________________________________________________________\n",
      "Layer (type)                 Output Shape              Param #   \n",
      "=================================================================\n",
      "dense_9 (Dense)              (None, 512)               401920    \n",
      "_________________________________________________________________\n",
      "dense_10 (Dense)             (None, 10)                5130      \n",
      "=================================================================\n",
      "Total params: 407,050\n",
      "Trainable params: 407,050\n",
      "Non-trainable params: 0\n",
      "_________________________________________________________________\n",
      "Epoch 1/5\n",
      "60000/60000 [==============================] - 9s 146us/step - loss: 0.2281 - acc: 0.9352\n",
      "Epoch 2/5\n",
      "60000/60000 [==============================] - 9s 143us/step - loss: 0.0889 - acc: 0.9740\n",
      "Epoch 3/5\n",
      "60000/60000 [==============================] - 9s 147us/step - loss: 0.0565 - acc: 0.9830\n",
      "Epoch 4/5\n",
      "60000/60000 [==============================] - 9s 145us/step - loss: 0.0389 - acc: 0.9881\n",
      "Epoch 5/5\n",
      "60000/60000 [==============================] - 9s 145us/step - loss: 0.0282 - acc: 0.9917\n"
     ]
    }
   ],
   "source": [
    "dense_net = build_model_densely(x_dense_train.shape[1])\n",
    "dense_his = run_model(dense_net, x_dense_train, y_train, epoch, batch)"
   ]
  },
  {
   "cell_type": "code",
   "execution_count": 39,
   "metadata": {},
   "outputs": [
    {
     "name": "stdout",
     "output_type": "stream",
     "text": [
      "_________________________________________________________________\n",
      "Layer (type)                 Output Shape              Param #   \n",
      "=================================================================\n",
      "conv2d_13 (Conv2D)           (None, 26, 26, 32)        320       \n",
      "_________________________________________________________________\n",
      "max_pooling2d_9 (MaxPooling2 (None, 13, 13, 32)        0         \n",
      "_________________________________________________________________\n",
      "conv2d_14 (Conv2D)           (None, 11, 11, 64)        18496     \n",
      "_________________________________________________________________\n",
      "max_pooling2d_10 (MaxPooling (None, 5, 5, 64)          0         \n",
      "_________________________________________________________________\n",
      "conv2d_15 (Conv2D)           (None, 3, 3, 64)          36928     \n",
      "_________________________________________________________________\n",
      "flatten_2 (Flatten)          (None, 576)               0         \n",
      "_________________________________________________________________\n",
      "dense_11 (Dense)             (None, 64)                36928     \n",
      "_________________________________________________________________\n",
      "dense_12 (Dense)             (None, 10)                650       \n",
      "=================================================================\n",
      "Total params: 93,322\n",
      "Trainable params: 93,322\n",
      "Non-trainable params: 0\n",
      "_________________________________________________________________\n",
      "Epoch 1/5\n",
      "60000/60000 [==============================] - 46s 773us/step - loss: 0.1957 - acc: 0.9397\n",
      "Epoch 2/5\n",
      "60000/60000 [==============================] - 47s 776us/step - loss: 0.0515 - acc: 0.9839\n",
      "Epoch 3/5\n",
      "60000/60000 [==============================] - 46s 762us/step - loss: 0.0359 - acc: 0.9885\n",
      "Epoch 4/5\n",
      "60000/60000 [==============================] - 45s 742us/step - loss: 0.0279 - acc: 0.9911\n",
      "Epoch 5/5\n",
      "60000/60000 [==============================] - 45s 754us/step - loss: 0.0224 - acc: 0.9927\n"
     ]
    }
   ],
   "source": [
    "conv_net = build_model_conv((x_conv_train.shape[1], x_conv_train.shape[2], 1))\n",
    "conv_his = run_model(conv_net, x_conv_train, y_train, epoch, batch)"
   ]
  },
  {
   "cell_type": "code",
   "execution_count": 40,
   "metadata": {},
   "outputs": [
    {
     "data": {
      "image/png": "[encoded data removed]",
      "text/plain": [
       "<Figure size 432x288 with 1 Axes>"
      ]
     },
     "metadata": {
      "needs_background": "light"
     },
     "output_type": "display_data"
    }
   ],
   "source": [
    "x = range(epoch)\n",
    "plt.clf()\n",
    "plt.plot(x, conv_his.history['loss'], 'rP', label = 'Conv Loss')\n",
    "plt.plot(x, conv_his.history['acc'], 'r', label = 'Conv Acc')\n",
    "plt.plot(x, dense_his.history['loss'], 'bP', label = 'Dense Loss')\n",
    "plt.plot(x, dense_his.history['acc'], 'b', label = 'Dense Acc')\n",
    "plt.title('Conv vs Dense')\n",
    "plt.ylabel('Loss and Accuracy')\n",
    "plt.legend(loc = 'center right')\n",
    "plt.ylim((0.95, 1.0))\n",
    "\n",
    "plt.show()"
   ]
  },
  {
   "cell_type": "code",
   "execution_count": 41,
   "metadata": {},
   "outputs": [
    {
     "name": "stdout",
     "output_type": "stream",
     "text": [
      "10000/10000 [==============================] - 3s 270us/step\n",
      "Conv Loss :  0.03748118642807822 \tConv Acc :  0.9878\n"
     ]
    }
   ],
   "source": [
    "conv_loss, conv_acc = conv_net.evaluate(x_conv_test, y_test)\n",
    "print(\"Conv Loss : \", conv_loss, \"\\tConv Acc : \", conv_acc)"
   ]
  },
  {
   "cell_type": "code",
   "execution_count": 42,
   "metadata": {},
   "outputs": [
    {
     "name": "stdout",
     "output_type": "stream",
     "text": [
      "10000/10000 [==============================] - 1s 61us/step\n",
      "Dense Loss :  0.0597078202982957 \tDense Acc :  0.9811\n"
     ]
    }
   ],
   "source": [
    "dense_loss, dense_acc = dense_net.evaluate(x_dense_test, y_test)\n",
    "print(\"Dense Loss : \", dense_loss, \"\\tDense Acc : \", dense_acc)"
   ]
  }
 ],
 "metadata": {
  "kernelspec": {
   "display_name": "Python 3",
   "language": "python",
   "name": "python3"
  },
  "language_info": {
   "codemirror_mode": {
    "name": "ipython",
    "version": 3
   },
   "file_extension": ".py",
   "mimetype": "text/x-python",
   "name": "python",
   "nbconvert_exporter": "python",
   "pygments_lexer": "ipython3",
   "version": "3.6.7"
  }
 },
 "nbformat": 4,
 "nbformat_minor": 2
}
