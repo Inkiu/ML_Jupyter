{
 "cells": [
  {
   "cell_type": "code",
   "execution_count": 2,
   "metadata": {},
   "outputs": [
    {
     "name": "stderr",
     "output_type": "stream",
     "text": [
      "Using TensorFlow backend.\n"
     ]
    }
   ],
   "source": [
    "from keras.preprocessing import sequence\n",
    "from keras.datasets import imdb\n",
    "from keras.layers import *\n",
    "from keras.models import Sequential"
   ]
  },
  {
   "cell_type": "code",
   "execution_count": 3,
   "metadata": {},
   "outputs": [],
   "source": [
    "import matplotlib.pyplot as plt\n",
    "def plot(history):\n",
    "    epoch = range(1, len(history['acc']) + 1)\n",
    "    plt.clf()\n",
    "    plt.plot(epoch, history['acc'], 'bo', label='Training Acc')\n",
    "    plt.plot(epoch, history['loss'], 'b', label='Training Loss')\n",
    "    plt.plot(epoch, history['val_acc'], 'ro', label='Validation Acc')\n",
    "    plt.plot(epoch, history['val_loss'], 'r', label='Validation Loss')\n",
    "    plt.legend()\n",
    "    plt.show()"
   ]
  },
  {
   "cell_type": "code",
   "execution_count": 4,
   "metadata": {},
   "outputs": [],
   "source": [
    "max_features = 10000\n",
    "max_len = 500\n",
    "batch_size = 32"
   ]
  },
  {
   "cell_type": "code",
   "execution_count": 5,
   "metadata": {},
   "outputs": [],
   "source": [
    "(x_train, y_train), (x_test, y_test) = imdb.load_data(num_words=max_features)"
   ]
  },
  {
   "cell_type": "code",
   "execution_count": 6,
   "metadata": {},
   "outputs": [],
   "source": [
    "x_train = sequence.pad_sequences(x_train, maxlen=max_len)\n",
    "x_test = sequence.pad_sequences(x_test, maxlen=max_len)"
   ]
  },
  {
   "cell_type": "code",
   "execution_count": 5,
   "metadata": {},
   "outputs": [],
   "source": [
    "model = Sequential()\n",
    "model.add(Embedding(max_features, 32))\n",
    "model.add(SimpleRNN(32))\n",
    "model.add(Dense(1, activation=\"sigmoid\"))"
   ]
  },
  {
   "cell_type": "code",
   "execution_count": 6,
   "metadata": {},
   "outputs": [],
   "source": [
    "model.compile(\n",
    "    optimizer = 'rmsprop',\n",
    "    loss = 'binary_crossentropy',\n",
    "    metrics=['acc']\n",
    ")"
   ]
  },
  {
   "cell_type": "code",
   "execution_count": 7,
   "metadata": {},
   "outputs": [
    {
     "name": "stdout",
     "output_type": "stream",
     "text": [
      "Train on 20000 samples, validate on 5000 samples\n",
      "Epoch 1/10\n",
      "20000/20000 [==============================] - 103s 5ms/step - loss: 0.5446 - acc: 0.7054 - val_loss: 0.4366 - val_acc: 0.8156\n",
      "Epoch 2/10\n",
      "20000/20000 [==============================] - 100s 5ms/step - loss: 0.3544 - acc: 0.8537 - val_loss: 0.3519 - val_acc: 0.8638\n",
      "Epoch 3/10\n",
      "20000/20000 [==============================] - 103s 5ms/step - loss: 0.2988 - acc: 0.8833 - val_loss: 0.3684 - val_acc: 0.8356\n",
      "Epoch 4/10\n",
      "20000/20000 [==============================] - 102s 5ms/step - loss: 0.2604 - acc: 0.8987 - val_loss: 0.3525 - val_acc: 0.8506\n",
      "Epoch 5/10\n",
      "20000/20000 [==============================] - 100s 5ms/step - loss: 0.2331 - acc: 0.9099 - val_loss: 0.7140 - val_acc: 0.7598\n",
      "Epoch 6/10\n",
      "20000/20000 [==============================] - 100s 5ms/step - loss: 0.1853 - acc: 0.9313 - val_loss: 0.3827 - val_acc: 0.8574\n",
      "Epoch 7/10\n",
      "20000/20000 [==============================] - 96s 5ms/step - loss: 0.1659 - acc: 0.9372 - val_loss: 0.4255 - val_acc: 0.8396\n",
      "Epoch 8/10\n",
      "20000/20000 [==============================] - 102s 5ms/step - loss: 0.1436 - acc: 0.9468 - val_loss: 0.4546 - val_acc: 0.8374\n",
      "Epoch 9/10\n",
      "20000/20000 [==============================] - 97s 5ms/step - loss: 0.1054 - acc: 0.9619 - val_loss: 0.5401 - val_acc: 0.7996\n",
      "Epoch 10/10\n",
      "20000/20000 [==============================] - 96s 5ms/step - loss: 0.0887 - acc: 0.9685 - val_loss: 0.6499 - val_acc: 0.7774\n"
     ]
    }
   ],
   "source": [
    "history = model.fit(\n",
    "    x_train, y_train,\n",
    "    epochs=10,\n",
    "    batch_size = batch_size,\n",
    "    validation_split= 0.2\n",
    ")"
   ]
  },
  {
   "cell_type": "code",
   "execution_count": 12,
   "metadata": {},
   "outputs": [
    {
     "data": {
      "image/png": "[encoded data removed]",
      "text/plain": [
       "<Figure size 432x288 with 1 Axes>"
      ]
     },
     "metadata": {
      "needs_background": "light"
     },
     "output_type": "display_data"
    }
   ],
   "source": [
    "plot(history.history)"
   ]
  },
  {
   "cell_type": "code",
   "execution_count": 13,
   "metadata": {},
   "outputs": [],
   "source": [
    "model.save('imdb_simpleRNN.h5')"
   ]
  },
  {
   "cell_type": "code",
   "execution_count": 7,
   "metadata": {},
   "outputs": [],
   "source": [
    "model = Sequential()\n",
    "model.add(Embedding(max_features, 32))\n",
    "model.add(LSTM(32))\n",
    "model.add(Dense(1, activation=\"sigmoid\"))"
   ]
  },
  {
   "cell_type": "code",
   "execution_count": 8,
   "metadata": {},
   "outputs": [],
   "source": [
    "model.compile(\n",
    "    optimizer = 'rmsprop',\n",
    "    loss = 'binary_crossentropy',\n",
    "    metrics=['acc']\n",
    ")"
   ]
  },
  {
   "cell_type": "code",
   "execution_count": 9,
   "metadata": {},
   "outputs": [
    {
     "name": "stdout",
     "output_type": "stream",
     "text": [
      "Train on 20000 samples, validate on 5000 samples\n",
      "Epoch 1/10\n",
      "20000/20000 [==============================] - 422s 21ms/step - loss: 0.4184 - acc: 0.8083 - val_loss: 0.3234 - val_acc: 0.8654\n",
      "Epoch 2/10\n",
      "20000/20000 [==============================] - 403s 20ms/step - loss: 0.2663 - acc: 0.8963 - val_loss: 0.2982 - val_acc: 0.8750\n",
      "Epoch 3/10\n",
      "20000/20000 [==============================] - 385s 19ms/step - loss: 0.2256 - acc: 0.9166 - val_loss: 0.2932 - val_acc: 0.8880\n",
      "Epoch 4/10\n",
      "20000/20000 [==============================] - 389s 19ms/step - loss: 0.1996 - acc: 0.9276 - val_loss: 0.2841 - val_acc: 0.8826\n",
      "Epoch 5/10\n",
      "20000/20000 [==============================] - 422s 21ms/step - loss: 0.1833 - acc: 0.9330 - val_loss: 0.2748 - val_acc: 0.8950\n",
      "Epoch 6/10\n",
      "20000/20000 [==============================] - 416s 21ms/step - loss: 0.1684 - acc: 0.9392 - val_loss: 0.2721 - val_acc: 0.8920\n",
      "Epoch 7/10\n",
      "20000/20000 [==============================] - 461s 23ms/step - loss: 0.1578 - acc: 0.9446 - val_loss: 0.3009 - val_acc: 0.8906\n",
      "Epoch 8/10\n",
      "20000/20000 [==============================] - 413s 21ms/step - loss: 0.1490 - acc: 0.9466 - val_loss: 0.3295 - val_acc: 0.8878\n",
      "Epoch 9/10\n",
      "20000/20000 [==============================] - 413s 21ms/step - loss: 0.1386 - acc: 0.9519 - val_loss: 0.3003 - val_acc: 0.8862\n",
      "Epoch 10/10\n",
      "20000/20000 [==============================] - 393s 20ms/step - loss: 0.1321 - acc: 0.9537 - val_loss: 0.3055 - val_acc: 0.8908\n"
     ]
    }
   ],
   "source": [
    "history = model.fit(\n",
    "    x_train, y_train,\n",
    "    epochs=10,\n",
    "    batch_size = batch_size,\n",
    "    validation_split= 0.2\n",
    ")"
   ]
  },
  {
   "cell_type": "code",
   "execution_count": 10,
   "metadata": {},
   "outputs": [
    {
     "data": {
      "image/png": "[encoded data removed]",
      "text/plain": [
       "<Figure size 432x288 with 1 Axes>"
      ]
     },
     "metadata": {
      "needs_background": "light"
     },
     "output_type": "display_data"
    }
   ],
   "source": [
    "plot(history.history)"
   ]
  }
 ],
 "metadata": {
  "kernelspec": {
   "display_name": "Python 3",
   "language": "python",
   "name": "python3"
  },
  "language_info": {
   "codemirror_mode": {
    "name": "ipython",
    "version": 3
   },
   "file_extension": ".py",
   "mimetype": "text/x-python",
   "name": "python",
   "nbconvert_exporter": "python",
   "pygments_lexer": "ipython3",
   "version": "3.6.7"
  }
 },
 "nbformat": 4,
 "nbformat_minor": 2
}
