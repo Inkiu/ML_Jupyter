{
 "cells": [
  {
   "cell_type": "code",
   "execution_count": 1,
   "metadata": {},
   "outputs": [
    {
     "name": "stderr",
     "output_type": "stream",
     "text": [
      "Using TensorFlow backend.\n"
     ]
    }
   ],
   "source": [
    "from keras.applications import VGG16"
   ]
  },
  {
   "cell_type": "code",
   "execution_count": 2,
   "metadata": {},
   "outputs": [
    {
     "name": "stdout",
     "output_type": "stream",
     "text": [
      "_________________________________________________________________\n",
      "Layer (type)                 Output Shape              Param #   \n",
      "=================================================================\n",
      "input_1 (InputLayer)         (None, 150, 150, 3)       0         \n",
      "_________________________________________________________________\n",
      "block1_conv1 (Conv2D)        (None, 150, 150, 64)      1792      \n",
      "_________________________________________________________________\n",
      "block1_conv2 (Conv2D)        (None, 150, 150, 64)      36928     \n",
      "_________________________________________________________________\n",
      "block1_pool (MaxPooling2D)   (None, 75, 75, 64)        0         \n",
      "_________________________________________________________________\n",
      "block2_conv1 (Conv2D)        (None, 75, 75, 128)       73856     \n",
      "_________________________________________________________________\n",
      "block2_conv2 (Conv2D)        (None, 75, 75, 128)       147584    \n",
      "_________________________________________________________________\n",
      "block2_pool (MaxPooling2D)   (None, 37, 37, 128)       0         \n",
      "_________________________________________________________________\n",
      "block3_conv1 (Conv2D)        (None, 37, 37, 256)       295168    \n",
      "_________________________________________________________________\n",
      "block3_conv2 (Conv2D)        (None, 37, 37, 256)       590080    \n",
      "_________________________________________________________________\n",
      "block3_conv3 (Conv2D)        (None, 37, 37, 256)       590080    \n",
      "_________________________________________________________________\n",
      "block3_pool (MaxPooling2D)   (None, 18, 18, 256)       0         \n",
      "_________________________________________________________________\n",
      "block4_conv1 (Conv2D)        (None, 18, 18, 512)       1180160   \n",
      "_________________________________________________________________\n",
      "block4_conv2 (Conv2D)        (None, 18, 18, 512)       2359808   \n",
      "_________________________________________________________________\n",
      "block4_conv3 (Conv2D)        (None, 18, 18, 512)       2359808   \n",
      "_________________________________________________________________\n",
      "block4_pool (MaxPooling2D)   (None, 9, 9, 512)         0         \n",
      "_________________________________________________________________\n",
      "block5_conv1 (Conv2D)        (None, 9, 9, 512)         2359808   \n",
      "_________________________________________________________________\n",
      "block5_conv2 (Conv2D)        (None, 9, 9, 512)         2359808   \n",
      "_________________________________________________________________\n",
      "block5_conv3 (Conv2D)        (None, 9, 9, 512)         2359808   \n",
      "_________________________________________________________________\n",
      "block5_pool (MaxPooling2D)   (None, 4, 4, 512)         0         \n",
      "=================================================================\n",
      "Total params: 14,714,688\n",
      "Trainable params: 14,714,688\n",
      "Non-trainable params: 0\n",
      "_________________________________________________________________\n"
     ]
    }
   ],
   "source": [
    "conv_base = VGG16(weights='imagenet', include_top=False, input_shape=(150, 150, 3))\n",
    "conv_base.summary()"
   ]
  },
  {
   "cell_type": "code",
   "execution_count": 3,
   "metadata": {},
   "outputs": [],
   "source": [
    "base_dir = 'datasets/cats_and_dogs'"
   ]
  },
  {
   "cell_type": "code",
   "execution_count": 4,
   "metadata": {},
   "outputs": [],
   "source": [
    "import os\n",
    "import numpy as np\n",
    "from keras.preprocessing.image import ImageDataGenerator"
   ]
  },
  {
   "cell_type": "code",
   "execution_count": 5,
   "metadata": {},
   "outputs": [],
   "source": [
    "def extract_features(directory, sample_count, size_of_batch):\n",
    "    features = np.zeros(shape=(sample_count, 4, 4, 512))\n",
    "    labels = np.zeros(shape=(sample_count))\n",
    "    generator = ImageDataGenerator(rescale=1./255).flow_from_directory(\n",
    "        directory,\n",
    "        target_size=(150, 150),\n",
    "        batch_size = size_of_batch,\n",
    "        class_mode='binary'\n",
    "    )\n",
    "    i = 0\n",
    "    for inputs_batch, labels_batch in generator:\n",
    "        features_batch = conv_base.predict(inputs_batch)\n",
    "        features[i * size_of_batch : (i + 1) * size_of_batch] = features_batch\n",
    "        labels[i * size_of_batch : (i + 1) * size_of_batch] = labels_batch\n",
    "        i += 1\n",
    "        if i * size_of_batch >= sample_count:\n",
    "            break\n",
    "    return features, labels"
   ]
  },
  {
   "cell_type": "code",
   "execution_count": 6,
   "metadata": {},
   "outputs": [
    {
     "name": "stdout",
     "output_type": "stream",
     "text": [
      "Found 2000 images belonging to 2 classes.\n",
      "Found 1000 images belonging to 2 classes.\n",
      "Found 1000 images belonging to 2 classes.\n"
     ]
    }
   ],
   "source": [
    "train_features, train_labels = extract_features(os.path.join(base_dir, 'train'), 2000, 20)\n",
    "train_features = np.reshape(train_features, (2000, 4 * 4 * 512))\n",
    "test_features, test_labels = extract_features(os.path.join(base_dir, 'test'), 1000, 20)\n",
    "test_features = np.reshape(test_features, (1000, 4 * 4 * 512))\n",
    "validation_features, validation_labels = extract_features(os.path.join(base_dir, 'validation'), 1000, 20)\n",
    "validation_features = np.reshape(validation_features, (1000, 4 * 4 * 512))"
   ]
  },
  {
   "cell_type": "code",
   "execution_count": 7,
   "metadata": {},
   "outputs": [],
   "source": [
    "from keras.models import *\n",
    "from keras.layers import *\n",
    "from keras.optimizers import *"
   ]
  },
  {
   "cell_type": "code",
   "execution_count": 8,
   "metadata": {},
   "outputs": [],
   "source": [
    "def build_model():\n",
    "    model = Sequential()\n",
    "    model.add(Dense(256, activation='relu', input_dim=4 * 4 * 512))\n",
    "    model.add(Dropout(0.5))\n",
    "    model.add(Dense(1, activation='sigmoid'))\n",
    "    model.compile(optimizer = RMSprop(lr=2e-5), loss='binary_crossentropy', metrics=['acc'])\n",
    "    return model"
   ]
  },
  {
   "cell_type": "code",
   "execution_count": 9,
   "metadata": {},
   "outputs": [],
   "source": [
    "def fit_model(model, train_data, train_labels, val_data, val_labels):\n",
    "    return model.fit(train_data, train_labels,\n",
    "                    epochs = 30,\n",
    "                    batch_size = 20, \n",
    "                    validation_data = (val_data, val_labels))"
   ]
  },
  {
   "cell_type": "code",
   "execution_count": 10,
   "metadata": {},
   "outputs": [],
   "source": [
    "import matplotlib.pyplot as plt\n",
    "def plot(history):\n",
    "    epoch = range(1, len(history['acc']) + 1)\n",
    "    plt.clf()\n",
    "    plt.plot(epoch, history['acc'], 'bo', label='Training Acc')\n",
    "    plt.plot(epoch, history['loss'], 'bP', label='Training Loss')\n",
    "    plt.plot(epoch, history['val_acc'], 'ro', label='Validation Acc')\n",
    "    plt.plot(epoch, history['val_loss'], 'rP', label='Validation Loss')\n",
    "    plt.legend()\n",
    "    plt.show()"
   ]
  },
  {
   "cell_type": "code",
   "execution_count": 11,
   "metadata": {},
   "outputs": [
    {
     "name": "stdout",
     "output_type": "stream",
     "text": [
      "_________________________________________________________________\n",
      "Layer (type)                 Output Shape              Param #   \n",
      "=================================================================\n",
      "dense_1 (Dense)              (None, 256)               2097408   \n",
      "_________________________________________________________________\n",
      "dropout_1 (Dropout)          (None, 256)               0         \n",
      "_________________________________________________________________\n",
      "dense_2 (Dense)              (None, 1)                 257       \n",
      "=================================================================\n",
      "Total params: 2,097,665\n",
      "Trainable params: 2,097,665\n",
      "Non-trainable params: 0\n",
      "_________________________________________________________________\n"
     ]
    }
   ],
   "source": [
    "model = build_model()\n",
    "model.summary()"
   ]
  },
  {
   "cell_type": "code",
   "execution_count": 12,
   "metadata": {},
   "outputs": [
    {
     "name": "stdout",
     "output_type": "stream",
     "text": [
      "Train on 2000 samples, validate on 1000 samples\n",
      "Epoch 1/30\n",
      "2000/2000 [==============================] - 1s 596us/step - loss: 0.5888 - acc: 0.6780 - val_loss: 0.4474 - val_acc: 0.8330\n",
      "Epoch 2/30\n",
      "2000/2000 [==============================] - 1s 326us/step - loss: 0.4234 - acc: 0.8150 - val_loss: 0.3637 - val_acc: 0.8580\n",
      "Epoch 3/30\n",
      "2000/2000 [==============================] - 1s 308us/step - loss: 0.3607 - acc: 0.8555 - val_loss: 0.3218 - val_acc: 0.8780\n",
      "Epoch 4/30\n",
      "2000/2000 [==============================] - 1s 310us/step - loss: 0.3128 - acc: 0.8735 - val_loss: 0.2995 - val_acc: 0.8780\n",
      "Epoch 5/30\n",
      "2000/2000 [==============================] - 1s 309us/step - loss: 0.2979 - acc: 0.8755 - val_loss: 0.2807 - val_acc: 0.8900\n",
      "Epoch 6/30\n",
      "2000/2000 [==============================] - 1s 318us/step - loss: 0.2628 - acc: 0.8970 - val_loss: 0.2699 - val_acc: 0.8950\n",
      "Epoch 7/30\n",
      "2000/2000 [==============================] - 1s 320us/step - loss: 0.2464 - acc: 0.9060 - val_loss: 0.2651 - val_acc: 0.8920\n",
      "Epoch 8/30\n",
      "2000/2000 [==============================] - 1s 312us/step - loss: 0.2249 - acc: 0.9160 - val_loss: 0.2555 - val_acc: 0.8940\n",
      "Epoch 9/30\n",
      "2000/2000 [==============================] - 1s 304us/step - loss: 0.2244 - acc: 0.9115 - val_loss: 0.2507 - val_acc: 0.8970\n",
      "Epoch 10/30\n",
      "2000/2000 [==============================] - 1s 315us/step - loss: 0.2106 - acc: 0.9250 - val_loss: 0.2471 - val_acc: 0.9010\n",
      "Epoch 11/30\n",
      "2000/2000 [==============================] - 1s 311us/step - loss: 0.2010 - acc: 0.9215 - val_loss: 0.2467 - val_acc: 0.8940\n",
      "Epoch 12/30\n",
      "2000/2000 [==============================] - 1s 308us/step - loss: 0.1834 - acc: 0.9365 - val_loss: 0.2407 - val_acc: 0.9020\n",
      "Epoch 13/30\n",
      "2000/2000 [==============================] - 1s 317us/step - loss: 0.1843 - acc: 0.9395 - val_loss: 0.2458 - val_acc: 0.8910\n",
      "Epoch 14/30\n",
      "2000/2000 [==============================] - 1s 311us/step - loss: 0.1707 - acc: 0.9440 - val_loss: 0.2491 - val_acc: 0.8900\n",
      "Epoch 15/30\n",
      "2000/2000 [==============================] - 1s 311us/step - loss: 0.1669 - acc: 0.9415 - val_loss: 0.2400 - val_acc: 0.8940\n",
      "Epoch 16/30\n",
      "2000/2000 [==============================] - 1s 310us/step - loss: 0.1575 - acc: 0.9430 - val_loss: 0.2382 - val_acc: 0.8970\n",
      "Epoch 17/30\n",
      "2000/2000 [==============================] - 1s 317us/step - loss: 0.1516 - acc: 0.9470 - val_loss: 0.2484 - val_acc: 0.8920\n",
      "Epoch 18/30\n",
      "2000/2000 [==============================] - 1s 317us/step - loss: 0.1428 - acc: 0.9515 - val_loss: 0.2382 - val_acc: 0.8970\n",
      "Epoch 19/30\n",
      "2000/2000 [==============================] - 1s 313us/step - loss: 0.1410 - acc: 0.9495 - val_loss: 0.2348 - val_acc: 0.8970\n",
      "Epoch 20/30\n",
      "2000/2000 [==============================] - 1s 321us/step - loss: 0.1300 - acc: 0.9570 - val_loss: 0.2314 - val_acc: 0.9020\n",
      "Epoch 21/30\n",
      "2000/2000 [==============================] - 1s 313us/step - loss: 0.1257 - acc: 0.9570 - val_loss: 0.2337 - val_acc: 0.8990\n",
      "Epoch 22/30\n",
      "2000/2000 [==============================] - 1s 315us/step - loss: 0.1277 - acc: 0.9550 - val_loss: 0.2446 - val_acc: 0.8960\n",
      "Epoch 23/30\n",
      "2000/2000 [==============================] - 1s 316us/step - loss: 0.1193 - acc: 0.9610 - val_loss: 0.2362 - val_acc: 0.8990\n",
      "Epoch 24/30\n",
      "2000/2000 [==============================] - 1s 307us/step - loss: 0.1108 - acc: 0.9660 - val_loss: 0.2337 - val_acc: 0.8990\n",
      "Epoch 25/30\n",
      "2000/2000 [==============================] - 1s 309us/step - loss: 0.1079 - acc: 0.9685 - val_loss: 0.2584 - val_acc: 0.8890\n",
      "Epoch 26/30\n",
      "2000/2000 [==============================] - 1s 333us/step - loss: 0.1045 - acc: 0.9680 - val_loss: 0.2354 - val_acc: 0.8990\n",
      "Epoch 27/30\n",
      "2000/2000 [==============================] - 1s 332us/step - loss: 0.1002 - acc: 0.9705 - val_loss: 0.2396 - val_acc: 0.8960\n",
      "Epoch 28/30\n",
      "2000/2000 [==============================] - 1s 308us/step - loss: 0.0937 - acc: 0.9655 - val_loss: 0.2408 - val_acc: 0.8980\n",
      "Epoch 29/30\n",
      "2000/2000 [==============================] - 1s 311us/step - loss: 0.0971 - acc: 0.9710 - val_loss: 0.2337 - val_acc: 0.8970\n",
      "Epoch 30/30\n",
      "2000/2000 [==============================] - 1s 327us/step - loss: 0.0921 - acc: 0.9730 - val_loss: 0.2344 - val_acc: 0.8970\n"
     ]
    }
   ],
   "source": [
    "history = fit_model(model, train_features, train_labels, validation_features, validation_labels)"
   ]
  },
  {
   "cell_type": "code",
   "execution_count": 13,
   "metadata": {},
   "outputs": [
    {
     "data": {
      "image/png": "[encoded data removed]",
      "text/plain": [
       "<Figure size 432x288 with 1 Axes>"
      ]
     },
     "metadata": {
      "needs_background": "light"
     },
     "output_type": "display_data"
    }
   ],
   "source": [
    "plot(history.history)"
   ]
  },
  {
   "cell_type": "code",
   "execution_count": 14,
   "metadata": {},
   "outputs": [
    {
     "name": "stdout",
     "output_type": "stream",
     "text": [
      "1000/1000 [==============================] - 0s 119us/step\n"
     ]
    },
    {
     "data": {
      "text/plain": [
       "[0.25987913346290586, 0.882]"
      ]
     },
     "execution_count": 14,
     "metadata": {},
     "output_type": "execute_result"
    }
   ],
   "source": [
    "model.evaluate(test_features, test_labels)"
   ]
  }
 ],
 "metadata": {
  "kernelspec": {
   "display_name": "Python 3",
   "language": "python",
   "name": "python3"
  },
  "language_info": {
   "codemirror_mode": {
    "name": "ipython",
    "version": 3
   },
   "file_extension": ".py",
   "mimetype": "text/x-python",
   "name": "python",
   "nbconvert_exporter": "python",
   "pygments_lexer": "ipython3",
   "version": "3.6.7"
  }
 },
 "nbformat": 4,
 "nbformat_minor": 2
}
