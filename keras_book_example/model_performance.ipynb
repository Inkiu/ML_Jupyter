{
 "cells": [
  {
   "cell_type": "code",
   "execution_count": null,
   "metadata": {},
   "outputs": [],
   "source": [
    "# batch normalization"
   ]
  },
  {
   "cell_type": "code",
   "execution_count": 42,
   "metadata": {},
   "outputs": [],
   "source": [
    "from keras.layers import *\n",
    "from keras import models"
   ]
  },
  {
   "cell_type": "code",
   "execution_count": 49,
   "metadata": {},
   "outputs": [
    {
     "name": "stdout",
     "output_type": "stream",
     "text": [
      "_________________________________________________________________\n",
      "Layer (type)                 Output Shape              Param #   \n",
      "=================================================================\n",
      "conv2d_11 (Conv2D)           (None, 242, 242, 32)      896       \n",
      "_________________________________________________________________\n",
      "max_pooling2d_1 (MaxPooling2 (None, 121, 121, 32)      0         \n",
      "_________________________________________________________________\n",
      "batch_normalization_9 (Batch (None, 121, 121, 32)      128       \n",
      "_________________________________________________________________\n",
      "conv2d_12 (Conv2D)           (None, 119, 119, 32)      9248      \n",
      "_________________________________________________________________\n",
      "batch_normalization_10 (Batc (None, 119, 119, 32)      128       \n",
      "=================================================================\n",
      "Total params: 10,400\n",
      "Trainable params: 10,272\n",
      "Non-trainable params: 128\n",
      "_________________________________________________________________\n"
     ]
    }
   ],
   "source": [
    "batch_normal_model = models.Sequential()\n",
    "batch_normal_model.add(Conv2D(32, 3, activation='relu', input_shape = (244, 244, 3)))\n",
    "batch_normal_model.add(MaxPool2D(2))\n",
    "batch_normal_model.add(BatchNormalization())\n",
    "batch_normal_model.add(Conv2D(32, 3, activation='relu'))\n",
    "batch_normal_model.add(BatchNormalization())\n",
    "\n",
    "batch_normal_model.summary()"
   ]
  },
  {
   "cell_type": "code",
   "execution_count": null,
   "metadata": {},
   "outputs": [],
   "source": [
    "# depthwise separable convolution"
   ]
  },
  {
   "cell_type": "code",
   "execution_count": 50,
   "metadata": {},
   "outputs": [],
   "source": [
    "from keras.layers import *\n",
    "from keras import models"
   ]
  },
  {
   "cell_type": "code",
   "execution_count": 53,
   "metadata": {},
   "outputs": [
    {
     "name": "stdout",
     "output_type": "stream",
     "text": [
      "_________________________________________________________________\n",
      "Layer (type)                 Output Shape              Param #   \n",
      "=================================================================\n",
      "separable_conv2d_7 (Separabl (None, 222, 222, 32)      155       \n",
      "_________________________________________________________________\n",
      "separable_conv2d_8 (Separabl (None, 220, 220, 64)      2400      \n",
      "_________________________________________________________________\n",
      "max_pooling2d_4 (MaxPooling2 (None, 110, 110, 64)      0         \n",
      "_________________________________________________________________\n",
      "separable_conv2d_9 (Separabl (None, 108, 108, 64)      4736      \n",
      "_________________________________________________________________\n",
      "separable_conv2d_10 (Separab (None, 106, 106, 128)     8896      \n",
      "_________________________________________________________________\n",
      "max_pooling2d_5 (MaxPooling2 (None, 53, 53, 128)       0         \n",
      "_________________________________________________________________\n",
      "separable_conv2d_11 (Separab (None, 51, 51, 64)        9408      \n",
      "_________________________________________________________________\n",
      "separable_conv2d_12 (Separab (None, 49, 49, 128)       8896      \n",
      "_________________________________________________________________\n",
      "global_average_pooling2d_1 ( (None, 128)               0         \n",
      "_________________________________________________________________\n",
      "dense_3 (Dense)              (None, 32)                4128      \n",
      "=================================================================\n",
      "Total params: 38,619\n",
      "Trainable params: 38,619\n",
      "Non-trainable params: 0\n",
      "_________________________________________________________________\n"
     ]
    }
   ],
   "source": [
    "depthwise_model = models.Sequential()\n",
    "\n",
    "depthwise_model.add(SeparableConv2D(32, 3, activation = 'relu', input_shape=(224, 224, 3)))\n",
    "depthwise_model.add(SeparableConv2D(64, 3, activation = 'relu'))\n",
    "depthwise_model.add(MaxPool2D(2))\n",
    "\n",
    "depthwise_model.add(SeparableConv2D(64, 3, activation = 'relu'))\n",
    "depthwise_model.add(SeparableConv2D(128, 3, activation = 'relu'))\n",
    "depthwise_model.add(MaxPool2D(2))\n",
    "\n",
    "depthwise_model.add(SeparableConv2D(64, 3, activation = 'relu'))\n",
    "depthwise_model.add(SeparableConv2D(128, 3, activation = 'relu'))\n",
    "depthwise_model.add(GlobalAveragePooling2D())\n",
    "\n",
    "depthwise_model.add(Dense(32, activation = 'relu'))\n",
    "\n",
    "depthwise_model.summary()"
   ]
  },
  {
   "cell_type": "code",
   "execution_count": null,
   "metadata": {},
   "outputs": [],
   "source": [
    "# hyperparameter optimization"
   ]
  },
  {
   "cell_type": "code",
   "execution_count": null,
   "metadata": {},
   "outputs": [],
   "source": [
    "# ???"
   ]
  },
  {
   "cell_type": "code",
   "execution_count": null,
   "metadata": {},
   "outputs": [],
   "source": [
    "# model ensemble"
   ]
  },
  {
   "cell_type": "code",
   "execution_count": null,
   "metadata": {},
   "outputs": [],
   "source": [
    "# ???"
   ]
  }
 ],
 "metadata": {
  "kernelspec": {
   "display_name": "Python 3",
   "language": "python",
   "name": "python3"
  },
  "language_info": {
   "codemirror_mode": {
    "name": "ipython",
    "version": 3
   },
   "file_extension": ".py",
   "mimetype": "text/x-python",
   "name": "python",
   "nbconvert_exporter": "python",
   "pygments_lexer": "ipython3",
   "version": "3.6.7"
  }
 },
 "nbformat": 4,
 "nbformat_minor": 2
}
