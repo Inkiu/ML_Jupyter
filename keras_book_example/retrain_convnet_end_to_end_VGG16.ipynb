{
 "cells": [
  {
   "cell_type": "code",
   "execution_count": 1,
   "metadata": {},
   "outputs": [],
   "source": [
    "base_dir = 'datasets/cats_and_dogs'"
   ]
  },
  {
   "cell_type": "code",
   "execution_count": 2,
   "metadata": {},
   "outputs": [
    {
     "name": "stderr",
     "output_type": "stream",
     "text": [
      "Using TensorFlow backend.\n"
     ]
    },
    {
     "name": "stdout",
     "output_type": "stream",
     "text": [
      "_________________________________________________________________\n",
      "Layer (type)                 Output Shape              Param #   \n",
      "=================================================================\n",
      "input_1 (InputLayer)         (None, 150, 150, 3)       0         \n",
      "_________________________________________________________________\n",
      "block1_conv1 (Conv2D)        (None, 150, 150, 64)      1792      \n",
      "_________________________________________________________________\n",
      "block1_conv2 (Conv2D)        (None, 150, 150, 64)      36928     \n",
      "_________________________________________________________________\n",
      "block1_pool (MaxPooling2D)   (None, 75, 75, 64)        0         \n",
      "_________________________________________________________________\n",
      "block2_conv1 (Conv2D)        (None, 75, 75, 128)       73856     \n",
      "_________________________________________________________________\n",
      "block2_conv2 (Conv2D)        (None, 75, 75, 128)       147584    \n",
      "_________________________________________________________________\n",
      "block2_pool (MaxPooling2D)   (None, 37, 37, 128)       0         \n",
      "_________________________________________________________________\n",
      "block3_conv1 (Conv2D)        (None, 37, 37, 256)       295168    \n",
      "_________________________________________________________________\n",
      "block3_conv2 (Conv2D)        (None, 37, 37, 256)       590080    \n",
      "_________________________________________________________________\n",
      "block3_conv3 (Conv2D)        (None, 37, 37, 256)       590080    \n",
      "_________________________________________________________________\n",
      "block3_pool (MaxPooling2D)   (None, 18, 18, 256)       0         \n",
      "_________________________________________________________________\n",
      "block4_conv1 (Conv2D)        (None, 18, 18, 512)       1180160   \n",
      "_________________________________________________________________\n",
      "block4_conv2 (Conv2D)        (None, 18, 18, 512)       2359808   \n",
      "_________________________________________________________________\n",
      "block4_conv3 (Conv2D)        (None, 18, 18, 512)       2359808   \n",
      "_________________________________________________________________\n",
      "block4_pool (MaxPooling2D)   (None, 9, 9, 512)         0         \n",
      "_________________________________________________________________\n",
      "block5_conv1 (Conv2D)        (None, 9, 9, 512)         2359808   \n",
      "_________________________________________________________________\n",
      "block5_conv2 (Conv2D)        (None, 9, 9, 512)         2359808   \n",
      "_________________________________________________________________\n",
      "block5_conv3 (Conv2D)        (None, 9, 9, 512)         2359808   \n",
      "_________________________________________________________________\n",
      "block5_pool (MaxPooling2D)   (None, 4, 4, 512)         0         \n",
      "=================================================================\n",
      "Total params: 14,714,688\n",
      "Trainable params: 14,714,688\n",
      "Non-trainable params: 0\n",
      "_________________________________________________________________\n"
     ]
    }
   ],
   "source": [
    "from keras.applications import VGG16\n",
    "conv_base = VGG16(weights='imagenet', include_top=False, input_shape=(150, 150, 3))\n",
    "conv_base.summary()"
   ]
  },
  {
   "cell_type": "code",
   "execution_count": 3,
   "metadata": {},
   "outputs": [
    {
     "name": "stdout",
     "output_type": "stream",
     "text": [
      "_________________________________________________________________\n",
      "Layer (type)                 Output Shape              Param #   \n",
      "=================================================================\n",
      "vgg16 (Model)                (None, 4, 4, 512)         14714688  \n",
      "_________________________________________________________________\n",
      "flatten_1 (Flatten)          (None, 8192)              0         \n",
      "_________________________________________________________________\n",
      "dense_1 (Dense)              (None, 256)               2097408   \n",
      "_________________________________________________________________\n",
      "dense_2 (Dense)              (None, 1)                 257       \n",
      "=================================================================\n",
      "Total params: 16,812,353\n",
      "Trainable params: 16,812,353\n",
      "Non-trainable params: 0\n",
      "_________________________________________________________________\n"
     ]
    }
   ],
   "source": [
    "from keras.layers import *\n",
    "from keras.models import *\n",
    "\n",
    "model = Sequential()\n",
    "model.add(conv_base)\n",
    "model.add(Flatten())\n",
    "model.add(Dense(256, activation='relu'))\n",
    "model.add(Dense(1, activation='sigmoid'))\n",
    "model.summary()"
   ]
  },
  {
   "cell_type": "code",
   "execution_count": 4,
   "metadata": {},
   "outputs": [
    {
     "name": "stdout",
     "output_type": "stream",
     "text": [
      "weight count before conv_base freezing:  30\n",
      "weight count after conv_base freezing:  4\n",
      "_________________________________________________________________\n",
      "Layer (type)                 Output Shape              Param #   \n",
      "=================================================================\n",
      "vgg16 (Model)                (None, 4, 4, 512)         14714688  \n",
      "_________________________________________________________________\n",
      "flatten_1 (Flatten)          (None, 8192)              0         \n",
      "_________________________________________________________________\n",
      "dense_1 (Dense)              (None, 256)               2097408   \n",
      "_________________________________________________________________\n",
      "dense_2 (Dense)              (None, 1)                 257       \n",
      "=================================================================\n",
      "Total params: 16,812,353\n",
      "Trainable params: 2,097,665\n",
      "Non-trainable params: 14,714,688\n",
      "_________________________________________________________________\n"
     ]
    }
   ],
   "source": [
    "print('weight count before conv_base freezing: ', len(model.trainable_weights))\n",
    "conv_base.trainable = False\n",
    "print('weight count after conv_base freezing: ', len(model.trainable_weights))\n",
    "model.summary()"
   ]
  },
  {
   "cell_type": "code",
   "execution_count": 5,
   "metadata": {},
   "outputs": [],
   "source": [
    "from keras.preprocessing.image import ImageDataGenerator\n",
    "from keras import optimizers\n",
    "\n",
    "train_datagen = ImageDataGenerator(\n",
    "    rescale=1./255,\n",
    "    rotation_range=40,\n",
    "    width_shift_range=0.2,\n",
    "    height_shift_range=0.2,\n",
    "    shear_range=0.2,\n",
    "    zoom_range=0.2,\n",
    "    horizontal_flip=True,\n",
    "    fill_mode='nearest'\n",
    ")\n",
    "\n",
    "test_datagen = ImageDataGenerator(rescale=1./255)"
   ]
  },
  {
   "cell_type": "code",
   "execution_count": 6,
   "metadata": {},
   "outputs": [
    {
     "name": "stdout",
     "output_type": "stream",
     "text": [
      "Found 2000 images belonging to 2 classes.\n",
      "Found 1000 images belonging to 2 classes.\n",
      "Found 1000 images belonging to 2 classes.\n"
     ]
    }
   ],
   "source": [
    "import os\n",
    "train_generator = train_datagen.flow_from_directory(\n",
    "    os.path.join(base_dir, 'train'),\n",
    "    target_size=(150, 150),\n",
    "    batch_size = 20,\n",
    "    class_mode = 'binary'\n",
    ")\n",
    "\n",
    "val_generator = test_datagen.flow_from_directory(\n",
    "    os.path.join(base_dir, 'validation'),\n",
    "    target_size=(150, 150),\n",
    "    batch_size=20,\n",
    "    class_mode='binary'\n",
    ")\n",
    "\n",
    "test_generator = test_datagen.flow_from_directory(\n",
    "    os.path.join(base_dir, 'test'),\n",
    "    target_size=(150, 150),\n",
    "    batch_size=20,\n",
    "    class_mode='binary'\n",
    ")"
   ]
  },
  {
   "cell_type": "code",
   "execution_count": 7,
   "metadata": {},
   "outputs": [],
   "source": [
    "model.compile(loss='binary_crossentropy', optimizer=optimizers.RMSprop(lr=2e-5), metrics=['acc'])"
   ]
  },
  {
   "cell_type": "code",
   "execution_count": 8,
   "metadata": {},
   "outputs": [
    {
     "name": "stdout",
     "output_type": "stream",
     "text": [
      "Epoch 1/30\n",
      "100/100 [==============================] - 17s 171ms/step - loss: 0.5992 - acc: 0.6775 - val_loss: 0.4755 - val_acc: 0.7980\n",
      "Epoch 2/30\n",
      "100/100 [==============================] - 15s 150ms/step - loss: 0.4918 - acc: 0.7805 - val_loss: 0.4041 - val_acc: 0.8220\n",
      "Epoch 3/30\n",
      "100/100 [==============================] - 16s 158ms/step - loss: 0.4419 - acc: 0.7995 - val_loss: 0.3396 - val_acc: 0.8600\n",
      "Epoch 4/30\n",
      "100/100 [==============================] - 15s 149ms/step - loss: 0.4099 - acc: 0.8180 - val_loss: 0.3141 - val_acc: 0.8660\n",
      "Epoch 5/30\n",
      "100/100 [==============================] - 15s 149ms/step - loss: 0.3782 - acc: 0.8420 - val_loss: 0.2981 - val_acc: 0.8720\n",
      "Epoch 6/30\n",
      "100/100 [==============================] - 15s 148ms/step - loss: 0.3915 - acc: 0.8180 - val_loss: 0.2901 - val_acc: 0.8690\n",
      "Epoch 7/30\n",
      "100/100 [==============================] - 16s 157ms/step - loss: 0.3698 - acc: 0.8380 - val_loss: 0.2806 - val_acc: 0.8780\n",
      "Epoch 8/30\n",
      "100/100 [==============================] - 17s 169ms/step - loss: 0.3538 - acc: 0.8380 - val_loss: 0.2764 - val_acc: 0.8880\n",
      "Epoch 9/30\n",
      "100/100 [==============================] - 16s 156ms/step - loss: 0.3394 - acc: 0.8530 - val_loss: 0.2772 - val_acc: 0.8780\n",
      "Epoch 10/30\n",
      "100/100 [==============================] - 15s 153ms/step - loss: 0.3416 - acc: 0.8525 - val_loss: 0.2687 - val_acc: 0.8900\n",
      "Epoch 11/30\n",
      "100/100 [==============================] - 17s 165ms/step - loss: 0.3358 - acc: 0.8505 - val_loss: 0.2631 - val_acc: 0.8930\n",
      "Epoch 12/30\n",
      "100/100 [==============================] - 15s 153ms/step - loss: 0.3259 - acc: 0.8565 - val_loss: 0.2708 - val_acc: 0.8870\n",
      "Epoch 13/30\n",
      "100/100 [==============================] - 15s 151ms/step - loss: 0.3204 - acc: 0.8535 - val_loss: 0.2558 - val_acc: 0.8920\n",
      "Epoch 14/30\n",
      "100/100 [==============================] - 15s 152ms/step - loss: 0.3204 - acc: 0.8645 - val_loss: 0.2580 - val_acc: 0.8920\n",
      "Epoch 15/30\n",
      "100/100 [==============================] - 15s 149ms/step - loss: 0.3047 - acc: 0.8685 - val_loss: 0.2624 - val_acc: 0.8970\n",
      "Epoch 16/30\n",
      "100/100 [==============================] - 15s 149ms/step - loss: 0.3230 - acc: 0.8615 - val_loss: 0.2497 - val_acc: 0.9000\n",
      "Epoch 17/30\n",
      "100/100 [==============================] - 15s 148ms/step - loss: 0.3098 - acc: 0.8610 - val_loss: 0.2575 - val_acc: 0.8910\n",
      "Epoch 18/30\n",
      "100/100 [==============================] - 15s 148ms/step - loss: 0.3109 - acc: 0.8635 - val_loss: 0.2483 - val_acc: 0.8970\n",
      "Epoch 19/30\n",
      "100/100 [==============================] - 15s 152ms/step - loss: 0.3116 - acc: 0.8595 - val_loss: 0.2476 - val_acc: 0.9010\n",
      "Epoch 20/30\n",
      "100/100 [==============================] - 15s 151ms/step - loss: 0.2978 - acc: 0.8750 - val_loss: 0.2526 - val_acc: 0.9000\n",
      "Epoch 21/30\n",
      "100/100 [==============================] - 15s 149ms/step - loss: 0.2874 - acc: 0.8760 - val_loss: 0.2453 - val_acc: 0.8980\n",
      "Epoch 22/30\n",
      "100/100 [==============================] - 15s 149ms/step - loss: 0.3022 - acc: 0.8660 - val_loss: 0.2495 - val_acc: 0.8900\n",
      "Epoch 23/30\n",
      "100/100 [==============================] - 15s 154ms/step - loss: 0.2925 - acc: 0.8655 - val_loss: 0.2504 - val_acc: 0.8990\n",
      "Epoch 24/30\n",
      "100/100 [==============================] - 16s 159ms/step - loss: 0.2862 - acc: 0.8785 - val_loss: 0.2477 - val_acc: 0.8960\n",
      "Epoch 25/30\n",
      "100/100 [==============================] - 15s 150ms/step - loss: 0.3009 - acc: 0.8600 - val_loss: 0.2456 - val_acc: 0.8980\n",
      "Epoch 26/30\n",
      "100/100 [==============================] - 15s 149ms/step - loss: 0.2858 - acc: 0.8720 - val_loss: 0.2448 - val_acc: 0.8980\n",
      "Epoch 27/30\n",
      "100/100 [==============================] - 15s 149ms/step - loss: 0.2856 - acc: 0.8805 - val_loss: 0.2440 - val_acc: 0.9010\n",
      "Epoch 28/30\n",
      "100/100 [==============================] - 15s 148ms/step - loss: 0.2833 - acc: 0.8795 - val_loss: 0.2479 - val_acc: 0.8970\n",
      "Epoch 29/30\n",
      "100/100 [==============================] - 16s 157ms/step - loss: 0.2911 - acc: 0.8790 - val_loss: 0.2443 - val_acc: 0.9040\n",
      "Epoch 30/30\n",
      "100/100 [==============================] - 15s 147ms/step - loss: 0.2773 - acc: 0.8850 - val_loss: 0.2402 - val_acc: 0.9090\n"
     ]
    }
   ],
   "source": [
    "history = model.fit_generator(\n",
    "    train_generator,\n",
    "    steps_per_epoch=100,\n",
    "    epochs=30,\n",
    "    validation_data=val_generator,\n",
    "    validation_steps=50\n",
    ").history"
   ]
  },
  {
   "cell_type": "code",
   "execution_count": 9,
   "metadata": {},
   "outputs": [
    {
     "data": {
      "text/plain": [
       "<Figure size 640x480 with 1 Axes>"
      ]
     },
     "metadata": {},
     "output_type": "display_data"
    }
   ],
   "source": [
    "import matplotlib.pyplot as plt\n",
    "epoch = range(1, len(history['acc']) + 1)\n",
    "plt.clf()\n",
    "plt.plot(epoch, history['acc'], 'bo', label='Training Acc')\n",
    "plt.plot(epoch, history['loss'], 'bP', label='Training Loss')\n",
    "plt.plot(epoch, history['val_acc'], 'ro', label='Validation Acc')\n",
    "plt.plot(epoch, history['val_loss'], 'rP', label='Validation Loss')\n",
    "plt.legend()\n",
    "plt.show()"
   ]
  },
  {
   "cell_type": "code",
   "execution_count": 10,
   "metadata": {},
   "outputs": [],
   "source": [
    "score = model.evaluate_generator(test_generator, 50)"
   ]
  },
  {
   "cell_type": "code",
   "execution_count": 11,
   "metadata": {},
   "outputs": [
    {
     "name": "stdout",
     "output_type": "stream",
     "text": [
      "Loss :  0.24786635518074035 \tACC :  0.8919999969005584\n"
     ]
    }
   ],
   "source": [
    "print(\"Loss : \", score[0], \"\\tACC : \", score[1])"
   ]
  }
 ],
 "metadata": {
  "kernelspec": {
   "display_name": "Python 3",
   "language": "python",
   "name": "python3"
  },
  "language_info": {
   "codemirror_mode": {
    "name": "ipython",
    "version": 3
   },
   "file_extension": ".py",
   "mimetype": "text/x-python",
   "name": "python",
   "nbconvert_exporter": "python",
   "pygments_lexer": "ipython3",
   "version": "3.6.7"
  }
 },
 "nbformat": 4,
 "nbformat_minor": 2
}
