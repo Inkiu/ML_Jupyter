{
 "cells": [
  {
   "cell_type": "code",
   "execution_count": 1,
   "metadata": {},
   "outputs": [
    {
     "name": "stderr",
     "output_type": "stream",
     "text": [
      "Using TensorFlow backend.\n"
     ]
    }
   ],
   "source": [
    "from keras.datasets import reuters\n",
    "from keras.models import *\n",
    "from keras.layers import *\n",
    "import matplotlib.pyplot as plt\n",
    "import numpy as np"
   ]
  },
  {
   "cell_type": "code",
   "execution_count": 2,
   "metadata": {},
   "outputs": [],
   "source": [
    "word_dim = 10000\n",
    "label_dim = 46"
   ]
  },
  {
   "cell_type": "code",
   "execution_count": 3,
   "metadata": {},
   "outputs": [],
   "source": [
    "def vectorize_sequences(sequences, dimension):\n",
    "    results = np.zeros((len(sequences), dimension))\n",
    "    for i, sequence in enumerate(sequences):\n",
    "        results[i, sequence] = 1.\n",
    "    return results"
   ]
  },
  {
   "cell_type": "code",
   "execution_count": 4,
   "metadata": {},
   "outputs": [],
   "source": [
    "def to_one_hot(labels, dimension):\n",
    "    results = np.zeros((len(labels), dimension))\n",
    "    for i, label in enumerate(labels):\n",
    "        results[i, label] = 1.\n",
    "    return results"
   ]
  },
  {
   "cell_type": "code",
   "execution_count": 5,
   "metadata": {},
   "outputs": [
    {
     "name": "stdout",
     "output_type": "stream",
     "text": [
      "(8982, 10000) 8982 (8982, 46) 8982\n",
      "(2246, 10000) 2246 (2246, 46) 2246\n"
     ]
    }
   ],
   "source": [
    "(x_train, y_train), (x_test, y_test) = reuters.load_data(num_words=word_dim)\n",
    "x_train = vectorize_sequences(x_train, word_dim)\n",
    "y_train = to_one_hot(y_train, label_dim)\n",
    "x_test = vectorize_sequences(x_test, word_dim)\n",
    "y_test = to_one_hot(y_test, label_dim)\n",
    "print(x_train.shape, len(x_train), y_train.shape, len(y_train))\n",
    "print(x_test.shape, len(x_test), y_test.shape, len(y_test))"
   ]
  },
  {
   "cell_type": "code",
   "execution_count": 6,
   "metadata": {},
   "outputs": [],
   "source": [
    "def build_model(word_dimension, label_dimension):\n",
    "    network = Sequential()\n",
    "    network.add(Dense(128, activation='relu', input_shape = (word_dimension,)))\n",
    "    network.add(Dense(128, activation='relu'))\n",
    "    network.add(Dense(label_dimension, activation='softmax'))\n",
    "    network.compile(\n",
    "        loss = 'categorical_crossentropy',\n",
    "        optimizer = 'rmsprop',\n",
    "        metrics = ['acc']\n",
    "    )\n",
    "    return network"
   ]
  },
  {
   "cell_type": "code",
   "execution_count": 7,
   "metadata": {},
   "outputs": [],
   "source": [
    "def build_model_smaller(word_dimension, label_dimension):\n",
    "    network = Sequential()\n",
    "    network.add(Dense(16, activation='relu', input_shape = (word_dimension,)))\n",
    "    network.add(Dense(16, activation='relu'))\n",
    "    network.add(Dense(label_dimension, activation='softmax'))\n",
    "    network.compile(\n",
    "        loss = 'categorical_crossentropy',\n",
    "        optimizer = 'rmsprop',\n",
    "        metrics = ['acc']\n",
    "    )\n",
    "    return network"
   ]
  },
  {
   "cell_type": "code",
   "execution_count": 8,
   "metadata": {},
   "outputs": [],
   "source": [
    "def run_k_fold_validation(k, data, target, epoch_n, batch_n):\n",
    "    val_samples = len(data) // k\n",
    "    \n",
    "    all_history = []\n",
    "    for fold in range(k):\n",
    "        print(\"Processing fold number : \", fold)\n",
    "        val_start = fold * val_samples\n",
    "        val_end = (fold + 1) * val_samples\n",
    "        \n",
    "        val_data = data[val_start: val_end]\n",
    "        val_target = target[val_start: val_end]\n",
    "        train_data = np.concatenate([data[:val_start], data[val_end:]], axis = 0)\n",
    "        train_target = np.concatenate([target[:val_start], target[val_end:]], axis = 0)\n",
    "        \n",
    "        network = build_model(data.shape[1], target.shape[1])\n",
    "        history = network.fit(\n",
    "            train_data, train_target,\n",
    "            validation_data = (val_data, val_target),\n",
    "            epochs = epoch_n,\n",
    "            batch_size = batch_n,\n",
    "            verbose = 0\n",
    "        )\n",
    "        \n",
    "        all_history.append(history)\n",
    "        print(\"End of process number : \", fold)\n",
    "        \n",
    "    all_val_loss = []\n",
    "    all_loss = []\n",
    "    all_val_acc = []\n",
    "    all_acc = []\n",
    "    \n",
    "    for his in all_history:\n",
    "        all_val_loss.append(his.history['val_loss'])\n",
    "        all_val_acc.append(his.history['val_acc'])\n",
    "        all_loss.append(his.history['loss'])\n",
    "        all_acc.append(his.history['acc'])\n",
    "        \n",
    "    his_dic = {\n",
    "        'val_loss': [np.mean([his[i] for his in all_val_loss]) for i in range(epoch_n)],\n",
    "        'val_acc': [np.mean([his[i] for his in all_val_acc]) for i in range(epoch_n)],\n",
    "        'loss': [np.mean([his[i] for his in all_loss]) for i in range(epoch_n)],\n",
    "        'acc': [np.mean([his[i] for his in all_acc]) for i in range(epoch_n)]\n",
    "    }\n",
    "    \n",
    "    return his_dic"
   ]
  },
  {
   "cell_type": "code",
   "execution_count": 9,
   "metadata": {},
   "outputs": [
    {
     "name": "stdout",
     "output_type": "stream",
     "text": [
      "Processing fold number :  0\n",
      "End of process number :  0\n",
      "Processing fold number :  1\n",
      "End of process number :  1\n",
      "Processing fold number :  2\n",
      "End of process number :  2\n",
      "Processing fold number :  3\n",
      "End of process number :  3\n",
      "Processing fold number :  4\n",
      "End of process number :  4\n",
      "Processing fold number :  5\n",
      "End of process number :  5\n",
      "Processing fold number :  6\n",
      "End of process number :  6\n",
      "Processing fold number :  7\n",
      "End of process number :  7\n",
      "Processing fold number :  8\n",
      "End of process number :  8\n",
      "Processing fold number :  9\n",
      "End of process number :  9\n"
     ]
    }
   ],
   "source": [
    "history_dict = run_k_fold_validation(10, x_train, y_train, 10, 512)"
   ]
  },
  {
   "cell_type": "code",
   "execution_count": 10,
   "metadata": {},
   "outputs": [
    {
     "data": {
      "image/png": "[encoded data removed]",
      "text/plain": [
       "<Figure size 432x288 with 1 Axes>"
      ]
     },
     "metadata": {
      "needs_background": "light"
     },
     "output_type": "display_data"
    }
   ],
   "source": [
    "loss = history_dict['loss']\n",
    "val_loss = history_dict['val_loss']\n",
    "acc = history_dict['acc']\n",
    "val_acc = history_dict['val_acc']\n",
    "\n",
    "epochs = range(1, len(loss) + 1)\n",
    "plt.clf()\n",
    "plt.plot(epochs, loss, 'b', label = 'Training loss')\n",
    "plt.plot(epochs, val_loss, 'r', label = 'Validation loss')\n",
    "plt.plot(epochs, acc, 'bo', label = 'Traning acc')\n",
    "plt.plot(epochs, val_acc, 'ro', label = 'Validation acc')\n",
    "plt.title('Training and Validation losses and accuracies')\n",
    "plt.xlabel('Epochs')\n",
    "plt.ylabel('Loss and Acc')\n",
    "plt.legend()\n",
    "\n",
    "plt.show()"
   ]
  },
  {
   "cell_type": "code",
   "execution_count": 12,
   "metadata": {},
   "outputs": [
    {
     "name": "stdout",
     "output_type": "stream",
     "text": [
      "Train on 7982 samples, validate on 1000 samples\n",
      "Epoch 1/30\n",
      "7982/7982 [==============================] - 2s 266us/step - loss: 2.2532 - acc: 0.5489 - val_loss: 1.4111 - val_acc: 0.7080\n",
      "Epoch 2/30\n",
      "7982/7982 [==============================] - 2s 201us/step - loss: 1.1289 - acc: 0.7572 - val_loss: 1.0997 - val_acc: 0.7720\n",
      "Epoch 3/30\n",
      "7982/7982 [==============================] - 2s 201us/step - loss: 0.8001 - acc: 0.8295 - val_loss: 0.9889 - val_acc: 0.8010\n",
      "Epoch 4/30\n",
      "7982/7982 [==============================] - 2s 202us/step - loss: 0.5682 - acc: 0.8827 - val_loss: 0.9245 - val_acc: 0.8050\n",
      "Epoch 5/30\n",
      "7982/7982 [==============================] - 2s 208us/step - loss: 0.4324 - acc: 0.9082 - val_loss: 0.8687 - val_acc: 0.8320\n",
      "Epoch 6/30\n",
      "7982/7982 [==============================] - 2s 204us/step - loss: 0.3204 - acc: 0.9308 - val_loss: 0.9010 - val_acc: 0.8140\n",
      "Epoch 7/30\n",
      "7982/7982 [==============================] - 2s 205us/step - loss: 0.2620 - acc: 0.9396 - val_loss: 0.8948 - val_acc: 0.8220\n",
      "Epoch 8/30\n",
      "7982/7982 [==============================] - 2s 201us/step - loss: 0.2166 - acc: 0.9475 - val_loss: 0.9255 - val_acc: 0.8160\n",
      "Epoch 9/30\n",
      "7982/7982 [==============================] - 2s 201us/step - loss: 0.1796 - acc: 0.9526 - val_loss: 1.0026 - val_acc: 0.7890\n",
      "Epoch 10/30\n",
      "7982/7982 [==============================] - 2s 202us/step - loss: 0.1621 - acc: 0.9538 - val_loss: 0.9048 - val_acc: 0.8140\n",
      "Epoch 11/30\n",
      "7982/7982 [==============================] - 2s 202us/step - loss: 0.1500 - acc: 0.9567 - val_loss: 1.0369 - val_acc: 0.8070\n",
      "Epoch 12/30\n",
      "7982/7982 [==============================] - 2s 201us/step - loss: 0.1403 - acc: 0.9551 - val_loss: 1.0172 - val_acc: 0.7920\n",
      "Epoch 13/30\n",
      "7982/7982 [==============================] - 2s 202us/step - loss: 0.1307 - acc: 0.9572 - val_loss: 1.0520 - val_acc: 0.8080\n",
      "Epoch 14/30\n",
      "7982/7982 [==============================] - 2s 201us/step - loss: 0.1271 - acc: 0.9577 - val_loss: 1.2092 - val_acc: 0.7710\n",
      "Epoch 15/30\n",
      "7982/7982 [==============================] - 2s 202us/step - loss: 0.1236 - acc: 0.9557 - val_loss: 1.0409 - val_acc: 0.8050\n",
      "Epoch 16/30\n",
      "7982/7982 [==============================] - 2s 202us/step - loss: 0.1166 - acc: 0.9565 - val_loss: 1.0690 - val_acc: 0.7960\n",
      "Epoch 17/30\n",
      "7982/7982 [==============================] - 2s 203us/step - loss: 0.1135 - acc: 0.9588 - val_loss: 1.1342 - val_acc: 0.7930\n",
      "Epoch 18/30\n",
      "7982/7982 [==============================] - 2s 204us/step - loss: 0.1151 - acc: 0.9562 - val_loss: 1.1190 - val_acc: 0.7960\n",
      "Epoch 19/30\n",
      "7982/7982 [==============================] - 2s 203us/step - loss: 0.1098 - acc: 0.9574 - val_loss: 1.0254 - val_acc: 0.8120\n",
      "Epoch 20/30\n",
      "7982/7982 [==============================] - 2s 202us/step - loss: 0.1055 - acc: 0.9585 - val_loss: 1.0466 - val_acc: 0.8090\n",
      "Epoch 21/30\n",
      "7982/7982 [==============================] - 2s 203us/step - loss: 0.1065 - acc: 0.9579 - val_loss: 1.1147 - val_acc: 0.7970\n",
      "Epoch 22/30\n",
      "7982/7982 [==============================] - 2s 203us/step - loss: 0.1046 - acc: 0.9574 - val_loss: 1.1028 - val_acc: 0.8020\n",
      "Epoch 23/30\n",
      "7982/7982 [==============================] - 2s 203us/step - loss: 0.1068 - acc: 0.9579 - val_loss: 1.1119 - val_acc: 0.8040\n",
      "Epoch 24/30\n",
      "7982/7982 [==============================] - 2s 203us/step - loss: 0.0952 - acc: 0.9582 - val_loss: 1.1254 - val_acc: 0.8000\n",
      "Epoch 25/30\n",
      "7982/7982 [==============================] - 2s 206us/step - loss: 0.0994 - acc: 0.9573 - val_loss: 1.1816 - val_acc: 0.7930\n",
      "Epoch 26/30\n",
      "7982/7982 [==============================] - 2s 205us/step - loss: 0.0953 - acc: 0.9574 - val_loss: 1.1037 - val_acc: 0.8120\n",
      "Epoch 27/30\n",
      "7982/7982 [==============================] - 2s 204us/step - loss: 0.0954 - acc: 0.9582 - val_loss: 1.2837 - val_acc: 0.7730\n",
      "Epoch 28/30\n",
      "7982/7982 [==============================] - 2s 205us/step - loss: 0.0905 - acc: 0.9598 - val_loss: 1.1196 - val_acc: 0.8040\n",
      "Epoch 29/30\n",
      "7982/7982 [==============================] - 2s 203us/step - loss: 0.0904 - acc: 0.9582 - val_loss: 1.1537 - val_acc: 0.7990\n",
      "Epoch 30/30\n",
      "7982/7982 [==============================] - 2s 204us/step - loss: 0.0951 - acc: 0.9568 - val_loss: 1.1761 - val_acc: 0.7950\n"
     ]
    }
   ],
   "source": [
    "# overfitting, underfitting\n",
    "origin_history = build_model(x_train.shape[1], y_train.shape[1]).fit(\n",
    "    x_train[1000:], y_train[1000:],\n",
    "    epochs = 30,\n",
    "    batch_size = 512,\n",
    "    validation_data=(x_train[:1000], y_train[:1000]),\n",
    "    verbose = 1\n",
    ")"
   ]
  },
  {
   "cell_type": "code",
   "execution_count": 13,
   "metadata": {},
   "outputs": [
    {
     "name": "stdout",
     "output_type": "stream",
     "text": [
      "Train on 7982 samples, validate on 1000 samples\n",
      "Epoch 1/30\n",
      "7982/7982 [==============================] - 1s 179us/step - loss: 3.4373 - acc: 0.2486 - val_loss: 3.0681 - val_acc: 0.4650\n",
      "Epoch 2/30\n",
      "7982/7982 [==============================] - 1s 130us/step - loss: 2.7928 - acc: 0.5008 - val_loss: 2.5311 - val_acc: 0.5490\n",
      "Epoch 3/30\n",
      "7982/7982 [==============================] - 1s 132us/step - loss: 2.2862 - acc: 0.5775 - val_loss: 2.1153 - val_acc: 0.5980\n",
      "Epoch 4/30\n",
      "7982/7982 [==============================] - 1s 141us/step - loss: 1.9061 - acc: 0.6282 - val_loss: 1.8220 - val_acc: 0.6210\n",
      "Epoch 5/30\n",
      "7982/7982 [==============================] - 1s 128us/step - loss: 1.6387 - acc: 0.6604 - val_loss: 1.6185 - val_acc: 0.6430\n",
      "Epoch 6/30\n",
      "7982/7982 [==============================] - 1s 129us/step - loss: 1.4430 - acc: 0.6809 - val_loss: 1.4842 - val_acc: 0.6620\n",
      "Epoch 7/30\n",
      "7982/7982 [==============================] - 1s 127us/step - loss: 1.2866 - acc: 0.7130 - val_loss: 1.3664 - val_acc: 0.6950\n",
      "Epoch 8/30\n",
      "7982/7982 [==============================] - 1s 127us/step - loss: 1.1560 - acc: 0.7442 - val_loss: 1.2823 - val_acc: 0.7080\n",
      "Epoch 9/30\n",
      "7982/7982 [==============================] - 1s 129us/step - loss: 1.0481 - acc: 0.7648 - val_loss: 1.2177 - val_acc: 0.7300\n",
      "Epoch 10/30\n",
      "7982/7982 [==============================] - 1s 127us/step - loss: 0.9578 - acc: 0.7800 - val_loss: 1.1697 - val_acc: 0.7470\n",
      "Epoch 11/30\n",
      "7982/7982 [==============================] - 1s 128us/step - loss: 0.8797 - acc: 0.8003 - val_loss: 1.1198 - val_acc: 0.7530\n",
      "Epoch 12/30\n",
      "7982/7982 [==============================] - 1s 129us/step - loss: 0.8068 - acc: 0.8178 - val_loss: 1.0885 - val_acc: 0.7680\n",
      "Epoch 13/30\n",
      "7982/7982 [==============================] - 1s 127us/step - loss: 0.7410 - acc: 0.8349 - val_loss: 1.0550 - val_acc: 0.7730\n",
      "Epoch 14/30\n",
      "7982/7982 [==============================] - 1s 128us/step - loss: 0.6790 - acc: 0.8485 - val_loss: 1.0310 - val_acc: 0.7820\n",
      "Epoch 15/30\n",
      "7982/7982 [==============================] - 1s 129us/step - loss: 0.6250 - acc: 0.8597 - val_loss: 1.0146 - val_acc: 0.7810\n",
      "Epoch 16/30\n",
      "7982/7982 [==============================] - 1s 127us/step - loss: 0.5740 - acc: 0.8713 - val_loss: 1.0044 - val_acc: 0.7850\n",
      "Epoch 17/30\n",
      "7982/7982 [==============================] - 1s 128us/step - loss: 0.5277 - acc: 0.8816 - val_loss: 0.9854 - val_acc: 0.7900\n",
      "Epoch 18/30\n",
      "7982/7982 [==============================] - 1s 128us/step - loss: 0.4843 - acc: 0.8944 - val_loss: 0.9713 - val_acc: 0.7910\n",
      "Epoch 19/30\n",
      "7982/7982 [==============================] - 1s 127us/step - loss: 0.4466 - acc: 0.9043 - val_loss: 0.9675 - val_acc: 0.7930\n",
      "Epoch 20/30\n",
      "7982/7982 [==============================] - 1s 127us/step - loss: 0.4113 - acc: 0.9137 - val_loss: 0.9639 - val_acc: 0.7940\n",
      "Epoch 21/30\n",
      "7982/7982 [==============================] - 1s 127us/step - loss: 0.3796 - acc: 0.9201 - val_loss: 0.9700 - val_acc: 0.7890\n",
      "Epoch 22/30\n",
      "7982/7982 [==============================] - 1s 128us/step - loss: 0.3513 - acc: 0.9261 - val_loss: 0.9642 - val_acc: 0.8010\n",
      "Epoch 23/30\n",
      "7982/7982 [==============================] - 1s 127us/step - loss: 0.3262 - acc: 0.9308 - val_loss: 0.9730 - val_acc: 0.7990\n",
      "Epoch 24/30\n",
      "7982/7982 [==============================] - 1s 127us/step - loss: 0.3024 - acc: 0.9356 - val_loss: 0.9879 - val_acc: 0.7990\n",
      "Epoch 25/30\n",
      "7982/7982 [==============================] - 1s 127us/step - loss: 0.2814 - acc: 0.9401 - val_loss: 0.9711 - val_acc: 0.8050\n",
      "Epoch 26/30\n",
      "7982/7982 [==============================] - 1s 127us/step - loss: 0.2626 - acc: 0.9426 - val_loss: 0.9885 - val_acc: 0.8010\n",
      "Epoch 27/30\n",
      "7982/7982 [==============================] - 1s 129us/step - loss: 0.2455 - acc: 0.9466 - val_loss: 0.9955 - val_acc: 0.8000\n",
      "Epoch 28/30\n",
      "7982/7982 [==============================] - 1s 128us/step - loss: 0.2302 - acc: 0.9481 - val_loss: 1.0187 - val_acc: 0.7950\n",
      "Epoch 29/30\n",
      "7982/7982 [==============================] - 1s 126us/step - loss: 0.2164 - acc: 0.9501 - val_loss: 1.0072 - val_acc: 0.8070\n",
      "Epoch 30/30\n",
      "7982/7982 [==============================] - 1s 128us/step - loss: 0.2036 - acc: 0.9520 - val_loss: 1.0221 - val_acc: 0.8000\n"
     ]
    }
   ],
   "source": [
    "smaller_history = build_model_smaller(x_train.shape[1], y_train.shape[1]).fit(\n",
    "        x_train[1000:], y_train[1000:],\n",
    "    epochs = 30,\n",
    "    batch_size = 512,\n",
    "    validation_data=(x_train[:1000], y_train[:1000]),\n",
    "    verbose = 1\n",
    ")"
   ]
  },
  {
   "cell_type": "code",
   "execution_count": 14,
   "metadata": {},
   "outputs": [
    {
     "data": {
      "image/png": "[encoded data removed]",
      "text/plain": [
       "<Figure size 432x288 with 1 Axes>"
      ]
     },
     "metadata": {
      "needs_background": "light"
     },
     "output_type": "display_data"
    }
   ],
   "source": [
    "plt.clf()\n",
    "\n",
    "plt.plot(range(1, 30 + 1), origin_history.history['val_loss'], 'b', label = 'Origin Val Loss')\n",
    "plt.plot(range(1, 30 + 1), smaller_history.history['val_loss'], 'r', label = 'Samller Val Loss')\n",
    "plt.plot(range(1, 30 + 1), origin_history.history['loss'], 'bP', label = 'Origin Loss')\n",
    "plt.plot(range(1, 30 + 1), smaller_history.history['loss'], 'rP', label = 'Samller Loss')\n",
    "plt.legend()\n",
    "\n",
    "plt.show()"
   ]
  },
  {
   "cell_type": "code",
   "execution_count": null,
   "metadata": {},
   "outputs": [],
   "source": [
    "# network.evaluate(x_test, y_test)"
   ]
  },
  {
   "cell_type": "code",
   "execution_count": null,
   "metadata": {},
   "outputs": [],
   "source": [
    "# predictions = network.predict(x_test)\n",
    "# np.argmax(predictions[0])"
   ]
  }
 ],
 "metadata": {
  "kernelspec": {
   "display_name": "Python 3",
   "language": "python",
   "name": "python3"
  },
  "language_info": {
   "codemirror_mode": {
    "name": "ipython",
    "version": 3
   },
   "file_extension": ".py",
   "mimetype": "text/x-python",
   "name": "python",
   "nbconvert_exporter": "python",
   "pygments_lexer": "ipython3",
   "version": "3.6.7"
  }
 },
 "nbformat": 4,
 "nbformat_minor": 2
}
