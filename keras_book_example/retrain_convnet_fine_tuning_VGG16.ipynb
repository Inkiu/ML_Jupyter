{
 "cells": [
  {
   "cell_type": "code",
   "execution_count": 1,
   "metadata": {},
   "outputs": [],
   "source": [
    "base_dir = 'datasets/cats_and_dogs'"
   ]
  },
  {
   "cell_type": "code",
   "execution_count": 2,
   "metadata": {},
   "outputs": [
    {
     "name": "stderr",
     "output_type": "stream",
     "text": [
      "Using TensorFlow backend.\n"
     ]
    },
    {
     "name": "stdout",
     "output_type": "stream",
     "text": [
      "_________________________________________________________________\n",
      "Layer (type)                 Output Shape              Param #   \n",
      "=================================================================\n",
      "input_1 (InputLayer)         (None, 150, 150, 3)       0         \n",
      "_________________________________________________________________\n",
      "block1_conv1 (Conv2D)        (None, 150, 150, 64)      1792      \n",
      "_________________________________________________________________\n",
      "block1_conv2 (Conv2D)        (None, 150, 150, 64)      36928     \n",
      "_________________________________________________________________\n",
      "block1_pool (MaxPooling2D)   (None, 75, 75, 64)        0         \n",
      "_________________________________________________________________\n",
      "block2_conv1 (Conv2D)        (None, 75, 75, 128)       73856     \n",
      "_________________________________________________________________\n",
      "block2_conv2 (Conv2D)        (None, 75, 75, 128)       147584    \n",
      "_________________________________________________________________\n",
      "block2_pool (MaxPooling2D)   (None, 37, 37, 128)       0         \n",
      "_________________________________________________________________\n",
      "block3_conv1 (Conv2D)        (None, 37, 37, 256)       295168    \n",
      "_________________________________________________________________\n",
      "block3_conv2 (Conv2D)        (None, 37, 37, 256)       590080    \n",
      "_________________________________________________________________\n",
      "block3_conv3 (Conv2D)        (None, 37, 37, 256)       590080    \n",
      "_________________________________________________________________\n",
      "block3_pool (MaxPooling2D)   (None, 18, 18, 256)       0         \n",
      "_________________________________________________________________\n",
      "block4_conv1 (Conv2D)        (None, 18, 18, 512)       1180160   \n",
      "_________________________________________________________________\n",
      "block4_conv2 (Conv2D)        (None, 18, 18, 512)       2359808   \n",
      "_________________________________________________________________\n",
      "block4_conv3 (Conv2D)        (None, 18, 18, 512)       2359808   \n",
      "_________________________________________________________________\n",
      "block4_pool (MaxPooling2D)   (None, 9, 9, 512)         0         \n",
      "_________________________________________________________________\n",
      "block5_conv1 (Conv2D)        (None, 9, 9, 512)         2359808   \n",
      "_________________________________________________________________\n",
      "block5_conv2 (Conv2D)        (None, 9, 9, 512)         2359808   \n",
      "_________________________________________________________________\n",
      "block5_conv3 (Conv2D)        (None, 9, 9, 512)         2359808   \n",
      "_________________________________________________________________\n",
      "block5_pool (MaxPooling2D)   (None, 4, 4, 512)         0         \n",
      "=================================================================\n",
      "Total params: 14,714,688\n",
      "Trainable params: 14,714,688\n",
      "Non-trainable params: 0\n",
      "_________________________________________________________________\n"
     ]
    }
   ],
   "source": [
    "from keras.applications import VGG16\n",
    "conv_base = VGG16(weights='imagenet', include_top=False, input_shape=(150, 150, 3))\n",
    "conv_base.summary()"
   ]
  },
  {
   "cell_type": "code",
   "execution_count": 3,
   "metadata": {},
   "outputs": [
    {
     "name": "stdout",
     "output_type": "stream",
     "text": [
      "_________________________________________________________________\n",
      "Layer (type)                 Output Shape              Param #   \n",
      "=================================================================\n",
      "vgg16 (Model)                (None, 4, 4, 512)         14714688  \n",
      "_________________________________________________________________\n",
      "flatten_1 (Flatten)          (None, 8192)              0         \n",
      "_________________________________________________________________\n",
      "dense_1 (Dense)              (None, 256)               2097408   \n",
      "_________________________________________________________________\n",
      "dense_2 (Dense)              (None, 1)                 257       \n",
      "=================================================================\n",
      "Total params: 16,812,353\n",
      "Trainable params: 16,812,353\n",
      "Non-trainable params: 0\n",
      "_________________________________________________________________\n"
     ]
    }
   ],
   "source": [
    "from keras.layers import *\n",
    "from keras.models import *\n",
    "\n",
    "model = Sequential()\n",
    "model.add(conv_base)\n",
    "model.add(Flatten())\n",
    "model.add(Dense(256, activation='relu'))\n",
    "model.add(Dense(1, activation='sigmoid'))\n",
    "model.summary()"
   ]
  },
  {
   "cell_type": "code",
   "execution_count": 4,
   "metadata": {},
   "outputs": [
    {
     "name": "stdout",
     "output_type": "stream",
     "text": [
      "weight count before conv_base freezing:  30\n",
      "weight count after conv_base freezing:  4\n",
      "_________________________________________________________________\n",
      "Layer (type)                 Output Shape              Param #   \n",
      "=================================================================\n",
      "vgg16 (Model)                (None, 4, 4, 512)         14714688  \n",
      "_________________________________________________________________\n",
      "flatten_1 (Flatten)          (None, 8192)              0         \n",
      "_________________________________________________________________\n",
      "dense_1 (Dense)              (None, 256)               2097408   \n",
      "_________________________________________________________________\n",
      "dense_2 (Dense)              (None, 1)                 257       \n",
      "=================================================================\n",
      "Total params: 16,812,353\n",
      "Trainable params: 2,097,665\n",
      "Non-trainable params: 14,714,688\n",
      "_________________________________________________________________\n"
     ]
    }
   ],
   "source": [
    "print('weight count before conv_base freezing: ', len(model.trainable_weights))\n",
    "conv_base.trainable = False\n",
    "print('weight count after conv_base freezing: ', len(model.trainable_weights))\n",
    "model.summary()"
   ]
  },
  {
   "cell_type": "code",
   "execution_count": 5,
   "metadata": {},
   "outputs": [],
   "source": [
    "from keras.preprocessing.image import ImageDataGenerator\n",
    "from keras import optimizers\n",
    "\n",
    "train_datagen = ImageDataGenerator(\n",
    "    rescale=1./255,\n",
    "    rotation_range=40,\n",
    "    width_shift_range=0.2,\n",
    "    height_shift_range=0.2,\n",
    "    shear_range=0.2,\n",
    "    zoom_range=0.2,\n",
    "    horizontal_flip=True,\n",
    "    fill_mode='nearest'\n",
    ")\n",
    "\n",
    "test_datagen = ImageDataGenerator(rescale=1./255)"
   ]
  },
  {
   "cell_type": "code",
   "execution_count": 6,
   "metadata": {},
   "outputs": [
    {
     "name": "stdout",
     "output_type": "stream",
     "text": [
      "Found 2000 images belonging to 2 classes.\n",
      "Found 1000 images belonging to 2 classes.\n",
      "Found 1000 images belonging to 2 classes.\n"
     ]
    }
   ],
   "source": [
    "import os\n",
    "train_generator = train_datagen.flow_from_directory(\n",
    "    os.path.join(base_dir, 'train'),\n",
    "    target_size=(150, 150),\n",
    "    batch_size = 20,\n",
    "    class_mode = 'binary'\n",
    ")\n",
    "\n",
    "val_generator = test_datagen.flow_from_directory(\n",
    "    os.path.join(base_dir, 'validation'),\n",
    "    target_size=(150, 150),\n",
    "    batch_size=20,\n",
    "    class_mode='binary'\n",
    ")\n",
    "\n",
    "test_generator = test_datagen.flow_from_directory(\n",
    "    os.path.join(base_dir, 'test'),\n",
    "    target_size=(150, 150),\n",
    "    batch_size=20,\n",
    "    class_mode='binary'\n",
    ")"
   ]
  },
  {
   "cell_type": "code",
   "execution_count": 7,
   "metadata": {},
   "outputs": [],
   "source": [
    "model.compile(loss='binary_crossentropy', optimizer=optimizers.RMSprop(lr=2e-5), metrics=['acc'])"
   ]
  },
  {
   "cell_type": "code",
   "execution_count": 8,
   "metadata": {
    "scrolled": true
   },
   "outputs": [
    {
     "name": "stdout",
     "output_type": "stream",
     "text": [
      "Epoch 1/30\n",
      "100/100 [==============================] - 17s 168ms/step - loss: 0.5682 - acc: 0.7190 - val_loss: 0.4277 - val_acc: 0.8270\n",
      "Epoch 2/30\n",
      "100/100 [==============================] - 15s 147ms/step - loss: 0.4754 - acc: 0.7830 - val_loss: 0.3551 - val_acc: 0.8560\n",
      "Epoch 3/30\n",
      "100/100 [==============================] - 16s 155ms/step - loss: 0.4312 - acc: 0.7945 - val_loss: 0.3225 - val_acc: 0.8630\n",
      "Epoch 4/30\n",
      "100/100 [==============================] - 15s 150ms/step - loss: 0.4024 - acc: 0.8260 - val_loss: 0.3053 - val_acc: 0.8790\n",
      "Epoch 5/30\n",
      "100/100 [==============================] - 15s 152ms/step - loss: 0.3734 - acc: 0.8425 - val_loss: 0.2927 - val_acc: 0.8730\n",
      "Epoch 6/30\n",
      "100/100 [==============================] - 15s 146ms/step - loss: 0.3678 - acc: 0.8335 - val_loss: 0.2830 - val_acc: 0.8800\n",
      "Epoch 7/30\n",
      "100/100 [==============================] - 15s 146ms/step - loss: 0.3630 - acc: 0.8370 - val_loss: 0.2721 - val_acc: 0.8880\n",
      "Epoch 8/30\n",
      "100/100 [==============================] - 15s 146ms/step - loss: 0.3546 - acc: 0.8495 - val_loss: 0.2729 - val_acc: 0.8790\n",
      "Epoch 9/30\n",
      "100/100 [==============================] - 15s 146ms/step - loss: 0.3448 - acc: 0.8525 - val_loss: 0.2659 - val_acc: 0.8930\n",
      "Epoch 10/30\n",
      "100/100 [==============================] - 15s 146ms/step - loss: 0.3358 - acc: 0.8465 - val_loss: 0.2612 - val_acc: 0.8890\n",
      "Epoch 11/30\n",
      "100/100 [==============================] - 15s 146ms/step - loss: 0.3350 - acc: 0.8565 - val_loss: 0.2602 - val_acc: 0.8920\n",
      "Epoch 12/30\n",
      "100/100 [==============================] - 15s 146ms/step - loss: 0.3267 - acc: 0.8545 - val_loss: 0.2516 - val_acc: 0.8970\n",
      "Epoch 13/30\n",
      "100/100 [==============================] - 15s 146ms/step - loss: 0.3172 - acc: 0.8615 - val_loss: 0.2545 - val_acc: 0.8970\n",
      "Epoch 14/30\n",
      "100/100 [==============================] - 15s 146ms/step - loss: 0.3111 - acc: 0.8660 - val_loss: 0.2484 - val_acc: 0.8970\n",
      "Epoch 15/30\n",
      "100/100 [==============================] - 15s 146ms/step - loss: 0.3173 - acc: 0.8650 - val_loss: 0.2673 - val_acc: 0.8900\n",
      "Epoch 16/30\n",
      "100/100 [==============================] - 15s 147ms/step - loss: 0.3136 - acc: 0.8590 - val_loss: 0.2450 - val_acc: 0.8950\n",
      "Epoch 17/30\n",
      "100/100 [==============================] - 15s 147ms/step - loss: 0.3017 - acc: 0.8645 - val_loss: 0.2438 - val_acc: 0.8960\n",
      "Epoch 18/30\n",
      "100/100 [==============================] - 15s 146ms/step - loss: 0.3105 - acc: 0.8680 - val_loss: 0.2412 - val_acc: 0.8990\n",
      "Epoch 19/30\n",
      "100/100 [==============================] - 15s 148ms/step - loss: 0.3034 - acc: 0.8600 - val_loss: 0.2462 - val_acc: 0.8970\n",
      "Epoch 20/30\n",
      "100/100 [==============================] - 15s 149ms/step - loss: 0.2911 - acc: 0.8750 - val_loss: 0.2585 - val_acc: 0.8940\n",
      "Epoch 21/30\n",
      "100/100 [==============================] - 15s 149ms/step - loss: 0.2981 - acc: 0.8655 - val_loss: 0.2404 - val_acc: 0.9000\n",
      "Epoch 22/30\n",
      "100/100 [==============================] - 15s 154ms/step - loss: 0.2881 - acc: 0.8735 - val_loss: 0.2418 - val_acc: 0.9000\n",
      "Epoch 23/30\n",
      "100/100 [==============================] - 15s 149ms/step - loss: 0.2825 - acc: 0.8745 - val_loss: 0.2412 - val_acc: 0.9040\n",
      "Epoch 24/30\n",
      "100/100 [==============================] - 15s 151ms/step - loss: 0.2809 - acc: 0.8770 - val_loss: 0.2365 - val_acc: 0.9040\n",
      "Epoch 25/30\n",
      "100/100 [==============================] - 15s 153ms/step - loss: 0.2868 - acc: 0.8730 - val_loss: 0.2371 - val_acc: 0.9070\n",
      "Epoch 26/30\n",
      "100/100 [==============================] - 15s 149ms/step - loss: 0.2891 - acc: 0.8750 - val_loss: 0.2391 - val_acc: 0.9050\n",
      "Epoch 27/30\n",
      "100/100 [==============================] - 15s 151ms/step - loss: 0.2668 - acc: 0.8830 - val_loss: 0.2438 - val_acc: 0.9000\n",
      "Epoch 28/30\n",
      "100/100 [==============================] - 15s 150ms/step - loss: 0.2867 - acc: 0.8760 - val_loss: 0.2485 - val_acc: 0.9010\n",
      "Epoch 29/30\n",
      "100/100 [==============================] - 15s 149ms/step - loss: 0.2871 - acc: 0.8690 - val_loss: 0.2470 - val_acc: 0.8960\n",
      "Epoch 30/30\n",
      "100/100 [==============================] - 15s 149ms/step - loss: 0.2847 - acc: 0.8775 - val_loss: 0.2358 - val_acc: 0.9060\n"
     ]
    }
   ],
   "source": [
    "history = model.fit_generator(\n",
    "    train_generator,\n",
    "    steps_per_epoch=100,\n",
    "    epochs=30,\n",
    "    validation_data=val_generator,\n",
    "    validation_steps=50\n",
    ").history"
   ]
  },
  {
   "cell_type": "code",
   "execution_count": 9,
   "metadata": {},
   "outputs": [],
   "source": [
    "import matplotlib.pyplot as plt\n",
    "def plot(history, smooth_enabled = False):\n",
    "    epoch = range(1, len(history['acc']) + 1)\n",
    "    plt.clf()\n",
    "    target = smooth_curve(history['acc']) if smooth_enabled else history['acc']\n",
    "    plt.plot(epoch, target, 'bo', label='Training Acc')\n",
    "    target = smooth_curve(history['loss']) if smooth_enabled else history['loss']\n",
    "    plt.plot(epoch, target, 'bP', label='Training Loss')\n",
    "    target = smooth_curve(history['val_acc']) if smooth_enabled else history['val_acc']\n",
    "    plt.plot(epoch, target, 'ro', label='Validation Acc')\n",
    "    target = smooth_curve(history['val_loss']) if smooth_enabled else history['val_loss']\n",
    "    plt.plot(epoch, target, 'rP', label='Validation Loss')\n",
    "    plt.legend()\n",
    "    plt.show()"
   ]
  },
  {
   "cell_type": "code",
   "execution_count": 10,
   "metadata": {},
   "outputs": [],
   "source": [
    "def smooth_curve(points, factor = 0.8):\n",
    "    smoothed = []\n",
    "    for p in points:\n",
    "        if smoothed:\n",
    "            previous = smoothed[-1]\n",
    "            smoothed.append(previous * factor + p + (1 - factor))\n",
    "        else:\n",
    "            smoothed.append(p)\n",
    "    return smoothed"
   ]
  },
  {
   "cell_type": "code",
   "execution_count": 12,
   "metadata": {},
   "outputs": [
    {
     "data": {
      "image/png": "[encoded data removed]",
      "text/plain": [
       "<Figure size 432x288 with 1 Axes>"
      ]
     },
     "metadata": {
      "needs_background": "light"
     },
     "output_type": "display_data"
    }
   ],
   "source": [
    "plot(history)"
   ]
  },
  {
   "cell_type": "code",
   "execution_count": 13,
   "metadata": {},
   "outputs": [],
   "source": [
    "score = model.evaluate_generator(test_generator, 50)"
   ]
  },
  {
   "cell_type": "code",
   "execution_count": 14,
   "metadata": {},
   "outputs": [
    {
     "name": "stdout",
     "output_type": "stream",
     "text": [
      "Loss :  0.24475754782557488 \tACC :  0.8949999988079071\n"
     ]
    }
   ],
   "source": [
    "print(\"Loss : \", score[0], \"\\tACC : \", score[1])"
   ]
  },
  {
   "cell_type": "code",
   "execution_count": 16,
   "metadata": {},
   "outputs": [
    {
     "data": {
      "text/plain": [
       "10"
      ]
     },
     "execution_count": 16,
     "metadata": {},
     "output_type": "execute_result"
    }
   ],
   "source": [
    "conv_base.trainable = True\n",
    "set_trainable = False\n",
    "for layer in conv_base.layers:\n",
    "    if layer.name == 'block5_conv1':\n",
    "        set_trainable = True\n",
    "    if set_trainable:\n",
    "        layer.trainable = True\n",
    "    else:\n",
    "        layer.trainable = False\n",
    "len(model.trainable_weights)"
   ]
  },
  {
   "cell_type": "code",
   "execution_count": 17,
   "metadata": {},
   "outputs": [
    {
     "name": "stdout",
     "output_type": "stream",
     "text": [
      "Epoch 1/100\n",
      "100/100 [==============================] - 17s 167ms/step - loss: 0.2791 - acc: 0.8800 - val_loss: 0.2316 - val_acc: 0.9050\n",
      "Epoch 2/100\n",
      "100/100 [==============================] - 15s 148ms/step - loss: 0.2628 - acc: 0.8910 - val_loss: 0.2349 - val_acc: 0.9170\n",
      "Epoch 3/100\n",
      "100/100 [==============================] - 15s 150ms/step - loss: 0.2451 - acc: 0.8945 - val_loss: 0.1881 - val_acc: 0.9280\n",
      "Epoch 4/100\n",
      "100/100 [==============================] - 15s 148ms/step - loss: 0.2192 - acc: 0.9035 - val_loss: 0.2094 - val_acc: 0.9170\n",
      "Epoch 5/100\n",
      "100/100 [==============================] - 15s 150ms/step - loss: 0.2074 - acc: 0.9090 - val_loss: 0.1917 - val_acc: 0.9260\n",
      "Epoch 6/100\n",
      "100/100 [==============================] - 15s 152ms/step - loss: 0.1974 - acc: 0.9195 - val_loss: 0.2571 - val_acc: 0.8970\n",
      "Epoch 7/100\n",
      "100/100 [==============================] - 15s 150ms/step - loss: 0.1775 - acc: 0.9255 - val_loss: 0.1912 - val_acc: 0.9250\n",
      "Epoch 8/100\n",
      "100/100 [==============================] - 15s 150ms/step - loss: 0.1815 - acc: 0.9225 - val_loss: 0.1998 - val_acc: 0.9120\n",
      "Epoch 9/100\n",
      "100/100 [==============================] - 15s 148ms/step - loss: 0.1498 - acc: 0.9400 - val_loss: 0.1942 - val_acc: 0.9270\n",
      "Epoch 10/100\n",
      "100/100 [==============================] - 15s 147ms/step - loss: 0.1539 - acc: 0.9460 - val_loss: 0.1740 - val_acc: 0.9390\n",
      "Epoch 11/100\n",
      "100/100 [==============================] - 15s 147ms/step - loss: 0.1441 - acc: 0.9410 - val_loss: 0.2190 - val_acc: 0.9200\n",
      "Epoch 12/100\n",
      "100/100 [==============================] - 15s 148ms/step - loss: 0.1389 - acc: 0.9445 - val_loss: 0.1666 - val_acc: 0.9310\n",
      "Epoch 13/100\n",
      "100/100 [==============================] - 15s 147ms/step - loss: 0.1370 - acc: 0.9470 - val_loss: 0.1857 - val_acc: 0.9300\n",
      "Epoch 14/100\n",
      "100/100 [==============================] - 15s 147ms/step - loss: 0.1367 - acc: 0.9410 - val_loss: 0.2060 - val_acc: 0.9240\n",
      "Epoch 15/100\n",
      "100/100 [==============================] - 15s 148ms/step - loss: 0.1188 - acc: 0.9500 - val_loss: 0.1904 - val_acc: 0.9230\n",
      "Epoch 16/100\n",
      "100/100 [==============================] - 15s 147ms/step - loss: 0.1197 - acc: 0.9570 - val_loss: 0.1649 - val_acc: 0.9390\n",
      "Epoch 17/100\n",
      "100/100 [==============================] - 15s 147ms/step - loss: 0.1085 - acc: 0.9605 - val_loss: 0.2358 - val_acc: 0.9250\n",
      "Epoch 18/100\n",
      "100/100 [==============================] - 15s 148ms/step - loss: 0.0984 - acc: 0.9595 - val_loss: 0.1983 - val_acc: 0.9280\n",
      "Epoch 19/100\n",
      "100/100 [==============================] - 15s 148ms/step - loss: 0.1123 - acc: 0.9525 - val_loss: 0.1750 - val_acc: 0.9390\n",
      "Epoch 20/100\n",
      "100/100 [==============================] - 15s 147ms/step - loss: 0.1115 - acc: 0.9535 - val_loss: 0.1947 - val_acc: 0.9340\n",
      "Epoch 21/100\n",
      "100/100 [==============================] - 15s 149ms/step - loss: 0.0890 - acc: 0.9640 - val_loss: 0.1937 - val_acc: 0.9330\n",
      "Epoch 22/100\n",
      "100/100 [==============================] - 15s 148ms/step - loss: 0.0812 - acc: 0.9690 - val_loss: 0.1970 - val_acc: 0.9310\n",
      "Epoch 23/100\n",
      "100/100 [==============================] - 15s 147ms/step - loss: 0.0815 - acc: 0.9700 - val_loss: 0.1790 - val_acc: 0.9350\n",
      "Epoch 24/100\n",
      "100/100 [==============================] - 15s 147ms/step - loss: 0.0826 - acc: 0.9670 - val_loss: 0.2104 - val_acc: 0.9310\n",
      "Epoch 25/100\n",
      "100/100 [==============================] - 15s 148ms/step - loss: 0.0832 - acc: 0.9665 - val_loss: 0.1830 - val_acc: 0.9370\n",
      "Epoch 26/100\n",
      "100/100 [==============================] - 15s 148ms/step - loss: 0.0690 - acc: 0.9745 - val_loss: 0.1950 - val_acc: 0.9380\n",
      "Epoch 27/100\n",
      "100/100 [==============================] - 15s 147ms/step - loss: 0.0745 - acc: 0.9730 - val_loss: 0.2068 - val_acc: 0.9220\n",
      "Epoch 28/100\n",
      "100/100 [==============================] - 15s 148ms/step - loss: 0.0733 - acc: 0.9715 - val_loss: 0.1982 - val_acc: 0.9190\n",
      "Epoch 29/100\n",
      "100/100 [==============================] - 15s 147ms/step - loss: 0.0689 - acc: 0.9710 - val_loss: 0.2085 - val_acc: 0.9420\n",
      "Epoch 30/100\n",
      "100/100 [==============================] - 15s 147ms/step - loss: 0.0644 - acc: 0.9740 - val_loss: 0.2427 - val_acc: 0.9310\n",
      "Epoch 31/100\n",
      "100/100 [==============================] - 15s 147ms/step - loss: 0.0686 - acc: 0.9750 - val_loss: 0.2067 - val_acc: 0.9340\n",
      "Epoch 32/100\n",
      "100/100 [==============================] - 15s 147ms/step - loss: 0.0598 - acc: 0.9770 - val_loss: 0.1933 - val_acc: 0.9290\n",
      "Epoch 33/100\n",
      "100/100 [==============================] - 15s 152ms/step - loss: 0.0537 - acc: 0.9775 - val_loss: 0.2231 - val_acc: 0.9310\n",
      "Epoch 34/100\n",
      "100/100 [==============================] - 15s 153ms/step - loss: 0.0434 - acc: 0.9855 - val_loss: 0.2412 - val_acc: 0.9360\n",
      "Epoch 35/100\n",
      "100/100 [==============================] - 15s 148ms/step - loss: 0.0546 - acc: 0.9760 - val_loss: 0.2083 - val_acc: 0.9380\n",
      "Epoch 36/100\n",
      "100/100 [==============================] - 15s 148ms/step - loss: 0.0497 - acc: 0.9785 - val_loss: 0.1948 - val_acc: 0.9350\n",
      "Epoch 37/100\n",
      "100/100 [==============================] - 15s 148ms/step - loss: 0.0519 - acc: 0.9795 - val_loss: 0.3019 - val_acc: 0.9300\n",
      "Epoch 38/100\n",
      "100/100 [==============================] - 15s 147ms/step - loss: 0.0489 - acc: 0.9840 - val_loss: 0.2193 - val_acc: 0.9210\n",
      "Epoch 39/100\n",
      "100/100 [==============================] - 15s 148ms/step - loss: 0.0521 - acc: 0.9815 - val_loss: 0.1983 - val_acc: 0.9360\n",
      "Epoch 40/100\n",
      "100/100 [==============================] - 16s 157ms/step - loss: 0.0478 - acc: 0.9795 - val_loss: 0.2537 - val_acc: 0.9330\n",
      "Epoch 41/100\n",
      "100/100 [==============================] - 17s 169ms/step - loss: 0.0535 - acc: 0.9840 - val_loss: 0.1926 - val_acc: 0.9400\n",
      "Epoch 42/100\n",
      "100/100 [==============================] - 16s 161ms/step - loss: 0.0594 - acc: 0.9775 - val_loss: 0.2361 - val_acc: 0.9330\n",
      "Epoch 43/100\n",
      "100/100 [==============================] - 16s 158ms/step - loss: 0.0430 - acc: 0.9840 - val_loss: 0.2624 - val_acc: 0.9290\n",
      "Epoch 44/100\n",
      "100/100 [==============================] - 16s 162ms/step - loss: 0.0407 - acc: 0.9855 - val_loss: 0.3851 - val_acc: 0.9100\n",
      "Epoch 45/100\n",
      "100/100 [==============================] - 16s 157ms/step - loss: 0.0363 - acc: 0.9850 - val_loss: 0.2424 - val_acc: 0.9320\n",
      "Epoch 46/100\n",
      "100/100 [==============================] - 15s 155ms/step - loss: 0.0378 - acc: 0.9865 - val_loss: 0.2839 - val_acc: 0.9300\n",
      "Epoch 47/100\n",
      "100/100 [==============================] - 16s 160ms/step - loss: 0.0538 - acc: 0.9805 - val_loss: 0.2005 - val_acc: 0.9450\n",
      "Epoch 48/100\n",
      "100/100 [==============================] - 15s 151ms/step - loss: 0.0372 - acc: 0.9860 - val_loss: 0.2562 - val_acc: 0.9300\n",
      "Epoch 49/100\n",
      "100/100 [==============================] - 15s 148ms/step - loss: 0.0472 - acc: 0.9840 - val_loss: 0.2019 - val_acc: 0.9360\n",
      "Epoch 50/100\n",
      "100/100 [==============================] - 15s 150ms/step - loss: 0.0393 - acc: 0.9850 - val_loss: 0.2736 - val_acc: 0.9320\n",
      "Epoch 51/100\n",
      "100/100 [==============================] - 16s 156ms/step - loss: 0.0322 - acc: 0.9890 - val_loss: 0.2557 - val_acc: 0.9360\n",
      "Epoch 52/100\n",
      "100/100 [==============================] - 16s 156ms/step - loss: 0.0495 - acc: 0.9820 - val_loss: 0.2446 - val_acc: 0.9360\n",
      "Epoch 53/100\n",
      "100/100 [==============================] - 16s 155ms/step - loss: 0.0308 - acc: 0.9885 - val_loss: 0.3112 - val_acc: 0.9330\n",
      "Epoch 54/100\n",
      "100/100 [==============================] - 16s 156ms/step - loss: 0.0408 - acc: 0.9855 - val_loss: 0.2237 - val_acc: 0.9370\n",
      "Epoch 55/100\n",
      "100/100 [==============================] - 15s 154ms/step - loss: 0.0394 - acc: 0.9860 - val_loss: 0.1865 - val_acc: 0.9400\n",
      "Epoch 56/100\n",
      "100/100 [==============================] - 15s 152ms/step - loss: 0.0349 - acc: 0.9855 - val_loss: 0.2889 - val_acc: 0.9370\n",
      "Epoch 57/100\n",
      "100/100 [==============================] - 15s 152ms/step - loss: 0.0316 - acc: 0.9895 - val_loss: 0.2525 - val_acc: 0.9350\n",
      "Epoch 58/100\n",
      "100/100 [==============================] - 15s 152ms/step - loss: 0.0324 - acc: 0.9915 - val_loss: 0.1991 - val_acc: 0.9450\n",
      "Epoch 59/100\n",
      "100/100 [==============================] - 15s 152ms/step - loss: 0.0419 - acc: 0.9875 - val_loss: 0.2043 - val_acc: 0.9400\n",
      "Epoch 60/100\n",
      "100/100 [==============================] - 15s 152ms/step - loss: 0.0290 - acc: 0.9885 - val_loss: 0.2650 - val_acc: 0.9310\n"
     ]
    },
    {
     "name": "stdout",
     "output_type": "stream",
     "text": [
      "Epoch 61/100\n",
      "100/100 [==============================] - 15s 151ms/step - loss: 0.0375 - acc: 0.9875 - val_loss: 0.2072 - val_acc: 0.9390\n",
      "Epoch 62/100\n",
      "100/100 [==============================] - 15s 152ms/step - loss: 0.0337 - acc: 0.9875 - val_loss: 0.2443 - val_acc: 0.9400\n",
      "Epoch 63/100\n",
      "100/100 [==============================] - 15s 152ms/step - loss: 0.0381 - acc: 0.9865 - val_loss: 0.3094 - val_acc: 0.9210\n",
      "Epoch 64/100\n",
      "100/100 [==============================] - 15s 151ms/step - loss: 0.0213 - acc: 0.9925 - val_loss: 0.3258 - val_acc: 0.9270\n",
      "Epoch 65/100\n",
      "100/100 [==============================] - 15s 152ms/step - loss: 0.0304 - acc: 0.9890 - val_loss: 0.3159 - val_acc: 0.9280\n",
      "Epoch 66/100\n",
      "100/100 [==============================] - 15s 151ms/step - loss: 0.0305 - acc: 0.9900 - val_loss: 0.2318 - val_acc: 0.9450\n",
      "Epoch 67/100\n",
      "100/100 [==============================] - 15s 152ms/step - loss: 0.0254 - acc: 0.9925 - val_loss: 0.2248 - val_acc: 0.9380\n",
      "Epoch 68/100\n",
      "100/100 [==============================] - 15s 152ms/step - loss: 0.0241 - acc: 0.9910 - val_loss: 0.2208 - val_acc: 0.9440\n",
      "Epoch 69/100\n",
      "100/100 [==============================] - 15s 151ms/step - loss: 0.0237 - acc: 0.9920 - val_loss: 0.2377 - val_acc: 0.9420\n",
      "Epoch 70/100\n",
      "100/100 [==============================] - 15s 151ms/step - loss: 0.0298 - acc: 0.9895 - val_loss: 0.2597 - val_acc: 0.9360\n",
      "Epoch 71/100\n",
      "100/100 [==============================] - 15s 153ms/step - loss: 0.0220 - acc: 0.9925 - val_loss: 0.2047 - val_acc: 0.9410\n",
      "Epoch 72/100\n",
      "100/100 [==============================] - 15s 152ms/step - loss: 0.0297 - acc: 0.9890 - val_loss: 0.3102 - val_acc: 0.9250\n",
      "Epoch 73/100\n",
      "100/100 [==============================] - 15s 153ms/step - loss: 0.0272 - acc: 0.9895 - val_loss: 0.2687 - val_acc: 0.9360\n",
      "Epoch 74/100\n",
      "100/100 [==============================] - 15s 153ms/step - loss: 0.0240 - acc: 0.9915 - val_loss: 0.3295 - val_acc: 0.9320\n",
      "Epoch 75/100\n",
      "100/100 [==============================] - 15s 152ms/step - loss: 0.0251 - acc: 0.9935 - val_loss: 0.2144 - val_acc: 0.9440\n",
      "Epoch 76/100\n",
      "100/100 [==============================] - 15s 152ms/step - loss: 0.0275 - acc: 0.9905 - val_loss: 0.2615 - val_acc: 0.9350\n",
      "Epoch 77/100\n",
      "100/100 [==============================] - 15s 152ms/step - loss: 0.0209 - acc: 0.9910 - val_loss: 0.2368 - val_acc: 0.9390\n",
      "Epoch 78/100\n",
      "100/100 [==============================] - 15s 154ms/step - loss: 0.0419 - acc: 0.9850 - val_loss: 0.2195 - val_acc: 0.9450\n",
      "Epoch 79/100\n",
      "100/100 [==============================] - 16s 156ms/step - loss: 0.0273 - acc: 0.9895 - val_loss: 0.2292 - val_acc: 0.9370\n",
      "Epoch 80/100\n",
      "100/100 [==============================] - 16s 156ms/step - loss: 0.0205 - acc: 0.9925 - val_loss: 0.2993 - val_acc: 0.9380\n",
      "Epoch 81/100\n",
      "100/100 [==============================] - 17s 165ms/step - loss: 0.0279 - acc: 0.9900 - val_loss: 0.2367 - val_acc: 0.9390\n",
      "Epoch 82/100\n",
      "100/100 [==============================] - 16s 156ms/step - loss: 0.0207 - acc: 0.9925 - val_loss: 0.2413 - val_acc: 0.9460\n",
      "Epoch 83/100\n",
      "100/100 [==============================] - 16s 157ms/step - loss: 0.0206 - acc: 0.9930 - val_loss: 0.2574 - val_acc: 0.9410\n",
      "Epoch 84/100\n",
      "100/100 [==============================] - 15s 152ms/step - loss: 0.0225 - acc: 0.9930 - val_loss: 0.2411 - val_acc: 0.9400\n",
      "Epoch 85/100\n",
      "100/100 [==============================] - 16s 164ms/step - loss: 0.0166 - acc: 0.9940 - val_loss: 0.6958 - val_acc: 0.8970\n",
      "Epoch 86/100\n",
      "100/100 [==============================] - 15s 154ms/step - loss: 0.0253 - acc: 0.9895 - val_loss: 0.3019 - val_acc: 0.9340\n",
      "Epoch 87/100\n",
      "100/100 [==============================] - 15s 153ms/step - loss: 0.0210 - acc: 0.9935 - val_loss: 0.2334 - val_acc: 0.9420\n",
      "Epoch 88/100\n",
      "100/100 [==============================] - 16s 165ms/step - loss: 0.0209 - acc: 0.9920 - val_loss: 0.2471 - val_acc: 0.9380\n",
      "Epoch 89/100\n",
      "100/100 [==============================] - 16s 158ms/step - loss: 0.0203 - acc: 0.9915 - val_loss: 0.3077 - val_acc: 0.9430\n",
      "Epoch 90/100\n",
      "100/100 [==============================] - 16s 158ms/step - loss: 0.0232 - acc: 0.9935 - val_loss: 0.3355 - val_acc: 0.9310\n",
      "Epoch 91/100\n",
      "100/100 [==============================] - 15s 155ms/step - loss: 0.0125 - acc: 0.9965 - val_loss: 0.2975 - val_acc: 0.9410\n",
      "Epoch 92/100\n",
      "100/100 [==============================] - 16s 157ms/step - loss: 0.0288 - acc: 0.9905 - val_loss: 0.2500 - val_acc: 0.9420\n",
      "Epoch 93/100\n",
      "100/100 [==============================] - 15s 154ms/step - loss: 0.0233 - acc: 0.9915 - val_loss: 0.2365 - val_acc: 0.9470\n",
      "Epoch 94/100\n",
      "100/100 [==============================] - 15s 154ms/step - loss: 0.0174 - acc: 0.9945 - val_loss: 0.3167 - val_acc: 0.9320\n",
      "Epoch 95/100\n",
      "100/100 [==============================] - 15s 154ms/step - loss: 0.0231 - acc: 0.9905 - val_loss: 0.2052 - val_acc: 0.9450\n",
      "Epoch 96/100\n",
      "100/100 [==============================] - 16s 155ms/step - loss: 0.0204 - acc: 0.9925 - val_loss: 0.3675 - val_acc: 0.9260\n",
      "Epoch 97/100\n",
      "100/100 [==============================] - 16s 156ms/step - loss: 0.0249 - acc: 0.9935 - val_loss: 0.2282 - val_acc: 0.9450\n",
      "Epoch 98/100\n",
      "100/100 [==============================] - 15s 154ms/step - loss: 0.0127 - acc: 0.9975 - val_loss: 0.3490 - val_acc: 0.9270\n",
      "Epoch 99/100\n",
      "100/100 [==============================] - 16s 157ms/step - loss: 0.0221 - acc: 0.9930 - val_loss: 0.3302 - val_acc: 0.9350\n",
      "Epoch 100/100\n",
      "100/100 [==============================] - 15s 153ms/step - loss: 0.0129 - acc: 0.9940 - val_loss: 0.3367 - val_acc: 0.9310\n"
     ]
    }
   ],
   "source": [
    "model.compile(loss='binary_crossentropy', optimizer = optimizers.RMSprop(lr=1e-5), metrics=['acc'])\n",
    "history = model.fit_generator(\n",
    "    train_generator,\n",
    "    steps_per_epoch=100,\n",
    "    epochs=100,\n",
    "    validation_data=val_generator,\n",
    "    validation_steps=50\n",
    ").history"
   ]
  },
  {
   "cell_type": "code",
   "execution_count": 18,
   "metadata": {},
   "outputs": [
    {
     "data": {
      "image/png": "[encoded data removed]",
      "text/plain": [
       "<Figure size 432x288 with 1 Axes>"
      ]
     },
     "metadata": {
      "needs_background": "light"
     },
     "output_type": "display_data"
    }
   ],
   "source": [
    "plot(history, True)"
   ]
  },
  {
   "cell_type": "code",
   "execution_count": 19,
   "metadata": {},
   "outputs": [
    {
     "name": "stdout",
     "output_type": "stream",
     "text": [
      "Loss :  0.417230763384141 \tAcc :  0.9289999914169311\n"
     ]
    }
   ],
   "source": [
    "fine_tuned_score = model.evaluate_generator(test_generator, 50)\n",
    "print(\"Loss : \", fine_tuned_score[0], \"\\tAcc : \", fine_tuned_score[1])"
   ]
  },
  {
   "cell_type": "code",
   "execution_count": 20,
   "metadata": {},
   "outputs": [],
   "source": [
    "model.save('retrain_convnet_fine_tuning.h5')"
   ]
  }
 ],
 "metadata": {
  "kernelspec": {
   "display_name": "Python 3",
   "language": "python",
   "name": "python3"
  },
  "language_info": {
   "codemirror_mode": {
    "name": "ipython",
    "version": 3
   },
   "file_extension": ".py",
   "mimetype": "text/x-python",
   "name": "python",
   "nbconvert_exporter": "python",
   "pygments_lexer": "ipython3",
   "version": "3.6.7"
  }
 },
 "nbformat": 4,
 "nbformat_minor": 2
}
