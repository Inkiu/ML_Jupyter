{
 "cells": [
  {
   "cell_type": "code",
   "execution_count": 1,
   "metadata": {},
   "outputs": [
    {
     "name": "stderr",
     "output_type": "stream",
     "text": [
      "Using TensorFlow backend.\n"
     ]
    }
   ],
   "source": [
    "from keras.datasets import imdb\n",
    "from keras.preprocessing import sequence\n",
    "from keras import models\n",
    "from keras import layers\n",
    "import matplotlib.pyplot as plt\n",
    "import numpy as np"
   ]
  },
  {
   "cell_type": "code",
   "execution_count": 2,
   "metadata": {},
   "outputs": [],
   "source": [
    "def padd_up(sequences, dim):\n",
    "    result = np.zeros((len(sequences), dim))\n",
    "    for i, sequence in enumerate(sequences):\n",
    "        result[i, :min(len(sequence), dim)] = sequence[:min(len(sequence), dim)]\n",
    "    \n",
    "    return result"
   ]
  },
  {
   "cell_type": "code",
   "execution_count": 3,
   "metadata": {},
   "outputs": [],
   "source": [
    "(x_train, y_train), (x_test, y_test) = imdb.load_data(num_words=10000)\n",
    "# max_length_x = max([len(sequence) for sequence in x_train])\n",
    "# max_length_x = max(max_length_x, max([len(sequence) for sequence in x_test]))\n",
    "max_length_x = 80"
   ]
  },
  {
   "cell_type": "code",
   "execution_count": 4,
   "metadata": {},
   "outputs": [],
   "source": [
    "x_train = padd_up(x_train, max_length_x)\n",
    "x_test = padd_up(x_test, max_length_x)\n",
    "y_train = np.asarray(y_train)\n",
    "y_test = np.asarray(y_test)"
   ]
  },
  {
   "cell_type": "code",
   "execution_count": 5,
   "metadata": {},
   "outputs": [],
   "source": [
    "x_val = x_train[:5000]\n",
    "partial_x_train = x_train[5000:]\n",
    "y_val = y_train[:5000]\n",
    "partial_y_train = y_train[5000:]"
   ]
  },
  {
   "cell_type": "code",
   "execution_count": 6,
   "metadata": {},
   "outputs": [
    {
     "name": "stdout",
     "output_type": "stream",
     "text": [
      "(25000, 80) (25000, 80)\n"
     ]
    }
   ],
   "source": [
    "print(\n",
    "    padd_up(x_train, max_length_x).shape,\n",
    "    sequence.pad_sequences(x_train, maxlen=max_length_x).shape\n",
    ")"
   ]
  },
  {
   "cell_type": "code",
   "execution_count": 10,
   "metadata": {},
   "outputs": [],
   "source": [
    "network = models.Sequential()\n",
    "\n",
    "network.add(layers.Embedding(10000, 128))\n",
    "network.add(layers.LSTM(128, dropout=0.2, recurrent_dropout=0.2))\n",
    "network.add(layers.Dense(1, activation='sigmoid'))"
   ]
  },
  {
   "cell_type": "code",
   "execution_count": 11,
   "metadata": {},
   "outputs": [],
   "source": [
    "network.compile(\n",
    "    loss = 'binary_crossentropy',\n",
    "    optimizer = 'adam',\n",
    "    metrics = ['accuracy']\n",
    ")"
   ]
  },
  {
   "cell_type": "code",
   "execution_count": 12,
   "metadata": {},
   "outputs": [
    {
     "name": "stdout",
     "output_type": "stream",
     "text": [
      "Train on 20000 samples, validate on 5000 samples\n",
      "Epoch 1/10\n",
      "20000/20000 [==============================] - 68s 3ms/step - loss: 0.4771 - acc: 0.7669 - val_loss: 0.3997 - val_acc: 0.8180\n",
      "Epoch 2/10\n",
      "20000/20000 [==============================] - 65s 3ms/step - loss: 0.3201 - acc: 0.8669 - val_loss: 0.3830 - val_acc: 0.8278\n",
      "Epoch 3/10\n",
      "20000/20000 [==============================] - 65s 3ms/step - loss: 0.2397 - acc: 0.9048 - val_loss: 0.4225 - val_acc: 0.8146\n",
      "Epoch 4/10\n",
      "20000/20000 [==============================] - 66s 3ms/step - loss: 0.1858 - acc: 0.9297 - val_loss: 0.4425 - val_acc: 0.8214\n",
      "Epoch 5/10\n",
      "20000/20000 [==============================] - 64s 3ms/step - loss: 0.1405 - acc: 0.9467 - val_loss: 0.5331 - val_acc: 0.8276\n",
      "Epoch 6/10\n",
      "20000/20000 [==============================] - 64s 3ms/step - loss: 0.1072 - acc: 0.9599 - val_loss: 0.5959 - val_acc: 0.8140\n",
      "Epoch 7/10\n",
      "20000/20000 [==============================] - 63s 3ms/step - loss: 0.0841 - acc: 0.9708 - val_loss: 0.7253 - val_acc: 0.8104\n",
      "Epoch 8/10\n",
      "20000/20000 [==============================] - 65s 3ms/step - loss: 0.0659 - acc: 0.9763 - val_loss: 0.7658 - val_acc: 0.8142\n",
      "Epoch 9/10\n",
      "20000/20000 [==============================] - 63s 3ms/step - loss: 0.0490 - acc: 0.9843 - val_loss: 0.8818 - val_acc: 0.8054\n",
      "Epoch 10/10\n",
      "20000/20000 [==============================] - 65s 3ms/step - loss: 0.0413 - acc: 0.9864 - val_loss: 0.8398 - val_acc: 0.8078\n"
     ]
    }
   ],
   "source": [
    "history = network.fit(\n",
    "    partial_x_train,\n",
    "    partial_y_train,\n",
    "    epochs = 10,\n",
    "    batch_size = 32,\n",
    "    validation_data=(x_val, y_val),\n",
    ")"
   ]
  },
  {
   "cell_type": "code",
   "execution_count": 13,
   "metadata": {},
   "outputs": [
    {
     "data": {
      "image/png": "[encoded data removed]",
      "text/plain": [
       "<Figure size 432x288 with 1 Axes>"
      ]
     },
     "metadata": {
      "needs_background": "light"
     },
     "output_type": "display_data"
    }
   ],
   "source": [
    "history_dict = history.history\n",
    "loss = history_dict['loss']\n",
    "val_loss = history_dict['val_loss']\n",
    "acc = history_dict['acc']\n",
    "val_acc = history_dict['val_acc']\n",
    "\n",
    "epochs = range(1, len(loss) + 1)\n",
    "plt.clf()\n",
    "plt.plot(epochs, loss, 'bo', label = 'Training loss')\n",
    "plt.plot(epochs, val_loss, 'b', label = 'Validation loss')\n",
    "plt.plot(epochs, acc, 'ro', label = 'Traning acc')\n",
    "plt.plot(epochs, val_acc, 'r', label = 'Validation acc')\n",
    "plt.title('Training and Validation losses and accuracies')\n",
    "plt.xlabel('Epochs')\n",
    "plt.ylabel('Loss and Acc')\n",
    "plt.legend()\n",
    "\n",
    "plt.show()"
   ]
  },
  {
   "cell_type": "code",
   "execution_count": 14,
   "metadata": {},
   "outputs": [
    {
     "name": "stdout",
     "output_type": "stream",
     "text": [
      "25000/25000 [==============================] - 17s 661us/step\n"
     ]
    },
    {
     "data": {
      "text/plain": [
       "[0.8360146981358528, 0.8074]"
      ]
     },
     "execution_count": 14,
     "metadata": {},
     "output_type": "execute_result"
    }
   ],
   "source": [
    "network.evaluate(x_test, y_test)"
   ]
  }
 ],
 "metadata": {
  "kernelspec": {
   "display_name": "Python 3",
   "language": "python",
   "name": "python3"
  },
  "language_info": {
   "codemirror_mode": {
    "name": "ipython",
    "version": 3
   },
   "file_extension": ".py",
   "mimetype": "text/x-python",
   "name": "python",
   "nbconvert_exporter": "python",
   "pygments_lexer": "ipython3",
   "version": "3.6.7"
  }
 },
 "nbformat": 4,
 "nbformat_minor": 2
}
