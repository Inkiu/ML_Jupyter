{
 "cells": [
  {
   "cell_type": "code",
   "execution_count": 1,
   "metadata": {},
   "outputs": [
    {
     "name": "stderr",
     "output_type": "stream",
     "text": [
      "Using TensorFlow backend.\n"
     ]
    }
   ],
   "source": [
    "from keras.datasets import imdb\n",
    "from keras.preprocessing import sequence"
   ]
  },
  {
   "cell_type": "code",
   "execution_count": 2,
   "metadata": {},
   "outputs": [],
   "source": [
    "import matplotlib.pyplot as plt\n",
    "def plot(history):\n",
    "    epoch = range(1, len(history['acc']) + 1)\n",
    "    plt.clf()\n",
    "    plt.plot(epoch, history['acc'], 'bo', label='Training Acc')\n",
    "    plt.plot(epoch, history['loss'], 'b', label='Training Loss')\n",
    "    plt.plot(epoch, history['val_acc'], 'ro', label='Validation Acc')\n",
    "    plt.plot(epoch, history['val_loss'], 'r', label='Validation Loss')\n",
    "    plt.legend()\n",
    "    plt.show()"
   ]
  },
  {
   "cell_type": "code",
   "execution_count": 3,
   "metadata": {},
   "outputs": [],
   "source": [
    "max_features = 10000\n",
    "max_len = 1000\n",
    "\n",
    "(x_train, y_train), (x_test, y_test) = imdb.load_data(num_words=max_features)\n",
    "x_train = sequence.pad_sequences(x_train, maxlen=max_len)\n",
    "x_test = sequence.pad_sequences(x_test, maxlen=max_len)"
   ]
  },
  {
   "cell_type": "code",
   "execution_count": 4,
   "metadata": {},
   "outputs": [
    {
     "data": {
      "text/plain": [
       "(25000, 1000)"
      ]
     },
     "execution_count": 4,
     "metadata": {},
     "output_type": "execute_result"
    }
   ],
   "source": [
    "x_train.shape"
   ]
  },
  {
   "cell_type": "code",
   "execution_count": 5,
   "metadata": {},
   "outputs": [],
   "source": [
    "from keras.models import Sequential\n",
    "from keras.layers import *\n",
    "from keras.optimizers import RMSprop"
   ]
  },
  {
   "cell_type": "code",
   "execution_count": 6,
   "metadata": {},
   "outputs": [
    {
     "name": "stdout",
     "output_type": "stream",
     "text": [
      "_________________________________________________________________\n",
      "Layer (type)                 Output Shape              Param #   \n",
      "=================================================================\n",
      "embedding_1 (Embedding)      (None, 1000, 32)          320000    \n",
      "_________________________________________________________________\n",
      "conv1d_1 (Conv1D)            (None, 994, 32)           7200      \n",
      "_________________________________________________________________\n",
      "max_pooling1d_1 (MaxPooling1 (None, 198, 32)           0         \n",
      "_________________________________________________________________\n",
      "dropout_1 (Dropout)          (None, 198, 32)           0         \n",
      "_________________________________________________________________\n",
      "conv1d_2 (Conv1D)            (None, 192, 32)           7200      \n",
      "_________________________________________________________________\n",
      "global_max_pooling1d_1 (Glob (None, 32)                0         \n",
      "_________________________________________________________________\n",
      "dense_1 (Dense)              (None, 1)                 33        \n",
      "=================================================================\n",
      "Total params: 334,433\n",
      "Trainable params: 334,433\n",
      "Non-trainable params: 0\n",
      "_________________________________________________________________\n"
     ]
    }
   ],
   "source": [
    "model = Sequential()\n",
    "model.add(Embedding(input_dim=max_features, output_dim=32, input_length=max_len))\n",
    "model.add(Conv1D(32, 7, activation='relu'))\n",
    "model.add(MaxPool1D(5))\n",
    "model.add(Dropout(0.5))\n",
    "model.add(Conv1D(32, 7, activation='relu'))\n",
    "model.add(GlobalMaxPool1D())\n",
    "model.add(Dense(1, activation='sigmoid'))\n",
    "\n",
    "model.summary()"
   ]
  },
  {
   "cell_type": "code",
   "execution_count": 7,
   "metadata": {},
   "outputs": [
    {
     "name": "stdout",
     "output_type": "stream",
     "text": [
      "Train on 20000 samples, validate on 5000 samples\n",
      "Epoch 1/20\n",
      "20000/20000 [==============================] - 4s 215us/step - loss: 0.6934 - acc: 0.5059 - val_loss: 0.6931 - val_acc: 0.5062\n",
      "Epoch 2/20\n",
      "20000/20000 [==============================] - 2s 77us/step - loss: 0.6929 - acc: 0.5095 - val_loss: 0.6927 - val_acc: 0.5062\n",
      "Epoch 3/20\n",
      "20000/20000 [==============================] - 2s 76us/step - loss: 0.6925 - acc: 0.5211 - val_loss: 0.6922 - val_acc: 0.5064\n",
      "Epoch 4/20\n",
      "20000/20000 [==============================] - 2s 76us/step - loss: 0.6918 - acc: 0.5382 - val_loss: 0.6913 - val_acc: 0.5068\n",
      "Epoch 5/20\n",
      "20000/20000 [==============================] - 2s 76us/step - loss: 0.6900 - acc: 0.5745 - val_loss: 0.6891 - val_acc: 0.5288\n",
      "Epoch 6/20\n",
      "20000/20000 [==============================] - 2s 76us/step - loss: 0.6864 - acc: 0.6116 - val_loss: 0.6839 - val_acc: 0.5274\n",
      "Epoch 7/20\n",
      "20000/20000 [==============================] - 2s 78us/step - loss: 0.6751 - acc: 0.6875 - val_loss: 0.6671 - val_acc: 0.7210\n",
      "Epoch 8/20\n",
      "20000/20000 [==============================] - 2s 79us/step - loss: 0.6449 - acc: 0.7388 - val_loss: 0.6271 - val_acc: 0.7722\n",
      "Epoch 9/20\n",
      "20000/20000 [==============================] - 2s 77us/step - loss: 0.5837 - acc: 0.7779 - val_loss: 0.5595 - val_acc: 0.7928\n",
      "Epoch 10/20\n",
      "20000/20000 [==============================] - 2s 77us/step - loss: 0.5009 - acc: 0.8118 - val_loss: 0.4768 - val_acc: 0.8230\n",
      "Epoch 11/20\n",
      "20000/20000 [==============================] - 2s 77us/step - loss: 0.4253 - acc: 0.8356 - val_loss: 0.4149 - val_acc: 0.8368\n",
      "Epoch 12/20\n",
      "20000/20000 [==============================] - 2s 77us/step - loss: 0.3735 - acc: 0.8504 - val_loss: 0.3776 - val_acc: 0.8444\n",
      "Epoch 13/20\n",
      "20000/20000 [==============================] - 2s 78us/step - loss: 0.3355 - acc: 0.8669 - val_loss: 0.3533 - val_acc: 0.8514\n",
      "Epoch 14/20\n",
      "20000/20000 [==============================] - 2s 77us/step - loss: 0.3113 - acc: 0.8740 - val_loss: 0.3395 - val_acc: 0.8584\n",
      "Epoch 15/20\n",
      "20000/20000 [==============================] - 2s 77us/step - loss: 0.2903 - acc: 0.8847 - val_loss: 0.3272 - val_acc: 0.8620\n",
      "Epoch 16/20\n",
      "20000/20000 [==============================] - 2s 78us/step - loss: 0.2746 - acc: 0.8896 - val_loss: 0.3213 - val_acc: 0.8636\n",
      "Epoch 17/20\n",
      "20000/20000 [==============================] - 2s 86us/step - loss: 0.2588 - acc: 0.8996 - val_loss: 0.3226 - val_acc: 0.8614\n",
      "Epoch 18/20\n",
      "20000/20000 [==============================] - 2s 78us/step - loss: 0.2488 - acc: 0.9027 - val_loss: 0.3109 - val_acc: 0.8690\n",
      "Epoch 19/20\n",
      "20000/20000 [==============================] - 2s 79us/step - loss: 0.2383 - acc: 0.9050 - val_loss: 0.3098 - val_acc: 0.8678\n",
      "Epoch 20/20\n",
      "20000/20000 [==============================] - 2s 77us/step - loss: 0.2277 - acc: 0.9113 - val_loss: 0.3073 - val_acc: 0.8704\n"
     ]
    }
   ],
   "source": [
    "model.compile(loss='binary_crossentropy', optimizer=RMSprop(lr = 1e-4), metrics=['acc'])\n",
    "history = model.fit(\n",
    "    x_train, y_train,\n",
    "    epochs = 20,\n",
    "    batch_size = 128,\n",
    "    validation_split= 0.2 \n",
    ")"
   ]
  },
  {
   "cell_type": "code",
   "execution_count": 8,
   "metadata": {},
   "outputs": [
    {
     "data": {
      "image/png": "[encoded data removed]",
      "text/plain": [
       "<Figure size 432x288 with 1 Axes>"
      ]
     },
     "metadata": {
      "needs_background": "light"
     },
     "output_type": "display_data"
    }
   ],
   "source": [
    "plot(history.history)"
   ]
  },
  {
   "cell_type": "code",
   "execution_count": 9,
   "metadata": {},
   "outputs": [
    {
     "name": "stdout",
     "output_type": "stream",
     "text": [
      "25000/25000 [==============================] - 1s 53us/step\n"
     ]
    },
    {
     "data": {
      "text/plain": [
       "[0.23049944856643675, 0.9118]"
      ]
     },
     "execution_count": 9,
     "metadata": {},
     "output_type": "execute_result"
    }
   ],
   "source": [
    "model.evaluate(x_train, y_train)"
   ]
  },
  {
   "cell_type": "code",
   "execution_count": 10,
   "metadata": {},
   "outputs": [],
   "source": [
    "import os\n",
    "glove_dir = 'datasets/'\n",
    "\n",
    "embedding_index = {}\n",
    "f = open(os.path.join(glove_dir, 'glove.6B.100D.txt'), encoding='utf8')\n",
    "for line in f:\n",
    "    values = line.split()\n",
    "    word = values[0]\n",
    "    coefs = np.asarray(values[1:], dtype='float32')\n",
    "    embedding_index[word] = coefs\n",
    "f.close()\n",
    "\n",
    "embedding_dim = 100"
   ]
  },
  {
   "cell_type": "code",
   "execution_count": 11,
   "metadata": {},
   "outputs": [],
   "source": [
    "embedding_matrix = np.zeros((max_features, embedding_dim))\n",
    "word_index = imdb.get_word_index()\n",
    "for word, i in word_index.items():\n",
    "    if i < max_features:\n",
    "        embedding_vector = embedding_index.get(word)\n",
    "        if embedding_vector is not None:\n",
    "            embedding_matrix[i] = embedding_vector"
   ]
  },
  {
   "cell_type": "code",
   "execution_count": 16,
   "metadata": {},
   "outputs": [
    {
     "name": "stdout",
     "output_type": "stream",
     "text": [
      "_________________________________________________________________\n",
      "Layer (type)                 Output Shape              Param #   \n",
      "=================================================================\n",
      "embedding_4 (Embedding)      (None, 1000, 100)         1000000   \n",
      "_________________________________________________________________\n",
      "conv1d_7 (Conv1D)            (None, 994, 32)           22432     \n",
      "_________________________________________________________________\n",
      "max_pooling1d_4 (MaxPooling1 (None, 198, 32)           0         \n",
      "_________________________________________________________________\n",
      "dropout_4 (Dropout)          (None, 198, 32)           0         \n",
      "_________________________________________________________________\n",
      "conv1d_8 (Conv1D)            (None, 192, 32)           7200      \n",
      "_________________________________________________________________\n",
      "global_max_pooling1d_4 (Glob (None, 32)                0         \n",
      "_________________________________________________________________\n",
      "dense_4 (Dense)              (None, 1)                 33        \n",
      "=================================================================\n",
      "Total params: 1,029,665\n",
      "Trainable params: 29,665\n",
      "Non-trainable params: 1,000,000\n",
      "_________________________________________________________________\n"
     ]
    }
   ],
   "source": [
    "model = Sequential()\n",
    "model.add(Embedding(input_dim=max_features, output_dim=100, input_length=max_len))\n",
    "model.add(Conv1D(32, 7, activation='relu'))\n",
    "model.add(MaxPool1D(5))\n",
    "model.add(Dropout(0.5))\n",
    "model.add(Conv1D(32, 7, activation='relu'))\n",
    "model.add(GlobalMaxPool1D())\n",
    "model.add(Dense(1, activation='sigmoid'))\n",
    "\n",
    "\n",
    "model.layers[0].set_weights([embedding_matrix])\n",
    "model.layers[0].trainable = False\n",
    "model.summary()\n",
    "model.save_weights('tmp.h5')"
   ]
  },
  {
   "cell_type": "code",
   "execution_count": 20,
   "metadata": {},
   "outputs": [
    {
     "name": "stdout",
     "output_type": "stream",
     "text": [
      "Train on 20000 samples, validate on 5000 samples\n",
      "Epoch 1/100\n",
      "20000/20000 [==============================] - 2s 102us/step - loss: 0.7177 - acc: 0.5004 - val_loss: 0.7052 - val_acc: 0.4990\n",
      "Epoch 2/100\n",
      "20000/20000 [==============================] - 2s 78us/step - loss: 0.7028 - acc: 0.5115 - val_loss: 0.6901 - val_acc: 0.5316\n",
      "Epoch 3/100\n",
      "20000/20000 [==============================] - 2s 78us/step - loss: 0.6964 - acc: 0.5238 - val_loss: 0.6901 - val_acc: 0.5242\n",
      "Epoch 4/100\n",
      "20000/20000 [==============================] - 2s 78us/step - loss: 0.6925 - acc: 0.5306 - val_loss: 0.6896 - val_acc: 0.5292\n",
      "Epoch 5/100\n",
      "20000/20000 [==============================] - 2s 78us/step - loss: 0.6851 - acc: 0.5464 - val_loss: 0.6971 - val_acc: 0.5058\n",
      "Epoch 6/100\n",
      "20000/20000 [==============================] - 2s 79us/step - loss: 0.6827 - acc: 0.5598 - val_loss: 0.6826 - val_acc: 0.5530\n",
      "Epoch 7/100\n",
      "20000/20000 [==============================] - 2s 78us/step - loss: 0.6801 - acc: 0.5661 - val_loss: 0.6787 - val_acc: 0.5668\n",
      "Epoch 8/100\n",
      "20000/20000 [==============================] - 2s 78us/step - loss: 0.6755 - acc: 0.5747 - val_loss: 0.6813 - val_acc: 0.5478\n",
      "Epoch 9/100\n",
      "20000/20000 [==============================] - 2s 78us/step - loss: 0.6718 - acc: 0.5802 - val_loss: 0.6884 - val_acc: 0.5342\n",
      "Epoch 10/100\n",
      "20000/20000 [==============================] - 2s 78us/step - loss: 0.6695 - acc: 0.5929 - val_loss: 0.6773 - val_acc: 0.5636\n",
      "Epoch 11/100\n",
      "20000/20000 [==============================] - 2s 80us/step - loss: 0.6653 - acc: 0.5972 - val_loss: 0.6656 - val_acc: 0.5942\n",
      "Epoch 12/100\n",
      "20000/20000 [==============================] - 2s 86us/step - loss: 0.6627 - acc: 0.6019 - val_loss: 0.6637 - val_acc: 0.5932\n",
      "Epoch 13/100\n",
      "20000/20000 [==============================] - 2s 79us/step - loss: 0.6586 - acc: 0.6080 - val_loss: 0.6563 - val_acc: 0.6220\n",
      "Epoch 14/100\n",
      "20000/20000 [==============================] - 2s 79us/step - loss: 0.6556 - acc: 0.6149 - val_loss: 0.6623 - val_acc: 0.5972\n",
      "Epoch 15/100\n",
      "20000/20000 [==============================] - 2s 89us/step - loss: 0.6500 - acc: 0.6205 - val_loss: 0.6603 - val_acc: 0.5968\n",
      "Epoch 16/100\n",
      "20000/20000 [==============================] - 2s 79us/step - loss: 0.6478 - acc: 0.6214 - val_loss: 0.6496 - val_acc: 0.6160\n",
      "Epoch 17/100\n",
      "20000/20000 [==============================] - 2s 82us/step - loss: 0.6447 - acc: 0.6293 - val_loss: 0.6801 - val_acc: 0.5582\n",
      "Epoch 18/100\n",
      "20000/20000 [==============================] - 2s 81us/step - loss: 0.6419 - acc: 0.6313 - val_loss: 0.6449 - val_acc: 0.6250\n",
      "Epoch 19/100\n",
      "20000/20000 [==============================] - 2s 78us/step - loss: 0.6375 - acc: 0.6344 - val_loss: 0.6389 - val_acc: 0.6426\n",
      "Epoch 20/100\n",
      "20000/20000 [==============================] - 2s 77us/step - loss: 0.6358 - acc: 0.6415 - val_loss: 0.6427 - val_acc: 0.6260\n",
      "Epoch 21/100\n",
      "20000/20000 [==============================] - 2s 79us/step - loss: 0.6313 - acc: 0.6454 - val_loss: 0.6919 - val_acc: 0.5538\n",
      "Epoch 22/100\n",
      "20000/20000 [==============================] - 2s 77us/step - loss: 0.6285 - acc: 0.6483 - val_loss: 0.6612 - val_acc: 0.5896\n",
      "Epoch 23/100\n",
      "20000/20000 [==============================] - 2s 78us/step - loss: 0.6271 - acc: 0.6466 - val_loss: 0.6261 - val_acc: 0.6598\n",
      "Epoch 24/100\n",
      "20000/20000 [==============================] - 2s 78us/step - loss: 0.6230 - acc: 0.6549 - val_loss: 0.6247 - val_acc: 0.6626\n",
      "Epoch 25/100\n",
      "20000/20000 [==============================] - 2s 78us/step - loss: 0.6213 - acc: 0.6566 - val_loss: 0.6352 - val_acc: 0.6288\n",
      "Epoch 26/100\n",
      "20000/20000 [==============================] - 2s 78us/step - loss: 0.6164 - acc: 0.6637 - val_loss: 0.6196 - val_acc: 0.6694\n",
      "Epoch 27/100\n",
      "20000/20000 [==============================] - 2s 78us/step - loss: 0.6167 - acc: 0.6631 - val_loss: 0.6169 - val_acc: 0.6688\n",
      "Epoch 28/100\n",
      "20000/20000 [==============================] - 2s 78us/step - loss: 0.6139 - acc: 0.6608 - val_loss: 0.6152 - val_acc: 0.6674\n",
      "Epoch 29/100\n",
      "20000/20000 [==============================] - 2s 82us/step - loss: 0.6084 - acc: 0.6716 - val_loss: 0.6192 - val_acc: 0.6602\n",
      "Epoch 30/100\n",
      "20000/20000 [==============================] - 2s 80us/step - loss: 0.6061 - acc: 0.6735 - val_loss: 0.6212 - val_acc: 0.6524\n",
      "Epoch 31/100\n",
      "20000/20000 [==============================] - 2s 81us/step - loss: 0.6020 - acc: 0.6748 - val_loss: 0.6064 - val_acc: 0.6838\n",
      "Epoch 32/100\n",
      "20000/20000 [==============================] - 2s 78us/step - loss: 0.6006 - acc: 0.6786 - val_loss: 0.6259 - val_acc: 0.6400\n",
      "Epoch 33/100\n",
      "20000/20000 [==============================] - 2s 78us/step - loss: 0.5941 - acc: 0.6832 - val_loss: 0.6070 - val_acc: 0.6708\n",
      "Epoch 34/100\n",
      "20000/20000 [==============================] - 2s 78us/step - loss: 0.5916 - acc: 0.6865 - val_loss: 0.6001 - val_acc: 0.6854\n",
      "Epoch 35/100\n",
      "20000/20000 [==============================] - 2s 79us/step - loss: 0.5894 - acc: 0.6912 - val_loss: 0.6185 - val_acc: 0.6490\n",
      "Epoch 36/100\n",
      "20000/20000 [==============================] - 2s 82us/step - loss: 0.5855 - acc: 0.6936 - val_loss: 0.6131 - val_acc: 0.6542\n",
      "Epoch 37/100\n",
      "20000/20000 [==============================] - 2s 79us/step - loss: 0.5856 - acc: 0.6934 - val_loss: 0.6376 - val_acc: 0.6222\n",
      "Epoch 38/100\n",
      "20000/20000 [==============================] - 2s 81us/step - loss: 0.5822 - acc: 0.6916 - val_loss: 0.6167 - val_acc: 0.6486\n",
      "Epoch 39/100\n",
      "20000/20000 [==============================] - 2s 79us/step - loss: 0.5804 - acc: 0.6935 - val_loss: 0.5886 - val_acc: 0.7004\n",
      "Epoch 40/100\n",
      "20000/20000 [==============================] - 2s 80us/step - loss: 0.5750 - acc: 0.7015 - val_loss: 0.5872 - val_acc: 0.6996\n",
      "Epoch 41/100\n",
      "20000/20000 [==============================] - 2s 101us/step - loss: 0.5737 - acc: 0.7008 - val_loss: 0.5949 - val_acc: 0.6804\n",
      "Epoch 42/100\n",
      "20000/20000 [==============================] - 2s 85us/step - loss: 0.5735 - acc: 0.6991 - val_loss: 0.6004 - val_acc: 0.6698\n",
      "Epoch 43/100\n",
      "20000/20000 [==============================] - 2s 85us/step - loss: 0.5680 - acc: 0.7048 - val_loss: 0.5811 - val_acc: 0.7028\n",
      "Epoch 44/100\n",
      "20000/20000 [==============================] - 2s 88us/step - loss: 0.5657 - acc: 0.7061 - val_loss: 0.5867 - val_acc: 0.6890\n",
      "Epoch 45/100\n",
      "20000/20000 [==============================] - 2s 84us/step - loss: 0.5623 - acc: 0.7109 - val_loss: 0.5804 - val_acc: 0.7036\n",
      "Epoch 46/100\n",
      "20000/20000 [==============================] - 2s 87us/step - loss: 0.5593 - acc: 0.7144 - val_loss: 0.5970 - val_acc: 0.6738\n",
      "Epoch 47/100\n",
      "20000/20000 [==============================] - 2s 88us/step - loss: 0.5561 - acc: 0.7188 - val_loss: 0.5710 - val_acc: 0.7140\n",
      "Epoch 48/100\n",
      "20000/20000 [==============================] - 2s 81us/step - loss: 0.5577 - acc: 0.7131 - val_loss: 0.5693 - val_acc: 0.7136\n",
      "Epoch 49/100\n",
      "20000/20000 [==============================] - 2s 87us/step - loss: 0.5539 - acc: 0.7158 - val_loss: 0.5992 - val_acc: 0.6676\n",
      "Epoch 50/100\n",
      "20000/20000 [==============================] - 2s 88us/step - loss: 0.5461 - acc: 0.7244 - val_loss: 0.5987 - val_acc: 0.6672\n",
      "Epoch 51/100\n",
      "20000/20000 [==============================] - 2s 82us/step - loss: 0.5443 - acc: 0.7274 - val_loss: 0.5643 - val_acc: 0.7158\n",
      "Epoch 52/100\n",
      "20000/20000 [==============================] - 2s 77us/step - loss: 0.5469 - acc: 0.7253 - val_loss: 0.5733 - val_acc: 0.7042\n",
      "Epoch 53/100\n",
      "20000/20000 [==============================] - 2s 77us/step - loss: 0.5431 - acc: 0.7280 - val_loss: 0.6352 - val_acc: 0.6308\n",
      "Epoch 54/100\n",
      "20000/20000 [==============================] - 2s 78us/step - loss: 0.5426 - acc: 0.7280 - val_loss: 0.5733 - val_acc: 0.6996\n",
      "Epoch 55/100\n",
      "20000/20000 [==============================] - 2s 78us/step - loss: 0.5355 - acc: 0.7318 - val_loss: 0.5900 - val_acc: 0.6790\n",
      "Epoch 56/100\n",
      "20000/20000 [==============================] - 2s 78us/step - loss: 0.5304 - acc: 0.7398 - val_loss: 0.5551 - val_acc: 0.7290\n",
      "Epoch 57/100\n",
      "20000/20000 [==============================] - 2s 77us/step - loss: 0.5319 - acc: 0.7352 - val_loss: 0.5778 - val_acc: 0.6908\n",
      "Epoch 58/100\n",
      "20000/20000 [==============================] - 2s 78us/step - loss: 0.5280 - acc: 0.7385 - val_loss: 0.5510 - val_acc: 0.7320\n",
      "Epoch 59/100\n"
     ]
    },
    {
     "name": "stdout",
     "output_type": "stream",
     "text": [
      "20000/20000 [==============================] - 2s 76us/step - loss: 0.5272 - acc: 0.7396 - val_loss: 0.5615 - val_acc: 0.7122\n",
      "Epoch 60/100\n",
      "20000/20000 [==============================] - 2s 76us/step - loss: 0.5261 - acc: 0.7421 - val_loss: 0.5475 - val_acc: 0.7342\n",
      "Epoch 61/100\n",
      "20000/20000 [==============================] - 2s 76us/step - loss: 0.5248 - acc: 0.7419 - val_loss: 0.5509 - val_acc: 0.7274\n",
      "Epoch 62/100\n",
      "20000/20000 [==============================] - 2s 77us/step - loss: 0.5223 - acc: 0.7436 - val_loss: 0.5534 - val_acc: 0.7256\n",
      "Epoch 63/100\n",
      "20000/20000 [==============================] - 2s 76us/step - loss: 0.5183 - acc: 0.7442 - val_loss: 0.5451 - val_acc: 0.7346\n",
      "Epoch 64/100\n",
      "20000/20000 [==============================] - 2s 78us/step - loss: 0.5160 - acc: 0.7436 - val_loss: 0.5595 - val_acc: 0.7098\n",
      "Epoch 65/100\n",
      "20000/20000 [==============================] - 2s 76us/step - loss: 0.5154 - acc: 0.7513 - val_loss: 0.5419 - val_acc: 0.7374\n",
      "Epoch 66/100\n",
      "20000/20000 [==============================] - 2s 75us/step - loss: 0.5139 - acc: 0.7516 - val_loss: 0.5435 - val_acc: 0.7392\n",
      "Epoch 67/100\n",
      "20000/20000 [==============================] - 2s 76us/step - loss: 0.5088 - acc: 0.7545 - val_loss: 0.5375 - val_acc: 0.7396\n",
      "Epoch 68/100\n",
      "20000/20000 [==============================] - 2s 75us/step - loss: 0.5120 - acc: 0.7453 - val_loss: 0.5343 - val_acc: 0.7446\n",
      "Epoch 69/100\n",
      "20000/20000 [==============================] - 2s 76us/step - loss: 0.5075 - acc: 0.7516 - val_loss: 0.5514 - val_acc: 0.7208\n",
      "Epoch 70/100\n",
      "20000/20000 [==============================] - 2s 76us/step - loss: 0.5034 - acc: 0.7522 - val_loss: 0.5526 - val_acc: 0.7178\n",
      "Epoch 71/100\n",
      "20000/20000 [==============================] - 2s 75us/step - loss: 0.5016 - acc: 0.7545 - val_loss: 0.5867 - val_acc: 0.6784\n",
      "Epoch 72/100\n",
      "20000/20000 [==============================] - 2s 76us/step - loss: 0.4995 - acc: 0.7566 - val_loss: 0.5357 - val_acc: 0.7348\n",
      "Epoch 73/100\n",
      "20000/20000 [==============================] - 2s 80us/step - loss: 0.4967 - acc: 0.7616 - val_loss: 0.5887 - val_acc: 0.6760\n",
      "Epoch 74/100\n",
      "20000/20000 [==============================] - 2s 76us/step - loss: 0.4989 - acc: 0.7556 - val_loss: 0.6101 - val_acc: 0.6570\n",
      "Epoch 75/100\n",
      "20000/20000 [==============================] - 2s 78us/step - loss: 0.4955 - acc: 0.7595 - val_loss: 0.5372 - val_acc: 0.7330\n",
      "Epoch 76/100\n",
      "20000/20000 [==============================] - 2s 78us/step - loss: 0.4890 - acc: 0.7638 - val_loss: 0.5251 - val_acc: 0.7474\n",
      "Epoch 77/100\n",
      "20000/20000 [==============================] - 2s 76us/step - loss: 0.4916 - acc: 0.7654 - val_loss: 0.5214 - val_acc: 0.7544\n",
      "Epoch 78/100\n",
      "20000/20000 [==============================] - 2s 77us/step - loss: 0.4914 - acc: 0.7622 - val_loss: 0.5670 - val_acc: 0.6946\n",
      "Epoch 79/100\n",
      "20000/20000 [==============================] - 2s 76us/step - loss: 0.4875 - acc: 0.7676 - val_loss: 0.5204 - val_acc: 0.7572\n",
      "Epoch 80/100\n",
      "20000/20000 [==============================] - 2s 76us/step - loss: 0.4861 - acc: 0.7690 - val_loss: 0.5185 - val_acc: 0.7536\n",
      "Epoch 81/100\n",
      "20000/20000 [==============================] - 2s 77us/step - loss: 0.4826 - acc: 0.7674 - val_loss: 0.5244 - val_acc: 0.7488\n",
      "Epoch 82/100\n",
      "20000/20000 [==============================] - 2s 82us/step - loss: 0.4804 - acc: 0.7731 - val_loss: 0.5177 - val_acc: 0.7596\n",
      "Epoch 83/100\n",
      "20000/20000 [==============================] - 2s 76us/step - loss: 0.4793 - acc: 0.7726 - val_loss: 0.5163 - val_acc: 0.7620\n",
      "Epoch 84/100\n",
      "20000/20000 [==============================] - 2s 77us/step - loss: 0.4775 - acc: 0.7720 - val_loss: 0.5231 - val_acc: 0.7466\n",
      "Epoch 85/100\n",
      "20000/20000 [==============================] - 2s 79us/step - loss: 0.4777 - acc: 0.7704 - val_loss: 0.5348 - val_acc: 0.7274\n",
      "Epoch 86/100\n",
      "20000/20000 [==============================] - 2s 78us/step - loss: 0.4712 - acc: 0.7790 - val_loss: 0.6200 - val_acc: 0.6552\n",
      "Epoch 87/100\n",
      "20000/20000 [==============================] - 2s 80us/step - loss: 0.4731 - acc: 0.7768 - val_loss: 0.5122 - val_acc: 0.7564\n",
      "Epoch 88/100\n",
      "20000/20000 [==============================] - 2s 77us/step - loss: 0.4712 - acc: 0.7776 - val_loss: 0.6398 - val_acc: 0.6448\n",
      "Epoch 89/100\n",
      "20000/20000 [==============================] - 2s 76us/step - loss: 0.4692 - acc: 0.7765 - val_loss: 0.5215 - val_acc: 0.7468\n",
      "Epoch 90/100\n",
      "20000/20000 [==============================] - 2s 76us/step - loss: 0.4644 - acc: 0.7803 - val_loss: 0.5118 - val_acc: 0.7636\n",
      "Epoch 91/100\n",
      "20000/20000 [==============================] - 2s 82us/step - loss: 0.4660 - acc: 0.7758 - val_loss: 0.5103 - val_acc: 0.7662\n",
      "Epoch 92/100\n",
      "20000/20000 [==============================] - 2s 76us/step - loss: 0.4651 - acc: 0.7813 - val_loss: 0.5073 - val_acc: 0.7612\n",
      "Epoch 93/100\n",
      "20000/20000 [==============================] - 2s 77us/step - loss: 0.4615 - acc: 0.7846 - val_loss: 0.5106 - val_acc: 0.7620\n",
      "Epoch 94/100\n",
      "20000/20000 [==============================] - 2s 76us/step - loss: 0.4593 - acc: 0.7829 - val_loss: 0.5679 - val_acc: 0.6962\n",
      "Epoch 95/100\n",
      "20000/20000 [==============================] - 2s 76us/step - loss: 0.4594 - acc: 0.7853 - val_loss: 0.5692 - val_acc: 0.6904\n",
      "Epoch 96/100\n",
      "20000/20000 [==============================] - 2s 76us/step - loss: 0.4600 - acc: 0.7847 - val_loss: 0.5023 - val_acc: 0.7674\n",
      "Epoch 97/100\n",
      "20000/20000 [==============================] - 2s 77us/step - loss: 0.4551 - acc: 0.7892 - val_loss: 0.5020 - val_acc: 0.7680\n",
      "Epoch 98/100\n",
      "20000/20000 [==============================] - 2s 76us/step - loss: 0.4554 - acc: 0.7844 - val_loss: 0.5120 - val_acc: 0.7500\n",
      "Epoch 99/100\n",
      "20000/20000 [==============================] - 2s 76us/step - loss: 0.4539 - acc: 0.7865 - val_loss: 0.5027 - val_acc: 0.7638\n",
      "Epoch 100/100\n",
      "20000/20000 [==============================] - 2s 76us/step - loss: 0.4483 - acc: 0.7894 - val_loss: 0.5491 - val_acc: 0.7108\n"
     ]
    }
   ],
   "source": [
    "model.load_weights(\"tmp.h5\")\n",
    "model.compile(loss='binary_crossentropy', optimizer=RMSprop(lr = 1e-4), metrics=['acc'])\n",
    "history01 = model.fit(\n",
    "    x_train, y_train,\n",
    "    epochs = 100,\n",
    "    batch_size = 128,\n",
    "    validation_split= 0.2 \n",
    ")"
   ]
  },
  {
   "cell_type": "code",
   "execution_count": 26,
   "metadata": {},
   "outputs": [
    {
     "data": {
      "image/png": "[encoded data removed]",
      "text/plain": [
       "<Figure size 432x288 with 1 Axes>"
      ]
     },
     "metadata": {
      "needs_background": "light"
     },
     "output_type": "display_data"
    }
   ],
   "source": [
    "plot(history.history)"
   ]
  },
  {
   "cell_type": "code",
   "execution_count": 25,
   "metadata": {},
   "outputs": [
    {
     "data": {
      "image/png": "[encoded data removed]",
      "text/plain": [
       "<Figure size 432x288 with 1 Axes>"
      ]
     },
     "metadata": {
      "needs_background": "light"
     },
     "output_type": "display_data"
    }
   ],
   "source": [
    "plot(history01.history)"
   ]
  },
  {
   "cell_type": "code",
   "execution_count": 27,
   "metadata": {},
   "outputs": [
    {
     "name": "stdout",
     "output_type": "stream",
     "text": [
      "25000/25000 [==============================] - 2s 68us/step\n"
     ]
    },
    {
     "data": {
      "text/plain": [
       "[0.5629466998672485, 0.70588]"
      ]
     },
     "execution_count": 27,
     "metadata": {},
     "output_type": "execute_result"
    }
   ],
   "source": [
    "model.evaluate(x_test, y_test)"
   ]
  }
 ],
 "metadata": {
  "kernelspec": {
   "display_name": "Python 3",
   "language": "python",
   "name": "python3"
  },
  "language_info": {
   "codemirror_mode": {
    "name": "ipython",
    "version": 3
   },
   "file_extension": ".py",
   "mimetype": "text/x-python",
   "name": "python",
   "nbconvert_exporter": "python",
   "pygments_lexer": "ipython3",
   "version": "3.6.7"
  }
 },
 "nbformat": 4,
 "nbformat_minor": 2
}
