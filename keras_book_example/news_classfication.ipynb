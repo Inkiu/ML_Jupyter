{
 "cells": [
  {
   "cell_type": "code",
   "execution_count": 1,
   "metadata": {},
   "outputs": [
    {
     "name": "stderr",
     "output_type": "stream",
     "text": [
      "Using TensorFlow backend.\n"
     ]
    }
   ],
   "source": [
    "from keras.datasets import reuters\n",
    "from keras.models import *\n",
    "from keras.layers import *\n",
    "import matplotlib.pyplot as plt\n",
    "import numpy as np"
   ]
  },
  {
   "cell_type": "code",
   "execution_count": 2,
   "metadata": {},
   "outputs": [],
   "source": [
    "word_dim = 10000\n",
    "label_dim = 46"
   ]
  },
  {
   "cell_type": "code",
   "execution_count": 3,
   "metadata": {},
   "outputs": [],
   "source": [
    "def vectorize_sequences(sequences, dimension):\n",
    "    results = np.zeros((len(sequences), dimension))\n",
    "    for i, sequence in enumerate(sequences):\n",
    "        results[i, sequence] = 1.\n",
    "    return results"
   ]
  },
  {
   "cell_type": "code",
   "execution_count": 4,
   "metadata": {},
   "outputs": [],
   "source": [
    "def to_one_hot(labels, dimension):\n",
    "    results = np.zeros((len(labels), dimension))\n",
    "    for i, label in enumerate(labels):\n",
    "        results[i, label] = 1.\n",
    "    return results"
   ]
  },
  {
   "cell_type": "code",
   "execution_count": 5,
   "metadata": {},
   "outputs": [
    {
     "name": "stdout",
     "output_type": "stream",
     "text": [
      "(8982, 10000) 8982 (8982,) 8982\n",
      "(2246, 10000) 2246 (2246,) 2246\n"
     ]
    }
   ],
   "source": [
    "(x_train, y_train), (x_test, y_test) = reuters.load_data(num_words=word_dim)\n",
    "x_train = vectorize_sequences(x_train, word_dim)\n",
    "# y_train = to_one_hot(y_train, label_dim)\n",
    "y_train = np.array(y_train)\n",
    "x_test = vectorize_sequences(x_test, word_dim)\n",
    "# y_test = to_one_hot(y_test, label_dim)\n",
    "y_test = np.array(y_test)\n",
    "print(x_train.shape, len(x_train), y_train.shape, len(y_train))\n",
    "print(x_test.shape, len(x_test), y_test.shape, len(y_test))"
   ]
  },
  {
   "cell_type": "code",
   "execution_count": 6,
   "metadata": {},
   "outputs": [],
   "source": [
    "network = Sequential()\n",
    "network.add(Dense(128, activation='relu', input_shape = (word_dim,)))\n",
    "\n",
    "network.add(Dense(label_dim, activation='softmax'))"
   ]
  },
  {
   "cell_type": "code",
   "execution_count": 7,
   "metadata": {},
   "outputs": [],
   "source": [
    "network.compile(\n",
    "    loss = 'sparse_categorical_crossentropy',\n",
    "    optimizer = 'rmsprop',\n",
    "    metrics = ['acc']\n",
    ")"
   ]
  },
  {
   "cell_type": "code",
   "execution_count": 8,
   "metadata": {},
   "outputs": [
    {
     "name": "stdout",
     "output_type": "stream",
     "text": [
      "Train on 7982 samples, validate on 1000 samples\n",
      "Epoch 1/9\n",
      "7982/7982 [==============================] - 2s 236us/step - loss: 2.2761 - acc: 0.5893 - val_loss: 1.4968 - val_acc: 0.7000\n",
      "Epoch 2/9\n",
      "7982/7982 [==============================] - 2s 195us/step - loss: 1.1695 - acc: 0.7662 - val_loss: 1.1318 - val_acc: 0.7580\n",
      "Epoch 3/9\n",
      "7982/7982 [==============================] - 2s 195us/step - loss: 0.8077 - acc: 0.8376 - val_loss: 0.9699 - val_acc: 0.7980\n",
      "Epoch 4/9\n",
      "7982/7982 [==============================] - 2s 194us/step - loss: 0.5918 - acc: 0.8845 - val_loss: 0.8831 - val_acc: 0.8180\n",
      "Epoch 5/9\n",
      "7982/7982 [==============================] - 2s 194us/step - loss: 0.4490 - acc: 0.9113 - val_loss: 0.8302 - val_acc: 0.8300\n",
      "Epoch 6/9\n",
      "7982/7982 [==============================] - 2s 196us/step - loss: 0.3471 - acc: 0.9313 - val_loss: 0.8308 - val_acc: 0.8220\n",
      "Epoch 7/9\n",
      "7982/7982 [==============================] - 2s 196us/step - loss: 0.2805 - acc: 0.9401 - val_loss: 0.8148 - val_acc: 0.8250\n",
      "Epoch 8/9\n",
      "7982/7982 [==============================] - 2s 195us/step - loss: 0.2283 - acc: 0.9470 - val_loss: 0.8135 - val_acc: 0.8230\n",
      "Epoch 9/9\n",
      "7982/7982 [==============================] - 2s 196us/step - loss: 0.1929 - acc: 0.9514 - val_loss: 0.8119 - val_acc: 0.8290\n"
     ]
    }
   ],
   "source": [
    "history = network.fit(\n",
    "    x_train[1000:], y_train[1000:],\n",
    "    epochs = 9,\n",
    "    batch_size = 512,\n",
    "    validation_data=(x_train[:1000], y_train[:1000])\n",
    ")"
   ]
  },
  {
   "cell_type": "code",
   "execution_count": 9,
   "metadata": {},
   "outputs": [
    {
     "data": {
      "image/png": "[encoded data removed]",
      "text/plain": [
       "<Figure size 432x288 with 1 Axes>"
      ]
     },
     "metadata": {
      "needs_background": "light"
     },
     "output_type": "display_data"
    }
   ],
   "source": [
    "history_dict = history.history\n",
    "loss = history_dict['loss']\n",
    "val_loss = history_dict['val_loss']\n",
    "acc = history_dict['acc']\n",
    "val_acc = history_dict['val_acc']\n",
    "\n",
    "epochs = range(1, len(loss) + 1)\n",
    "plt.clf()\n",
    "plt.plot(epochs, loss, 'bo', label = 'Training loss')\n",
    "plt.plot(epochs, val_loss, 'b', label = 'Validation loss')\n",
    "plt.plot(epochs, acc, 'ro', label = 'Traning acc')\n",
    "plt.plot(epochs, val_acc, 'r', label = 'Validation acc')\n",
    "plt.title('Training and Validation losses and accuracies')\n",
    "plt.xlabel('Epochs')\n",
    "plt.ylabel('Loss and Acc')\n",
    "plt.legend()\n",
    "\n",
    "plt.show()"
   ]
  },
  {
   "cell_type": "code",
   "execution_count": 10,
   "metadata": {},
   "outputs": [
    {
     "name": "stdout",
     "output_type": "stream",
     "text": [
      "2246/2246 [==============================] - 0s 170us/step\n"
     ]
    },
    {
     "data": {
      "text/plain": [
       "[0.9295960712517783, 0.798753339269813]"
      ]
     },
     "execution_count": 10,
     "metadata": {},
     "output_type": "execute_result"
    }
   ],
   "source": [
    "network.evaluate(x_test, y_test)"
   ]
  },
  {
   "cell_type": "code",
   "execution_count": 11,
   "metadata": {},
   "outputs": [
    {
     "data": {
      "text/plain": [
       "3"
      ]
     },
     "execution_count": 11,
     "metadata": {},
     "output_type": "execute_result"
    }
   ],
   "source": [
    "predictions = network.predict(x_test)\n",
    "np.argmax(predictions[0])"
   ]
  }
 ],
 "metadata": {
  "kernelspec": {
   "display_name": "Python 3",
   "language": "python",
   "name": "python3"
  },
  "language_info": {
   "codemirror_mode": {
    "name": "ipython",
    "version": 3
   },
   "file_extension": ".py",
   "mimetype": "text/x-python",
   "name": "python",
   "nbconvert_exporter": "python",
   "pygments_lexer": "ipython3",
   "version": "3.6.7"
  }
 },
 "nbformat": 4,
 "nbformat_minor": 2
}
