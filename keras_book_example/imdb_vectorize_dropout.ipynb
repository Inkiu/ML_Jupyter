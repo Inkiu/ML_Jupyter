{
 "cells": [
  {
   "cell_type": "code",
   "execution_count": 1,
   "metadata": {},
   "outputs": [
    {
     "name": "stderr",
     "output_type": "stream",
     "text": [
      "Using TensorFlow backend.\n"
     ]
    }
   ],
   "source": [
    "from keras.datasets import imdb\n",
    "from keras import models\n",
    "from keras import layers\n",
    "from keras import regularizers\n",
    "import matplotlib.pyplot as plt\n",
    "import numpy as np"
   ]
  },
  {
   "cell_type": "code",
   "execution_count": 2,
   "metadata": {},
   "outputs": [],
   "source": [
    "epoch = 50"
   ]
  },
  {
   "cell_type": "code",
   "execution_count": 3,
   "metadata": {},
   "outputs": [],
   "source": [
    "(x_train, y_train), (x_test, y_test) = imdb.load_data(num_words=10000)"
   ]
  },
  {
   "cell_type": "code",
   "execution_count": 4,
   "metadata": {},
   "outputs": [
    {
     "data": {
      "text/plain": [
       "\" ?  this has to be one of the worst films of the 1990s when my friends i were watching this film being the target audience it was aimed at we just sat watched the first half an hour with our jaws touching the floor at how bad it really was the rest of the time everyone else in the theatre just started talking to each other leaving or generally crying into their popcorn that they actually paid money they had  ?  working to watch this feeble excuse for a film it must have looked like a great idea on paper but on film it looks like no one in the film has a clue what is going on crap acting crap costumes i can't get across how  ?  this is to watch save yourself an hour a bit of your life\""
      ]
     },
     "execution_count": 4,
     "metadata": {},
     "output_type": "execute_result"
    }
   ],
   "source": [
    "word_index = imdb.get_word_index()\n",
    "reversed_word_index = dict([(v, k) for (k, v) in word_index.items()])\n",
    "decoded_review = ' '.join([reversed_word_index.get(i - 3, ' ? ') for i in x_train[2]])\n",
    "decoded_review"
   ]
  },
  {
   "cell_type": "code",
   "execution_count": 5,
   "metadata": {},
   "outputs": [],
   "source": [
    "def vectorize_sequences(sequences, dimension = 10000):\n",
    "    results = np.zeros((len(sequences), dimension))\n",
    "    for i, sequence in enumerate(sequences):\n",
    "        results[i, sequence] = 1.\n",
    "    return results"
   ]
  },
  {
   "cell_type": "code",
   "execution_count": 6,
   "metadata": {},
   "outputs": [],
   "source": [
    "x_train = vectorize_sequences(x_train)\n",
    "x_test = vectorize_sequences(x_test)"
   ]
  },
  {
   "cell_type": "code",
   "execution_count": 7,
   "metadata": {},
   "outputs": [],
   "source": [
    "y_train = np.asarray(y_train).astype('float32')\n",
    "y_test = np.asarray(y_test).astype('float32')"
   ]
  },
  {
   "cell_type": "code",
   "execution_count": 8,
   "metadata": {},
   "outputs": [],
   "source": [
    "x_val = x_train[:5000]\n",
    "partial_x_train = x_train[5000:]\n",
    "y_val = y_train[:5000]\n",
    "partial_y_train = y_train[5000:]"
   ]
  },
  {
   "cell_type": "code",
   "execution_count": 14,
   "metadata": {},
   "outputs": [],
   "source": [
    "def build_model(input_sh, dropout = 0.0):\n",
    "    network = models.Sequential()\n",
    "    network.add(layers.Dense(16, activation = 'tanh', input_shape=(input_sh,)))\n",
    "    network.add(layers.Dropout(dropout))\n",
    "    network.add(layers.Dense(16, activation = 'tanh'))\n",
    "    network.add(layers.Dropout(dropout))\n",
    "    network.add(layers.Dense(1, activation = 'sigmoid'))\n",
    "    return network"
   ]
  },
  {
   "cell_type": "code",
   "execution_count": 10,
   "metadata": {},
   "outputs": [],
   "source": [
    "def run_model(net, train_data, train_target, val_data, val_target, epoch, batch, verbose = 1):\n",
    "    net.compile(\n",
    "        loss = 'binary_crossentropy',\n",
    "        optimizer = 'rmsprop',\n",
    "        metrics = ['accuracy']\n",
    "    )\n",
    "    history = net.fit(\n",
    "        train_data, train_target,\n",
    "        validation_data = (val_data, val_target),\n",
    "        epochs = epoch,\n",
    "        batch_size = batch,\n",
    "        verbose = verbose\n",
    "    )\n",
    "    return history"
   ]
  },
  {
   "cell_type": "code",
   "execution_count": 15,
   "metadata": {},
   "outputs": [
    {
     "name": "stdout",
     "output_type": "stream",
     "text": [
      "Train on 20000 samples, validate on 5000 samples\n",
      "Epoch 1/50\n",
      "20000/20000 [==============================] - 3s 171us/step - loss: 0.4518 - acc: 0.8155 - val_loss: 0.3445 - val_acc: 0.8678\n",
      "Epoch 2/50\n",
      "20000/20000 [==============================] - 3s 143us/step - loss: 0.2471 - acc: 0.9143 - val_loss: 0.2682 - val_acc: 0.8890\n",
      "Epoch 3/50\n",
      "20000/20000 [==============================] - 3s 141us/step - loss: 0.1824 - acc: 0.9340 - val_loss: 0.2732 - val_acc: 0.8908\n",
      "Epoch 4/50\n",
      "20000/20000 [==============================] - 3s 138us/step - loss: 0.1444 - acc: 0.9479 - val_loss: 0.2853 - val_acc: 0.8938\n",
      "Epoch 5/50\n",
      "20000/20000 [==============================] - 3s 136us/step - loss: 0.1187 - acc: 0.9583 - val_loss: 0.3147 - val_acc: 0.8836\n",
      "Epoch 6/50\n",
      "20000/20000 [==============================] - 3s 136us/step - loss: 0.0995 - acc: 0.9657 - val_loss: 0.3764 - val_acc: 0.8756\n",
      "Epoch 7/50\n",
      "20000/20000 [==============================] - 3s 136us/step - loss: 0.0849 - acc: 0.9718 - val_loss: 0.3736 - val_acc: 0.8828\n",
      "Epoch 8/50\n",
      "20000/20000 [==============================] - 3s 139us/step - loss: 0.0753 - acc: 0.9756 - val_loss: 0.4152 - val_acc: 0.8780\n",
      "Epoch 9/50\n",
      "20000/20000 [==============================] - 3s 135us/step - loss: 0.0650 - acc: 0.9794 - val_loss: 0.4583 - val_acc: 0.8732\n",
      "Epoch 10/50\n",
      "20000/20000 [==============================] - 3s 139us/step - loss: 0.0506 - acc: 0.9847 - val_loss: 0.5088 - val_acc: 0.8658\n",
      "Epoch 11/50\n",
      "20000/20000 [==============================] - 3s 145us/step - loss: 0.0475 - acc: 0.9872 - val_loss: 0.5719 - val_acc: 0.8588\n",
      "Epoch 12/50\n",
      "20000/20000 [==============================] - 3s 136us/step - loss: 0.0391 - acc: 0.9888 - val_loss: 0.5834 - val_acc: 0.8654\n",
      "Epoch 13/50\n",
      "20000/20000 [==============================] - 3s 139us/step - loss: 0.0361 - acc: 0.9894 - val_loss: 0.6121 - val_acc: 0.8628\n",
      "Epoch 14/50\n",
      "20000/20000 [==============================] - 3s 139us/step - loss: 0.0299 - acc: 0.9919 - val_loss: 0.6395 - val_acc: 0.8648\n",
      "Epoch 15/50\n",
      "20000/20000 [==============================] - 3s 137us/step - loss: 0.0297 - acc: 0.9922 - val_loss: 0.6718 - val_acc: 0.8614\n",
      "Epoch 16/50\n",
      "20000/20000 [==============================] - 3s 139us/step - loss: 0.0202 - acc: 0.9946 - val_loss: 0.6935 - val_acc: 0.8632\n",
      "Epoch 17/50\n",
      "20000/20000 [==============================] - 3s 138us/step - loss: 0.0216 - acc: 0.9938 - val_loss: 0.7174 - val_acc: 0.8630\n",
      "Epoch 18/50\n",
      "20000/20000 [==============================] - 3s 140us/step - loss: 0.0242 - acc: 0.9942 - val_loss: 0.7537 - val_acc: 0.8634\n",
      "Epoch 19/50\n",
      "20000/20000 [==============================] - 3s 140us/step - loss: 0.0051 - acc: 0.9996 - val_loss: 0.9094 - val_acc: 0.8480\n",
      "Epoch 20/50\n",
      "20000/20000 [==============================] - 3s 138us/step - loss: 0.0118 - acc: 0.9964 - val_loss: 0.8179 - val_acc: 0.8586\n",
      "Epoch 21/50\n",
      "20000/20000 [==============================] - 3s 144us/step - loss: 0.0203 - acc: 0.9946 - val_loss: 0.8366 - val_acc: 0.8598\n",
      "Epoch 22/50\n",
      "20000/20000 [==============================] - 3s 140us/step - loss: 0.0026 - acc: 0.9999 - val_loss: 0.8765 - val_acc: 0.8588\n",
      "Epoch 23/50\n",
      "20000/20000 [==============================] - 3s 139us/step - loss: 0.0156 - acc: 0.9957 - val_loss: 0.9068 - val_acc: 0.8574\n",
      "Epoch 24/50\n",
      "20000/20000 [==============================] - 3s 137us/step - loss: 0.0016 - acc: 0.9999 - val_loss: 0.9453 - val_acc: 0.8572\n",
      "Epoch 25/50\n",
      "20000/20000 [==============================] - 3s 137us/step - loss: 0.0210 - acc: 0.9952 - val_loss: 0.9630 - val_acc: 0.8574\n",
      "Epoch 26/50\n",
      "20000/20000 [==============================] - 3s 140us/step - loss: 9.9857e-04 - acc: 1.0000 - val_loss: 0.9798 - val_acc: 0.8564\n",
      "Epoch 27/50\n",
      "20000/20000 [==============================] - 3s 138us/step - loss: 0.0176 - acc: 0.9961 - val_loss: 1.0016 - val_acc: 0.8554\n",
      "Epoch 28/50\n",
      "20000/20000 [==============================] - 3s 138us/step - loss: 8.7014e-04 - acc: 1.0000 - val_loss: 1.0125 - val_acc: 0.8564\n",
      "Epoch 29/50\n",
      "20000/20000 [==============================] - 3s 140us/step - loss: 7.5675e-04 - acc: 1.0000 - val_loss: 1.0471 - val_acc: 0.8564\n",
      "Epoch 30/50\n",
      "20000/20000 [==============================] - 3s 137us/step - loss: 0.0168 - acc: 0.9960 - val_loss: 1.0572 - val_acc: 0.8556\n",
      "Epoch 31/50\n",
      "20000/20000 [==============================] - 3s 139us/step - loss: 5.4146e-04 - acc: 1.0000 - val_loss: 1.0690 - val_acc: 0.8564\n",
      "Epoch 32/50\n",
      "20000/20000 [==============================] - 3s 139us/step - loss: 0.0114 - acc: 0.9969 - val_loss: 1.0760 - val_acc: 0.8584\n",
      "Epoch 33/50\n",
      "20000/20000 [==============================] - 3s 140us/step - loss: 3.1685e-04 - acc: 1.0000 - val_loss: 1.1093 - val_acc: 0.8566\n",
      "Epoch 34/50\n",
      "20000/20000 [==============================] - 3s 138us/step - loss: 1.1442e-04 - acc: 1.0000 - val_loss: 1.1615 - val_acc: 0.8552\n",
      "Epoch 35/50\n",
      "20000/20000 [==============================] - 3s 138us/step - loss: 0.0125 - acc: 0.9967 - val_loss: 1.1645 - val_acc: 0.8550\n",
      "Epoch 36/50\n",
      "20000/20000 [==============================] - 3s 141us/step - loss: 8.0387e-05 - acc: 1.0000 - val_loss: 1.1748 - val_acc: 0.8544\n",
      "Epoch 37/50\n",
      "20000/20000 [==============================] - 3s 139us/step - loss: 5.2901e-05 - acc: 1.0000 - val_loss: 1.2184 - val_acc: 0.8544\n",
      "Epoch 38/50\n",
      "20000/20000 [==============================] - 3s 141us/step - loss: 0.0140 - acc: 0.9970 - val_loss: 1.2762 - val_acc: 0.8538\n",
      "Epoch 39/50\n",
      "20000/20000 [==============================] - 3s 144us/step - loss: 5.5247e-05 - acc: 1.0000 - val_loss: 1.2864 - val_acc: 0.8526\n",
      "Epoch 40/50\n",
      "20000/20000 [==============================] - 3s 141us/step - loss: 2.4839e-05 - acc: 1.0000 - val_loss: 1.2944 - val_acc: 0.8524\n",
      "Epoch 41/50\n",
      "20000/20000 [==============================] - 3s 138us/step - loss: 1.7857e-05 - acc: 1.0000 - val_loss: 1.3332 - val_acc: 0.8512\n",
      "Epoch 42/50\n",
      "20000/20000 [==============================] - 3s 139us/step - loss: 0.0134 - acc: 0.9970 - val_loss: 1.3700 - val_acc: 0.8562\n",
      "Epoch 43/50\n",
      "20000/20000 [==============================] - 3s 141us/step - loss: 1.1337e-05 - acc: 1.0000 - val_loss: 1.3835 - val_acc: 0.8524\n",
      "Epoch 44/50\n",
      "20000/20000 [==============================] - 3s 143us/step - loss: 8.2567e-06 - acc: 1.0000 - val_loss: 1.3900 - val_acc: 0.8522\n",
      "Epoch 45/50\n",
      "20000/20000 [==============================] - 3s 141us/step - loss: 7.0097e-06 - acc: 1.0000 - val_loss: 1.4123 - val_acc: 0.8514\n",
      "Epoch 46/50\n",
      "20000/20000 [==============================] - 3s 140us/step - loss: 4.9431e-06 - acc: 1.0000 - val_loss: 1.4681 - val_acc: 0.8514\n",
      "Epoch 47/50\n",
      "20000/20000 [==============================] - 3s 139us/step - loss: 0.0174 - acc: 0.9968 - val_loss: 1.5005 - val_acc: 0.8542\n",
      "Epoch 48/50\n",
      "20000/20000 [==============================] - 3s 140us/step - loss: 2.9908e-06 - acc: 1.0000 - val_loss: 1.5109 - val_acc: 0.8524\n",
      "Epoch 49/50\n",
      "20000/20000 [==============================] - 3s 138us/step - loss: 2.5462e-06 - acc: 1.0000 - val_loss: 1.5125 - val_acc: 0.8532\n",
      "Epoch 50/50\n",
      "20000/20000 [==============================] - 3s 142us/step - loss: 2.3774e-06 - acc: 1.0000 - val_loss: 1.5201 - val_acc: 0.8540\n"
     ]
    }
   ],
   "source": [
    "normal_net = build_model(partial_x_train.shape[1])\n",
    "normal_history = run_model(normal_net, partial_x_train, partial_y_train, x_val, y_val, epoch, 512)"
   ]
  },
  {
   "cell_type": "code",
   "execution_count": 16,
   "metadata": {},
   "outputs": [
    {
     "name": "stdout",
     "output_type": "stream",
     "text": [
      "Train on 20000 samples, validate on 5000 samples\n",
      "Epoch 1/50\n",
      "20000/20000 [==============================] - 3s 157us/step - loss: 0.5516 - acc: 0.7458 - val_loss: 0.4007 - val_acc: 0.8648\n",
      "Epoch 2/50\n",
      "20000/20000 [==============================] - 3s 140us/step - loss: 0.3617 - acc: 0.8759 - val_loss: 0.3022 - val_acc: 0.8830\n",
      "Epoch 3/50\n",
      "20000/20000 [==============================] - 3s 140us/step - loss: 0.2709 - acc: 0.9054 - val_loss: 0.2841 - val_acc: 0.8882\n",
      "Epoch 4/50\n",
      "20000/20000 [==============================] - 3s 140us/step - loss: 0.2272 - acc: 0.9231 - val_loss: 0.2789 - val_acc: 0.8918\n",
      "Epoch 5/50\n",
      "20000/20000 [==============================] - 3s 142us/step - loss: 0.1906 - acc: 0.9361 - val_loss: 0.2863 - val_acc: 0.8918\n",
      "Epoch 6/50\n",
      "20000/20000 [==============================] - 3s 141us/step - loss: 0.1660 - acc: 0.9446 - val_loss: 0.2906 - val_acc: 0.8930\n",
      "Epoch 7/50\n",
      "20000/20000 [==============================] - 3s 139us/step - loss: 0.1530 - acc: 0.9509 - val_loss: 0.3342 - val_acc: 0.8852\n",
      "Epoch 8/50\n",
      "20000/20000 [==============================] - 3s 139us/step - loss: 0.1376 - acc: 0.9569 - val_loss: 0.3491 - val_acc: 0.8828\n",
      "Epoch 9/50\n",
      "20000/20000 [==============================] - 3s 138us/step - loss: 0.1306 - acc: 0.9580 - val_loss: 0.3448 - val_acc: 0.8858\n",
      "Epoch 10/50\n",
      "20000/20000 [==============================] - 3s 138us/step - loss: 0.1160 - acc: 0.9642 - val_loss: 0.4018 - val_acc: 0.8764\n",
      "Epoch 11/50\n",
      "20000/20000 [==============================] - 3s 149us/step - loss: 0.1100 - acc: 0.9662 - val_loss: 0.3888 - val_acc: 0.8818\n",
      "Epoch 12/50\n",
      "20000/20000 [==============================] - 3s 141us/step - loss: 0.0981 - acc: 0.9693 - val_loss: 0.4096 - val_acc: 0.8782\n",
      "Epoch 13/50\n",
      "20000/20000 [==============================] - 3s 139us/step - loss: 0.0893 - acc: 0.9728 - val_loss: 0.4603 - val_acc: 0.8694\n",
      "Epoch 14/50\n",
      "20000/20000 [==============================] - 3s 141us/step - loss: 0.0849 - acc: 0.9750 - val_loss: 0.4480 - val_acc: 0.8764\n",
      "Epoch 15/50\n",
      "20000/20000 [==============================] - 3s 144us/step - loss: 0.0783 - acc: 0.9765 - val_loss: 0.4767 - val_acc: 0.8740\n",
      "Epoch 16/50\n",
      "20000/20000 [==============================] - 3s 140us/step - loss: 0.0766 - acc: 0.9763 - val_loss: 0.4824 - val_acc: 0.8750\n",
      "Epoch 17/50\n",
      "20000/20000 [==============================] - 3s 139us/step - loss: 0.0710 - acc: 0.9795 - val_loss: 0.5345 - val_acc: 0.8692\n",
      "Epoch 18/50\n",
      "20000/20000 [==============================] - 3s 142us/step - loss: 0.0624 - acc: 0.9815 - val_loss: 0.5251 - val_acc: 0.8734\n",
      "Epoch 19/50\n",
      "20000/20000 [==============================] - 3s 139us/step - loss: 0.0628 - acc: 0.9829 - val_loss: 0.5468 - val_acc: 0.8726\n",
      "Epoch 20/50\n",
      "20000/20000 [==============================] - 3s 148us/step - loss: 0.0597 - acc: 0.9826 - val_loss: 0.5636 - val_acc: 0.8696\n",
      "Epoch 21/50\n",
      "20000/20000 [==============================] - 3s 140us/step - loss: 0.0548 - acc: 0.9841 - val_loss: 0.5929 - val_acc: 0.8692\n",
      "Epoch 22/50\n",
      "20000/20000 [==============================] - 3s 138us/step - loss: 0.0466 - acc: 0.9876 - val_loss: 0.6233 - val_acc: 0.8674\n",
      "Epoch 23/50\n",
      "20000/20000 [==============================] - 3s 140us/step - loss: 0.0453 - acc: 0.9866 - val_loss: 0.7024 - val_acc: 0.8592\n",
      "Epoch 24/50\n",
      "20000/20000 [==============================] - 3s 136us/step - loss: 0.0457 - acc: 0.9874 - val_loss: 0.6590 - val_acc: 0.8640\n",
      "Epoch 25/50\n",
      "20000/20000 [==============================] - 3s 137us/step - loss: 0.0408 - acc: 0.9891 - val_loss: 0.6791 - val_acc: 0.8672\n",
      "Epoch 26/50\n",
      "20000/20000 [==============================] - 3s 137us/step - loss: 0.0376 - acc: 0.9902 - val_loss: 0.7035 - val_acc: 0.8666\n",
      "Epoch 27/50\n",
      "20000/20000 [==============================] - 3s 143us/step - loss: 0.0388 - acc: 0.9893 - val_loss: 0.7151 - val_acc: 0.8654\n",
      "Epoch 28/50\n",
      "20000/20000 [==============================] - 3s 151us/step - loss: 0.0351 - acc: 0.9898 - val_loss: 0.7574 - val_acc: 0.8622\n",
      "Epoch 29/50\n",
      "20000/20000 [==============================] - 3s 135us/step - loss: 0.0318 - acc: 0.9914 - val_loss: 0.7650 - val_acc: 0.8644\n",
      "Epoch 30/50\n",
      "20000/20000 [==============================] - 3s 136us/step - loss: 0.0299 - acc: 0.9917 - val_loss: 0.7815 - val_acc: 0.8640\n",
      "Epoch 31/50\n",
      "20000/20000 [==============================] - 3s 133us/step - loss: 0.0308 - acc: 0.9919 - val_loss: 0.8168 - val_acc: 0.8612\n",
      "Epoch 32/50\n",
      "20000/20000 [==============================] - 3s 144us/step - loss: 0.0263 - acc: 0.9931 - val_loss: 0.8410 - val_acc: 0.8596\n",
      "Epoch 33/50\n",
      "20000/20000 [==============================] - 3s 152us/step - loss: 0.0239 - acc: 0.9926 - val_loss: 0.8588 - val_acc: 0.8612\n",
      "Epoch 34/50\n",
      "20000/20000 [==============================] - 3s 138us/step - loss: 0.0207 - acc: 0.9939 - val_loss: 0.8980 - val_acc: 0.8600\n",
      "Epoch 35/50\n",
      "20000/20000 [==============================] - 3s 148us/step - loss: 0.0196 - acc: 0.9941 - val_loss: 0.9051 - val_acc: 0.8638\n",
      "Epoch 36/50\n",
      "20000/20000 [==============================] - 3s 141us/step - loss: 0.0212 - acc: 0.9941 - val_loss: 0.9270 - val_acc: 0.8610\n",
      "Epoch 37/50\n",
      "20000/20000 [==============================] - 3s 144us/step - loss: 0.0183 - acc: 0.9955 - val_loss: 0.9876 - val_acc: 0.8550\n",
      "Epoch 38/50\n",
      "20000/20000 [==============================] - 3s 147us/step - loss: 0.0183 - acc: 0.9946 - val_loss: 0.9651 - val_acc: 0.8610\n",
      "Epoch 39/50\n",
      "20000/20000 [==============================] - 3s 141us/step - loss: 0.0141 - acc: 0.9960 - val_loss: 0.9921 - val_acc: 0.8584\n",
      "Epoch 40/50\n",
      "20000/20000 [==============================] - 3s 141us/step - loss: 0.0137 - acc: 0.9961 - val_loss: 1.0199 - val_acc: 0.8598\n",
      "Epoch 41/50\n",
      "20000/20000 [==============================] - 3s 143us/step - loss: 0.0117 - acc: 0.9970 - val_loss: 1.1054 - val_acc: 0.8526\n",
      "Epoch 42/50\n",
      "20000/20000 [==============================] - 3s 146us/step - loss: 0.0144 - acc: 0.9958 - val_loss: 1.0729 - val_acc: 0.8610\n",
      "Epoch 43/50\n",
      "20000/20000 [==============================] - 3s 148us/step - loss: 0.0114 - acc: 0.9972 - val_loss: 1.0869 - val_acc: 0.8594\n",
      "Epoch 44/50\n",
      "20000/20000 [==============================] - 3s 148us/step - loss: 0.0105 - acc: 0.9972 - val_loss: 1.1196 - val_acc: 0.8596\n",
      "Epoch 45/50\n",
      "20000/20000 [==============================] - 3s 149us/step - loss: 0.0130 - acc: 0.9961 - val_loss: 1.1399 - val_acc: 0.8562\n",
      "Epoch 46/50\n",
      "20000/20000 [==============================] - 3s 140us/step - loss: 0.0101 - acc: 0.9976 - val_loss: 1.1613 - val_acc: 0.8566\n",
      "Epoch 47/50\n",
      "20000/20000 [==============================] - 3s 145us/step - loss: 0.0123 - acc: 0.9972 - val_loss: 1.1863 - val_acc: 0.8560\n",
      "Epoch 48/50\n",
      "20000/20000 [==============================] - 3s 141us/step - loss: 0.0081 - acc: 0.9978 - val_loss: 1.2082 - val_acc: 0.8572\n",
      "Epoch 49/50\n",
      "20000/20000 [==============================] - 3s 141us/step - loss: 0.0106 - acc: 0.9973 - val_loss: 1.2171 - val_acc: 0.8568\n",
      "Epoch 50/50\n",
      "20000/20000 [==============================] - 3s 141us/step - loss: 0.0092 - acc: 0.9973 - val_loss: 1.2303 - val_acc: 0.8552\n"
     ]
    }
   ],
   "source": [
    "drop_net = build_model(partial_x_train.shape[1], 0.5)\n",
    "drop_history = run_model(drop_net, partial_x_train, partial_y_train, x_val, y_val, epoch, 512)"
   ]
  },
  {
   "cell_type": "code",
   "execution_count": 17,
   "metadata": {},
   "outputs": [
    {
     "data": {
      "image/png": "[encoded data removed]",
      "text/plain": [
       "<Figure size 432x288 with 1 Axes>"
      ]
     },
     "metadata": {
      "needs_background": "light"
     },
     "output_type": "display_data"
    }
   ],
   "source": [
    "xs = range(1, epoch + 1)[2:]\n",
    "plt.clf()\n",
    "plt.plot(xs, normal_history.history['val_loss'][2:], 'k', label = 'Normal Val Loss')\n",
    "plt.plot(xs, normal_history.history['loss'][2:], 'kP', label = 'Normal Loss')\n",
    "plt.plot(xs, drop_history.history['val_loss'][2:], 'r', label = 'Drop Val Loss')\n",
    "plt.plot(xs, drop_history.history['loss'][2:], 'rP', label = 'Drop Loss')\n",
    "plt.title('Regularization Comparison')\n",
    "plt.xlabel('Epochs')\n",
    "plt.ylabel('Validation Loss And Train Loss')\n",
    "plt.legend()\n",
    "\n",
    "plt.show()"
   ]
  }
 ],
 "metadata": {
  "kernelspec": {
   "display_name": "Python 3",
   "language": "python",
   "name": "python3"
  },
  "language_info": {
   "codemirror_mode": {
    "name": "ipython",
    "version": 3
   },
   "file_extension": ".py",
   "mimetype": "text/x-python",
   "name": "python",
   "nbconvert_exporter": "python",
   "pygments_lexer": "ipython3",
   "version": "3.6.7"
  }
 },
 "nbformat": 4,
 "nbformat_minor": 2
}
